{
 "cells": [
  {
   "cell_type": "markdown",
   "metadata": {},
   "source": [
    "# Cerebral Stroke Prediction using Imbalance dataset"
   ]
  },
  {
   "cell_type": "code",
   "execution_count": null,
   "metadata": {},
   "outputs": [],
   "source": []
  },
  {
   "cell_type": "markdown",
   "metadata": {},
   "source": [
    "#### =======  Let's adjust sampling parameters and see the results  ======="
   ]
  },
  {
   "cell_type": "markdown",
   "metadata": {},
   "source": [
    "## Introduction"
   ]
  },
  {
   "cell_type": "markdown",
   "metadata": {},
   "source": [
    "A stroke, also known as a cerebrovascular accident or CVA is when part of the brain loses its blood supply and the part of the body that the blood-deprived brain cells control stops working. This loss of blood supply can be ischemic because of lack of blood flow, or hemorrhagic because of bleeding into brain tissue. A stroke is a medical emergency because strokes can lead to death or permanent disability. There are opportunities to treat ischemic strokes but that treatment needs to be started in the first few hours after the signs of a stroke begin.\n",
    "\n",
    "Content:\n",
    "\n",
    "The cerebral Stroke dataset consists of 12 features including the target column which is imbalanced.\n",
    "\n",
    "Since the dataset is severely imbalance; we will settle for a conservative strategy of having non-stroke classification accuracy for about 85%"
   ]
  },
  {
   "cell_type": "markdown",
   "metadata": {},
   "source": [
    "## Loading data and libs"
   ]
  },
  {
   "cell_type": "code",
   "execution_count": 338,
   "metadata": {},
   "outputs": [],
   "source": [
    "import warnings\n",
    "warnings.filterwarnings('ignore')\n"
   ]
  },
  {
   "cell_type": "code",
   "execution_count": 339,
   "metadata": {},
   "outputs": [],
   "source": [
    "### Install any package or module that is not installed\n",
    "# Imblearn has been installed earlier\n",
    "# using \" !pip install [module name]\""
   ]
  },
  {
   "cell_type": "code",
   "execution_count": 340,
   "metadata": {},
   "outputs": [
    {
     "name": "stdout",
     "output_type": "stream",
     "text": [
      "1.19.0\n"
     ]
    }
   ],
   "source": [
    "import numpy\n",
    "print(numpy.__version__)"
   ]
  },
  {
   "cell_type": "code",
   "execution_count": null,
   "metadata": {},
   "outputs": [],
   "source": []
  },
  {
   "cell_type": "code",
   "execution_count": 1,
   "metadata": {
    "scrolled": false
   },
   "outputs": [],
   "source": [
    "import numpy as np\n",
    "import random\n",
    "import pandas as pd\n",
    "import seaborn as sns\n",
    "import matplotlib.pyplot as plt\n",
    "from imblearn.over_sampling import RandomOverSampler\n",
    "from imblearn.over_sampling import SMOTE\n",
    "from imblearn.under_sampling import RandomUnderSampler\n",
    "from sklearn.ensemble import RandomForestClassifier\n",
    "from xgboost import XGBClassifier\n",
    "from sklearn.linear_model import RidgeClassifier\n",
    "from sklearn.model_selection import train_test_split\n",
    "from sklearn.metrics import accuracy_score\n"
   ]
  },
  {
   "cell_type": "code",
   "execution_count": null,
   "metadata": {},
   "outputs": [],
   "source": []
  },
  {
   "cell_type": "code",
   "execution_count": 2,
   "metadata": {},
   "outputs": [],
   "source": [
    "pd.set_option('display.max_columns', 60)"
   ]
  },
  {
   "cell_type": "code",
   "execution_count": 3,
   "metadata": {},
   "outputs": [
    {
     "data": {
      "text/html": [
       "<div>\n",
       "<style scoped>\n",
       "    .dataframe tbody tr th:only-of-type {\n",
       "        vertical-align: middle;\n",
       "    }\n",
       "\n",
       "    .dataframe tbody tr th {\n",
       "        vertical-align: top;\n",
       "    }\n",
       "\n",
       "    .dataframe thead th {\n",
       "        text-align: right;\n",
       "    }\n",
       "</style>\n",
       "<table border=\"1\" class=\"dataframe\">\n",
       "  <thead>\n",
       "    <tr style=\"text-align: right;\">\n",
       "      <th></th>\n",
       "      <th>id</th>\n",
       "      <th>gender</th>\n",
       "      <th>age</th>\n",
       "      <th>hypertension</th>\n",
       "      <th>heart_disease</th>\n",
       "      <th>ever_married</th>\n",
       "      <th>work_type</th>\n",
       "      <th>Residence_type</th>\n",
       "      <th>avg_glucose_level</th>\n",
       "      <th>bmi</th>\n",
       "      <th>smoking_status</th>\n",
       "      <th>stroke</th>\n",
       "    </tr>\n",
       "  </thead>\n",
       "  <tbody>\n",
       "    <tr>\n",
       "      <th>0</th>\n",
       "      <td>30669</td>\n",
       "      <td>Male</td>\n",
       "      <td>3.0</td>\n",
       "      <td>0</td>\n",
       "      <td>0</td>\n",
       "      <td>No</td>\n",
       "      <td>children</td>\n",
       "      <td>Rural</td>\n",
       "      <td>95.12</td>\n",
       "      <td>18.0</td>\n",
       "      <td>NaN</td>\n",
       "      <td>0</td>\n",
       "    </tr>\n",
       "    <tr>\n",
       "      <th>1</th>\n",
       "      <td>30468</td>\n",
       "      <td>Male</td>\n",
       "      <td>58.0</td>\n",
       "      <td>1</td>\n",
       "      <td>0</td>\n",
       "      <td>Yes</td>\n",
       "      <td>Private</td>\n",
       "      <td>Urban</td>\n",
       "      <td>87.96</td>\n",
       "      <td>39.2</td>\n",
       "      <td>never smoked</td>\n",
       "      <td>0</td>\n",
       "    </tr>\n",
       "    <tr>\n",
       "      <th>2</th>\n",
       "      <td>16523</td>\n",
       "      <td>Female</td>\n",
       "      <td>8.0</td>\n",
       "      <td>0</td>\n",
       "      <td>0</td>\n",
       "      <td>No</td>\n",
       "      <td>Private</td>\n",
       "      <td>Urban</td>\n",
       "      <td>110.89</td>\n",
       "      <td>17.6</td>\n",
       "      <td>NaN</td>\n",
       "      <td>0</td>\n",
       "    </tr>\n",
       "    <tr>\n",
       "      <th>3</th>\n",
       "      <td>56543</td>\n",
       "      <td>Female</td>\n",
       "      <td>70.0</td>\n",
       "      <td>0</td>\n",
       "      <td>0</td>\n",
       "      <td>Yes</td>\n",
       "      <td>Private</td>\n",
       "      <td>Rural</td>\n",
       "      <td>69.04</td>\n",
       "      <td>35.9</td>\n",
       "      <td>formerly smoked</td>\n",
       "      <td>0</td>\n",
       "    </tr>\n",
       "    <tr>\n",
       "      <th>4</th>\n",
       "      <td>46136</td>\n",
       "      <td>Male</td>\n",
       "      <td>14.0</td>\n",
       "      <td>0</td>\n",
       "      <td>0</td>\n",
       "      <td>No</td>\n",
       "      <td>Never_worked</td>\n",
       "      <td>Rural</td>\n",
       "      <td>161.28</td>\n",
       "      <td>19.1</td>\n",
       "      <td>NaN</td>\n",
       "      <td>0</td>\n",
       "    </tr>\n",
       "    <tr>\n",
       "      <th>5</th>\n",
       "      <td>32257</td>\n",
       "      <td>Female</td>\n",
       "      <td>47.0</td>\n",
       "      <td>0</td>\n",
       "      <td>0</td>\n",
       "      <td>Yes</td>\n",
       "      <td>Private</td>\n",
       "      <td>Urban</td>\n",
       "      <td>210.95</td>\n",
       "      <td>50.1</td>\n",
       "      <td>NaN</td>\n",
       "      <td>0</td>\n",
       "    </tr>\n",
       "    <tr>\n",
       "      <th>6</th>\n",
       "      <td>52800</td>\n",
       "      <td>Female</td>\n",
       "      <td>52.0</td>\n",
       "      <td>0</td>\n",
       "      <td>0</td>\n",
       "      <td>Yes</td>\n",
       "      <td>Private</td>\n",
       "      <td>Urban</td>\n",
       "      <td>77.59</td>\n",
       "      <td>17.7</td>\n",
       "      <td>formerly smoked</td>\n",
       "      <td>0</td>\n",
       "    </tr>\n",
       "    <tr>\n",
       "      <th>7</th>\n",
       "      <td>41413</td>\n",
       "      <td>Female</td>\n",
       "      <td>75.0</td>\n",
       "      <td>0</td>\n",
       "      <td>1</td>\n",
       "      <td>Yes</td>\n",
       "      <td>Self-employed</td>\n",
       "      <td>Rural</td>\n",
       "      <td>243.53</td>\n",
       "      <td>27.0</td>\n",
       "      <td>never smoked</td>\n",
       "      <td>0</td>\n",
       "    </tr>\n",
       "    <tr>\n",
       "      <th>8</th>\n",
       "      <td>15266</td>\n",
       "      <td>Female</td>\n",
       "      <td>32.0</td>\n",
       "      <td>0</td>\n",
       "      <td>0</td>\n",
       "      <td>Yes</td>\n",
       "      <td>Private</td>\n",
       "      <td>Rural</td>\n",
       "      <td>77.67</td>\n",
       "      <td>32.3</td>\n",
       "      <td>smokes</td>\n",
       "      <td>0</td>\n",
       "    </tr>\n",
       "    <tr>\n",
       "      <th>9</th>\n",
       "      <td>28674</td>\n",
       "      <td>Female</td>\n",
       "      <td>74.0</td>\n",
       "      <td>1</td>\n",
       "      <td>0</td>\n",
       "      <td>Yes</td>\n",
       "      <td>Self-employed</td>\n",
       "      <td>Urban</td>\n",
       "      <td>205.84</td>\n",
       "      <td>54.6</td>\n",
       "      <td>never smoked</td>\n",
       "      <td>0</td>\n",
       "    </tr>\n",
       "  </tbody>\n",
       "</table>\n",
       "</div>"
      ],
      "text/plain": [
       "      id  gender   age  hypertension  heart_disease ever_married  \\\n",
       "0  30669    Male   3.0             0              0           No   \n",
       "1  30468    Male  58.0             1              0          Yes   \n",
       "2  16523  Female   8.0             0              0           No   \n",
       "3  56543  Female  70.0             0              0          Yes   \n",
       "4  46136    Male  14.0             0              0           No   \n",
       "5  32257  Female  47.0             0              0          Yes   \n",
       "6  52800  Female  52.0             0              0          Yes   \n",
       "7  41413  Female  75.0             0              1          Yes   \n",
       "8  15266  Female  32.0             0              0          Yes   \n",
       "9  28674  Female  74.0             1              0          Yes   \n",
       "\n",
       "       work_type Residence_type  avg_glucose_level   bmi   smoking_status  \\\n",
       "0       children          Rural              95.12  18.0              NaN   \n",
       "1        Private          Urban              87.96  39.2     never smoked   \n",
       "2        Private          Urban             110.89  17.6              NaN   \n",
       "3        Private          Rural              69.04  35.9  formerly smoked   \n",
       "4   Never_worked          Rural             161.28  19.1              NaN   \n",
       "5        Private          Urban             210.95  50.1              NaN   \n",
       "6        Private          Urban              77.59  17.7  formerly smoked   \n",
       "7  Self-employed          Rural             243.53  27.0     never smoked   \n",
       "8        Private          Rural              77.67  32.3           smokes   \n",
       "9  Self-employed          Urban             205.84  54.6     never smoked   \n",
       "\n",
       "   stroke  \n",
       "0       0  \n",
       "1       0  \n",
       "2       0  \n",
       "3       0  \n",
       "4       0  \n",
       "5       0  \n",
       "6       0  \n",
       "7       0  \n",
       "8       0  \n",
       "9       0  "
      ]
     },
     "execution_count": 3,
     "metadata": {},
     "output_type": "execute_result"
    }
   ],
   "source": [
    "data = pd.read_csv('cerebralStroke.csv')\n",
    "data.head(10)"
   ]
  },
  {
   "cell_type": "code",
   "execution_count": 4,
   "metadata": {},
   "outputs": [
    {
     "data": {
      "text/plain": [
       "(43400, 12)"
      ]
     },
     "execution_count": 4,
     "metadata": {},
     "output_type": "execute_result"
    }
   ],
   "source": [
    "data.shape"
   ]
  },
  {
   "cell_type": "code",
   "execution_count": 5,
   "metadata": {},
   "outputs": [
    {
     "name": "stdout",
     "output_type": "stream",
     "text": [
      "<class 'pandas.core.frame.DataFrame'>\n",
      "RangeIndex: 43400 entries, 0 to 43399\n",
      "Data columns (total 12 columns):\n",
      " #   Column             Non-Null Count  Dtype  \n",
      "---  ------             --------------  -----  \n",
      " 0   id                 43400 non-null  int64  \n",
      " 1   gender             43400 non-null  object \n",
      " 2   age                43400 non-null  float64\n",
      " 3   hypertension       43400 non-null  int64  \n",
      " 4   heart_disease      43400 non-null  int64  \n",
      " 5   ever_married       43400 non-null  object \n",
      " 6   work_type          43400 non-null  object \n",
      " 7   Residence_type     43400 non-null  object \n",
      " 8   avg_glucose_level  43400 non-null  float64\n",
      " 9   bmi                41938 non-null  float64\n",
      " 10  smoking_status     30108 non-null  object \n",
      " 11  stroke             43400 non-null  int64  \n",
      "dtypes: float64(3), int64(4), object(5)\n",
      "memory usage: 4.0+ MB\n"
     ]
    }
   ],
   "source": [
    "data.info() #This will not print with numpy version 1.20.0 ; it only works with lesser but eli5 work with this higer version"
   ]
  },
  {
   "cell_type": "code",
   "execution_count": 6,
   "metadata": {},
   "outputs": [
    {
     "data": {
      "text/plain": [
       "'Dataset contains nulls ?: True'"
      ]
     },
     "execution_count": 6,
     "metadata": {},
     "output_type": "execute_result"
    }
   ],
   "source": [
    "'Dataset contains nulls ?: {}'.format(data.isnull().any().any())"
   ]
  },
  {
   "cell_type": "code",
   "execution_count": 8,
   "metadata": {
    "scrolled": true
   },
   "outputs": [
    {
     "data": {
      "text/plain": [
       "<matplotlib.axes._subplots.AxesSubplot at 0x27f790ad5c8>"
      ]
     },
     "execution_count": 8,
     "metadata": {},
     "output_type": "execute_result"
    },
    {
     "data": {
      "image/png": "[encoded data removed]",
      "text/plain": [
       "<Figure size 432x288 with 1 Axes>"
      ]
     },
     "metadata": {
      "needs_background": "light"
     },
     "output_type": "display_data"
    }
   ],
   "source": [
    "sns.distplot(a=data.stroke, kde=False)"
   ]
  },
  {
   "cell_type": "code",
   "execution_count": 9,
   "metadata": {},
   "outputs": [
    {
     "name": "stdout",
     "output_type": "stream",
     "text": [
      "The percentage of non-stroke data is : 98.2%\n"
     ]
    }
   ],
   "source": [
    "per = ((data['stroke'][data.stroke==0].count())/data.stroke.count())*100\n",
    "print('The percentage of non-stroke data is : {}%'.format(round(per, 2)))"
   ]
  },
  {
   "cell_type": "code",
   "execution_count": 10,
   "metadata": {},
   "outputs": [
    {
     "data": {
      "text/plain": [
       "'Dataset contains nulls ?: False'"
      ]
     },
     "execution_count": 10,
     "metadata": {},
     "output_type": "execute_result"
    }
   ],
   "source": [
    "# dropping NAN\n",
    "\n",
    "data.dropna(inplace=True)\n",
    "\n",
    "'Dataset contains nulls ?: {}'.format(data.isnull().any().any())"
   ]
  },
  {
   "cell_type": "markdown",
   "metadata": {},
   "source": [
    "#### Data preprocessing"
   ]
  },
  {
   "cell_type": "code",
   "execution_count": 11,
   "metadata": {},
   "outputs": [],
   "source": [
    "data = data.drop(labels='id', axis=1)"
   ]
  },
  {
   "cell_type": "code",
   "execution_count": 12,
   "metadata": {},
   "outputs": [],
   "source": [
    "# Replacing values in gender column; Male=1, Female=2 and others=3\n",
    "data[\"gender\"].replace({'Male':1, 'Female':2, 'Other':3}, inplace=True)\n",
    "\n",
    "# Replacing values in ever_married column; Yes=1, No=0\n",
    "data[\"ever_married\"].replace({'Yes':1, 'No':0}, inplace=True)\n",
    "\n",
    "# Replacing values in work_type \n",
    "data[\"work_type\"].replace({'children':1, 'Self-employed':2, 'Private':3, 'Never_worked':4, 'Govt_job':5}, inplace=True)\n",
    "\n",
    "# Replacing values in Residence_type \n",
    "data[\"Residence_type\"].replace({'Rural':1, 'Urban':2}, inplace=True)\n",
    "\n",
    "# Replacing values in smoking_status column\n",
    "data[\"smoking_status\"].replace({'never smoked':0, 'smokes':1, 'formerly smoked':2}, inplace=True)"
   ]
  },
  {
   "cell_type": "code",
   "execution_count": 13,
   "metadata": {},
   "outputs": [
    {
     "data": {
      "text/html": [
       "<div>\n",
       "<style scoped>\n",
       "    .dataframe tbody tr th:only-of-type {\n",
       "        vertical-align: middle;\n",
       "    }\n",
       "\n",
       "    .dataframe tbody tr th {\n",
       "        vertical-align: top;\n",
       "    }\n",
       "\n",
       "    .dataframe thead th {\n",
       "        text-align: right;\n",
       "    }\n",
       "</style>\n",
       "<table border=\"1\" class=\"dataframe\">\n",
       "  <thead>\n",
       "    <tr style=\"text-align: right;\">\n",
       "      <th></th>\n",
       "      <th>gender</th>\n",
       "      <th>age</th>\n",
       "      <th>hypertension</th>\n",
       "      <th>heart_disease</th>\n",
       "      <th>ever_married</th>\n",
       "      <th>work_type</th>\n",
       "      <th>Residence_type</th>\n",
       "      <th>avg_glucose_level</th>\n",
       "      <th>bmi</th>\n",
       "      <th>smoking_status</th>\n",
       "      <th>stroke</th>\n",
       "    </tr>\n",
       "  </thead>\n",
       "  <tbody>\n",
       "    <tr>\n",
       "      <th>1</th>\n",
       "      <td>1</td>\n",
       "      <td>58.0</td>\n",
       "      <td>1</td>\n",
       "      <td>0</td>\n",
       "      <td>1</td>\n",
       "      <td>3</td>\n",
       "      <td>2</td>\n",
       "      <td>87.96</td>\n",
       "      <td>39.2</td>\n",
       "      <td>0</td>\n",
       "      <td>0</td>\n",
       "    </tr>\n",
       "    <tr>\n",
       "      <th>3</th>\n",
       "      <td>2</td>\n",
       "      <td>70.0</td>\n",
       "      <td>0</td>\n",
       "      <td>0</td>\n",
       "      <td>1</td>\n",
       "      <td>3</td>\n",
       "      <td>1</td>\n",
       "      <td>69.04</td>\n",
       "      <td>35.9</td>\n",
       "      <td>2</td>\n",
       "      <td>0</td>\n",
       "    </tr>\n",
       "    <tr>\n",
       "      <th>6</th>\n",
       "      <td>2</td>\n",
       "      <td>52.0</td>\n",
       "      <td>0</td>\n",
       "      <td>0</td>\n",
       "      <td>1</td>\n",
       "      <td>3</td>\n",
       "      <td>2</td>\n",
       "      <td>77.59</td>\n",
       "      <td>17.7</td>\n",
       "      <td>2</td>\n",
       "      <td>0</td>\n",
       "    </tr>\n",
       "    <tr>\n",
       "      <th>7</th>\n",
       "      <td>2</td>\n",
       "      <td>75.0</td>\n",
       "      <td>0</td>\n",
       "      <td>1</td>\n",
       "      <td>1</td>\n",
       "      <td>2</td>\n",
       "      <td>1</td>\n",
       "      <td>243.53</td>\n",
       "      <td>27.0</td>\n",
       "      <td>0</td>\n",
       "      <td>0</td>\n",
       "    </tr>\n",
       "    <tr>\n",
       "      <th>8</th>\n",
       "      <td>2</td>\n",
       "      <td>32.0</td>\n",
       "      <td>0</td>\n",
       "      <td>0</td>\n",
       "      <td>1</td>\n",
       "      <td>3</td>\n",
       "      <td>1</td>\n",
       "      <td>77.67</td>\n",
       "      <td>32.3</td>\n",
       "      <td>1</td>\n",
       "      <td>0</td>\n",
       "    </tr>\n",
       "  </tbody>\n",
       "</table>\n",
       "</div>"
      ],
      "text/plain": [
       "   gender   age  hypertension  heart_disease  ever_married  work_type  \\\n",
       "1       1  58.0             1              0             1          3   \n",
       "3       2  70.0             0              0             1          3   \n",
       "6       2  52.0             0              0             1          3   \n",
       "7       2  75.0             0              1             1          2   \n",
       "8       2  32.0             0              0             1          3   \n",
       "\n",
       "   Residence_type  avg_glucose_level   bmi  smoking_status  stroke  \n",
       "1               2              87.96  39.2               0       0  \n",
       "3               1              69.04  35.9               2       0  \n",
       "6               2              77.59  17.7               2       0  \n",
       "7               1             243.53  27.0               0       0  \n",
       "8               1              77.67  32.3               1       0  "
      ]
     },
     "execution_count": 13,
     "metadata": {},
     "output_type": "execute_result"
    }
   ],
   "source": [
    "data.head()"
   ]
  },
  {
   "cell_type": "code",
   "execution_count": 14,
   "metadata": {},
   "outputs": [
    {
     "data": {
      "text/html": [
       "<div>\n",
       "<style scoped>\n",
       "    .dataframe tbody tr th:only-of-type {\n",
       "        vertical-align: middle;\n",
       "    }\n",
       "\n",
       "    .dataframe tbody tr th {\n",
       "        vertical-align: top;\n",
       "    }\n",
       "\n",
       "    .dataframe thead th {\n",
       "        text-align: right;\n",
       "    }\n",
       "</style>\n",
       "<table border=\"1\" class=\"dataframe\">\n",
       "  <thead>\n",
       "    <tr style=\"text-align: right;\">\n",
       "      <th></th>\n",
       "      <th>gender</th>\n",
       "      <th>age</th>\n",
       "      <th>hypertension</th>\n",
       "      <th>heart_disease</th>\n",
       "      <th>ever_married</th>\n",
       "      <th>work_type</th>\n",
       "      <th>Residence_type</th>\n",
       "      <th>avg_glucose_level</th>\n",
       "      <th>bmi</th>\n",
       "      <th>smoking_status</th>\n",
       "    </tr>\n",
       "    <tr>\n",
       "      <th>stroke</th>\n",
       "      <th></th>\n",
       "      <th></th>\n",
       "      <th></th>\n",
       "      <th></th>\n",
       "      <th></th>\n",
       "      <th></th>\n",
       "      <th></th>\n",
       "      <th></th>\n",
       "      <th></th>\n",
       "      <th></th>\n",
       "    </tr>\n",
       "  </thead>\n",
       "  <tbody>\n",
       "    <tr>\n",
       "      <th>0</th>\n",
       "      <td>28524</td>\n",
       "      <td>28524</td>\n",
       "      <td>28524</td>\n",
       "      <td>28524</td>\n",
       "      <td>28524</td>\n",
       "      <td>28524</td>\n",
       "      <td>28524</td>\n",
       "      <td>28524</td>\n",
       "      <td>28524</td>\n",
       "      <td>28524</td>\n",
       "    </tr>\n",
       "    <tr>\n",
       "      <th>1</th>\n",
       "      <td>548</td>\n",
       "      <td>548</td>\n",
       "      <td>548</td>\n",
       "      <td>548</td>\n",
       "      <td>548</td>\n",
       "      <td>548</td>\n",
       "      <td>548</td>\n",
       "      <td>548</td>\n",
       "      <td>548</td>\n",
       "      <td>548</td>\n",
       "    </tr>\n",
       "  </tbody>\n",
       "</table>\n",
       "</div>"
      ],
      "text/plain": [
       "        gender    age  hypertension  heart_disease  ever_married  work_type  \\\n",
       "stroke                                                                        \n",
       "0        28524  28524         28524          28524         28524      28524   \n",
       "1          548    548           548            548           548        548   \n",
       "\n",
       "        Residence_type  avg_glucose_level    bmi  smoking_status  \n",
       "stroke                                                            \n",
       "0                28524              28524  28524           28524  \n",
       "1                  548                548    548             548  "
      ]
     },
     "execution_count": 14,
     "metadata": {},
     "output_type": "execute_result"
    }
   ],
   "source": [
    "# Initial target classes count\n",
    "data.groupby(\"stroke\").count()"
   ]
  },
  {
   "cell_type": "code",
   "execution_count": 15,
   "metadata": {},
   "outputs": [
    {
     "data": {
      "text/plain": [
       "<matplotlib.axes._subplots.AxesSubplot at 0x27f6dcbc2c8>"
      ]
     },
     "execution_count": 15,
     "metadata": {},
     "output_type": "execute_result"
    },
    {
     "data": {
      "image/png": "[encoded data removed]",
      "text/plain": [
       "<Figure size 720x576 with 2 Axes>"
      ]
     },
     "metadata": {
      "needs_background": "light"
     },
     "output_type": "display_data"
    }
   ],
   "source": [
    "plt.figure(figsize=(10, 8))\n",
    "sns.heatmap(data=data.corr())"
   ]
  },
  {
   "cell_type": "code",
   "execution_count": 16,
   "metadata": {},
   "outputs": [],
   "source": [
    "# Create correlation matrix\n",
    "corr_matrix = data.corr().abs()\n",
    "\n",
    "# Select upper triangle of correlation matrix\n",
    "upper = corr_matrix.where(np.triu(np.ones(corr_matrix.shape), k=1).astype(np.bool))\n",
    "\n",
    "# Find features with correlation greater than 0.95\n",
    "to_drop = [column for column in upper.columns if any(upper[column] > 0.8)]\n",
    "\n",
    "# Drop features \n",
    "data.drop(to_drop, axis=1, inplace=True)"
   ]
  },
  {
   "cell_type": "code",
   "execution_count": 17,
   "metadata": {},
   "outputs": [
    {
     "data": {
      "text/plain": [
       "(29072, 11)"
      ]
     },
     "execution_count": 17,
     "metadata": {},
     "output_type": "execute_result"
    }
   ],
   "source": [
    "data.shape"
   ]
  },
  {
   "cell_type": "markdown",
   "metadata": {},
   "source": [
    "#### Lets adopt exact the codes for African Recession prediction"
   ]
  },
  {
   "cell_type": "markdown",
   "metadata": {},
   "source": [
    "## Model training\n",
    "First, we need to develop a method to correctly measure model accuracy. Since our target variable has a class imbalance, we need something a little bit more complex than simple cross-validation. We'll use the following scheme:\n",
    "\n",
    "- Randomly split data on train and test sets.\n",
    "- Handle class imbalance in train set with one of three available methods: random undersampling, random oversampling or oversampling with SMOTE algorithm.\n",
    "- Train and test the model, separately measuring the accuracy of determining a recession and accuracy of determining the absence of a recession.\n",
    "- Repeat this multiple times and average the results."
   ]
  },
  {
   "cell_type": "markdown",
   "metadata": {},
   "source": [
    "##### Parameter adjusting for under sampler:\n",
    "The under sampled data should not be exactly equal, to avoid overfitting the aim is to under sample the majority class to 50 and 60 percent more than the minority class, depending on how we combine them (hence the sampling_strategy=0.5 or 0.6; in the undersampling code below)"
   ]
  },
  {
   "cell_type": "markdown",
   "metadata": {},
   "source": [
    "##### Parameter adjusting for over sampler:\n",
    "The over sampled data should not be exactly equal, to avoid overfitting the aim is to over sample the minority class to 50 or 60 percent of the majority class depending on how we combine them (hence the sampling_strategy=0.5 or 0.6; in the oversampling code below)"
   ]
  },
  {
   "cell_type": "markdown",
   "metadata": {},
   "source": [
    "#### Main Functions"
   ]
  },
  {
   "cell_type": "code",
   "execution_count": 18,
   "metadata": {},
   "outputs": [],
   "source": [
    "def test_with_tts(model, data, smpl_strat='rusamp', random_state=0):\n",
    "    \n",
    "    X_train, X_test, y_train, y_test = train_test_split(\n",
    "        data.drop('stroke', axis=1), \n",
    "        data.stroke, \n",
    "        random_state=random_state\n",
    "    )\n",
    "    if smpl_strat == 'rusamp':\n",
    "        rus = RandomUnderSampler(sampling_strategy=0.5,random_state=0)\n",
    "        X_resampled, y_resampled = rus.fit_resample(X_train, y_train)\n",
    "    elif smpl_strat == 'rosamp':\n",
    "        ros = RandomOverSampler(sampling_strategy=0.5,random_state=0)\n",
    "        X_resampled, y_resampled = ros.fit_resample(X_train, y_train)\n",
    "    elif smpl_strat == 'smote':\n",
    "        smote = SMOTE(sampling_strategy=0.5,random_state=0)\n",
    "        X_resampled, y_resampled = smote.fit_resample(X_train, y_train)\n",
    "    elif smpl_strat == 'roruSamp':\n",
    "        ros = RandomOverSampler(sampling_strategy=0.5,random_state=0)\n",
    "        rus = RandomUnderSampler(sampling_strategy=0.6,random_state=0)\n",
    "        X_resampled, y_resampled = ros.fit_resample(X_train, y_train)\n",
    "        X_resampled, y_resampled = rus.fit_resample(X_resampled, y_resampled)\n",
    "    elif smpl_strat == 'ruroSamp':\n",
    "        ros = RandomOverSampler(sampling_strategy=0.6,random_state=0)\n",
    "        rus = RandomUnderSampler(sampling_strategy=0.5,random_state=0)\n",
    "        X_resampled, y_resampled = rus.fit_resample(X_train, y_train)\n",
    "        X_resampled, y_resampled = ros.fit_resample(X_resampled, y_resampled)\n",
    "    elif smpl_strat == 'smruSamp':\n",
    "        smote = SMOTE(sampling_strategy=0.5,random_state=0)\n",
    "        rus = RandomUnderSampler(sampling_strategy=0.6,random_state=0)\n",
    "        X_resampled, y_resampled = smote.fit_resample(X_train, y_train)\n",
    "        X_resampled, y_resampled = rus.fit_resample(X_resampled, y_resampled)\n",
    "    elif smpl_strat == 'rusmSamp':\n",
    "        smote = SMOTE(sampling_strategy=0.6,random_state=0)\n",
    "        rus = RandomUnderSampler(sampling_strategy=0.5,random_state=0)\n",
    "        X_resampled, y_resampled = rus.fit_resample(X_train, y_train)\n",
    "        X_resampled, y_resampled = smote.fit_resample(X_resampled, y_resampled)\n",
    "    X_resampled = pd.DataFrame(X_resampled, columns=X_test.columns) \n",
    "    \n",
    "    model.fit(X_resampled, y_resampled)\n",
    "    preds = model.predict(X_test)\n",
    "    y_test.name = 'expected'\n",
    "    results = pd.concat(\n",
    "        [y_test, pd.Series(preds, index=y_test.index, name='got')], \n",
    "        axis=1\n",
    "    )\n",
    "\n",
    "    recessed = results[results.expected == 1]\n",
    "    non_recessed = results[results.expected == 0]\n",
    "    acc_rec = accuracy_score(recessed.expected, recessed.got)\n",
    "    acc_nrec = accuracy_score(non_recessed.expected, non_recessed.got)\n",
    "    \n",
    "    return (acc_rec, acc_nrec)\n",
    "\n",
    "\n",
    "\n",
    "def test_with_mc(n_it, model, data, smpl_strat='rusamp'):\n",
    "    random.seed(0)\n",
    "    \n",
    "    results_rec = []\n",
    "    results_nrec = []\n",
    "    for i in range(n_it):\n",
    "        r_r, r_n = test_with_tts(\n",
    "            model, \n",
    "            data, \n",
    "            smpl_strat, \n",
    "            i*random.randint(0,1e2) # randomises train_test_split\n",
    "        )\n",
    "        results_rec.append(r_r)\n",
    "        results_nrec.append(r_n)\n",
    "    acc_rec = sum(results_rec)/len(results_rec)\n",
    "    acc_nrec = sum(results_nrec)/len(results_nrec)\n",
    "    return (acc_rec, acc_nrec)"
   ]
  },
  {
   "cell_type": "code",
   "execution_count": 20,
   "metadata": {},
   "outputs": [],
   "source": [
    "def print_acc_res(a_r):\n",
    "    print('Stroke classification accuracy: {}%'.format(round(a_r[0], 2)))\n",
    "    print('None-stroke classification accuracy: {}%'.format(round(a_r[1], 2)))"
   ]
  },
  {
   "cell_type": "markdown",
   "metadata": {},
   "source": [
    "Next, let's test some models find which is best-performed. We'll check out XGBoost, RandomForest and Ridge."
   ]
  },
  {
   "cell_type": "markdown",
   "metadata": {},
   "source": [
    "#### XGBClassifier"
   ]
  },
  {
   "cell_type": "code",
   "execution_count": 23,
   "metadata": {},
   "outputs": [
    {
     "name": "stdout",
     "output_type": "stream",
     "text": [
      "Stroke classification accuracy: 0.56%\n",
      "None-stroke classification accuracy: 0.81%\n"
     ]
    }
   ],
   "source": [
    "xgb_us_full = test_with_mc(\n",
    "    20, \n",
    "    XGBClassifier(n_estimators=500, learning_rate=0.05, random_state=0, eval_metric='logloss',use_label_encoder=False), \n",
    "    data, \n",
    "    smpl_strat='rusamp'\n",
    ")\n",
    "\n",
    "print_acc_res(xgb_us_full)"
   ]
  },
  {
   "cell_type": "markdown",
   "metadata": {},
   "source": [
    "Oversampling strategies tend to improve none-recessed-classification accuracy and slightly worsen recessed-classification accuracy, which is a better fit for our success criteria. SMOTE is generally a little bit better than random oversampling."
   ]
  },
  {
   "cell_type": "code",
   "execution_count": 24,
   "metadata": {},
   "outputs": [
    {
     "name": "stdout",
     "output_type": "stream",
     "text": [
      "Stroke classification accuracy: 0.52%\n",
      "None-stroke classification accuracy: 0.86%\n"
     ]
    }
   ],
   "source": [
    "xgb_os_full = test_with_mc(\n",
    "    20, \n",
    "    XGBClassifier(n_estimators=500, learning_rate=0.001, random_state=0, eval_metric='logloss',use_label_encoder=False), \n",
    "    data, \n",
    "    smpl_strat='rosamp'\n",
    ")\n",
    "\n",
    "print_acc_res(xgb_os_full)"
   ]
  },
  {
   "cell_type": "code",
   "execution_count": 25,
   "metadata": {},
   "outputs": [
    {
     "name": "stdout",
     "output_type": "stream",
     "text": [
      "Stroke classification accuracy: 0.36%\n",
      "None-stroke classification accuracy: 0.89%\n"
     ]
    }
   ],
   "source": [
    "xgb_smote_full = test_with_mc(\n",
    "    20, \n",
    "    XGBClassifier(n_estimators=500, learning_rate=0.001, random_state=0, eval_metric='logloss', use_label_encoder=False), \n",
    "    data, \n",
    "    smpl_strat='smote'\n",
    ")\n",
    "\n",
    "print_acc_res(xgb_smote_full)"
   ]
  },
  {
   "cell_type": "markdown",
   "metadata": {},
   "source": [
    "XGBoost (especially with ROS) looks appropriate for our model."
   ]
  },
  {
   "cell_type": "markdown",
   "metadata": {},
   "source": [
    "#### RandomForestClassifier"
   ]
  },
  {
   "cell_type": "code",
   "execution_count": 26,
   "metadata": {},
   "outputs": [
    {
     "name": "stdout",
     "output_type": "stream",
     "text": [
      "Stroke classification accuracy: 0.59%\n",
      "None-stroke classification accuracy: 0.83%\n"
     ]
    }
   ],
   "source": [
    "rf_us_full = test_with_mc(\n",
    "    20, \n",
    "    RandomForestClassifier(random_state=0), \n",
    "    data, \n",
    "    smpl_strat='rusamp'\n",
    ")\n",
    "\n",
    "print_acc_res(rf_us_full)"
   ]
  },
  {
   "cell_type": "code",
   "execution_count": 27,
   "metadata": {},
   "outputs": [
    {
     "name": "stdout",
     "output_type": "stream",
     "text": [
      "Stroke classification accuracy: 0.48%\n",
      "None-stroke classification accuracy: 0.89%\n"
     ]
    }
   ],
   "source": [
    "rf_os_full = test_with_mc(\n",
    "    20, \n",
    "    RandomForestClassifier(max_depth=3, random_state=0), \n",
    "    data, \n",
    "    smpl_strat='rosamp'\n",
    ")\n",
    "\n",
    "print_acc_res(rf_os_full)"
   ]
  },
  {
   "cell_type": "code",
   "execution_count": 28,
   "metadata": {
    "run_control": {
     "marked": false
    }
   },
   "outputs": [
    {
     "name": "stdout",
     "output_type": "stream",
     "text": [
      "Stroke classification accuracy: 0.3%\n",
      "None-stroke classification accuracy: 0.91%\n"
     ]
    }
   ],
   "source": [
    "rf_smote_full = test_with_mc(\n",
    "    20, \n",
    "    RandomForestClassifier(max_depth=3, random_state=0), \n",
    "    data, \n",
    "    smpl_strat='smote'\n",
    ")\n",
    "\n",
    "print_acc_res(rf_smote_full)"
   ]
  },
  {
   "cell_type": "markdown",
   "metadata": {},
   "source": [
    "#### RidgeClassifier"
   ]
  },
  {
   "cell_type": "code",
   "execution_count": 29,
   "metadata": {},
   "outputs": [
    {
     "name": "stdout",
     "output_type": "stream",
     "text": [
      "Stroke classification accuracy: 0.63%\n",
      "None-stroke classification accuracy: 0.85%\n"
     ]
    }
   ],
   "source": [
    "rid_us_full = test_with_mc(\n",
    "    20, \n",
    "    RidgeClassifier(alpha=1.0, random_state=0), \n",
    "    data, \n",
    "    smpl_strat='rusamp'\n",
    ")\n",
    "\n",
    "print_acc_res(rid_us_full)"
   ]
  },
  {
   "cell_type": "code",
   "execution_count": 30,
   "metadata": {},
   "outputs": [
    {
     "name": "stdout",
     "output_type": "stream",
     "text": [
      "Stroke classification accuracy: 0.63%\n",
      "None-stroke classification accuracy: 0.85%\n"
     ]
    }
   ],
   "source": [
    "rid_os_full = test_with_mc(\n",
    "    20, \n",
    "    RidgeClassifier(alpha=1.0, random_state=0), \n",
    "    data, \n",
    "    smpl_strat='rosamp'\n",
    ")\n",
    "\n",
    "print_acc_res(rid_os_full)"
   ]
  },
  {
   "cell_type": "code",
   "execution_count": 31,
   "metadata": {},
   "outputs": [
    {
     "name": "stdout",
     "output_type": "stream",
     "text": [
      "Stroke classification accuracy: 0.38%\n",
      "None-stroke classification accuracy: 0.88%\n"
     ]
    }
   ],
   "source": [
    "rid_smote_full = test_with_mc(\n",
    "    20, \n",
    "    RidgeClassifier(alpha=10.0, random_state=0), \n",
    "    data, \n",
    "    smpl_strat='smote'\n",
    ")\n",
    "\n",
    "print_acc_res(rid_smote_full)"
   ]
  },
  {
   "cell_type": "markdown",
   "metadata": {},
   "source": [
    "#### XGBoost won this stage"
   ]
  },
  {
   "cell_type": "code",
   "execution_count": 103,
   "metadata": {},
   "outputs": [],
   "source": [
    " #====== STOP ======"
   ]
  },
  {
   "cell_type": "markdown",
   "metadata": {},
   "source": [
    "## Applying other methods of resampling both up and down together before passing to our model"
   ]
  },
  {
   "cell_type": "code",
   "execution_count": 104,
   "metadata": {},
   "outputs": [],
   "source": [
    "# Our aim is not to tweeek the model or dataset by any other means to achieve a better accuracies, but by tweeking\n",
    "# the dataset using other advance up and down resampling techniques together to improve the model(that is, by combining the \n",
    "# good effects of but upsampling and downsampling to get a better model; if you like a kind of Ensembling)"
   ]
  },
  {
   "cell_type": "markdown",
   "metadata": {},
   "source": [
    "#### XGBClassifier"
   ]
  },
  {
   "cell_type": "code",
   "execution_count": 32,
   "metadata": {},
   "outputs": [
    {
     "name": "stdout",
     "output_type": "stream",
     "text": [
      "Stroke classification accuracy: 0.17%\n",
      "None-stroke classification accuracy: 0.95%\n"
     ]
    }
   ],
   "source": [
    "# roruSamp - overSampling & UnderSampling\n",
    "\n",
    "xgb_roruSamp = test_with_mc(\n",
    "    20, \n",
    "    XGBClassifier(n_estimators=500, learning_rate=0.05, random_state=0, eval_metric='logloss',use_label_encoder=False),\n",
    "    data, \n",
    "    smpl_strat='roruSamp'\n",
    ")\n",
    "\n",
    "print_acc_res(xgb_roruSamp)"
   ]
  },
  {
   "cell_type": "code",
   "execution_count": 33,
   "metadata": {},
   "outputs": [
    {
     "name": "stdout",
     "output_type": "stream",
     "text": [
      "Stroke classification accuracy: 0.57%\n",
      "None-stroke classification accuracy: 0.81%\n"
     ]
    }
   ],
   "source": [
    "# ruroSamp - UnderSampling & overSampling\n",
    "\n",
    "xgb_ruroSamp = test_with_mc(\n",
    "    20, \n",
    "    XGBClassifier(n_estimators=500, learning_rate=0.05, random_state=0, eval_metric='logloss',use_label_encoder=False),\n",
    "    data, \n",
    "    smpl_strat='ruroSamp'\n",
    ")\n",
    "\n",
    "print_acc_res(xgb_ruroSamp)"
   ]
  },
  {
   "cell_type": "code",
   "execution_count": 34,
   "metadata": {},
   "outputs": [
    {
     "name": "stdout",
     "output_type": "stream",
     "text": [
      "Stroke classification accuracy: 0.06%\n",
      "None-stroke classification accuracy: 0.98%\n"
     ]
    }
   ],
   "source": [
    "# smruSamp - smote & UnderSampling\n",
    "\n",
    "xgb_smruSamp = test_with_mc(\n",
    "    20, \n",
    "    XGBClassifier(n_estimators=500, learning_rate=0.05, random_state=0, eval_metric='logloss',use_label_encoder=False),\n",
    "    data, \n",
    "    smpl_strat='smruSamp'\n",
    ")\n",
    "\n",
    "print_acc_res(xgb_smruSamp)"
   ]
  },
  {
   "cell_type": "code",
   "execution_count": 35,
   "metadata": {},
   "outputs": [
    {
     "name": "stdout",
     "output_type": "stream",
     "text": [
      "Stroke classification accuracy: 0.59%\n",
      "None-stroke classification accuracy: 0.8%\n"
     ]
    }
   ],
   "source": [
    "# rusmSamp - UnderSampling & smote\n",
    "\n",
    "xgb_rusmSamp = test_with_mc(\n",
    "    20, \n",
    "    XGBClassifier(n_estimators=500, learning_rate=0.05, random_state=0, eval_metric='logloss',use_label_encoder=False),\n",
    "    data, \n",
    "    smpl_strat='rusmSamp'\n",
    ")\n",
    "\n",
    "print_acc_res(xgb_rusmSamp)"
   ]
  },
  {
   "cell_type": "markdown",
   "metadata": {},
   "source": [
    "#### RandomForestClassifier"
   ]
  },
  {
   "cell_type": "code",
   "execution_count": 36,
   "metadata": {},
   "outputs": [
    {
     "name": "stdout",
     "output_type": "stream",
     "text": [
      "Stroke classification accuracy: 0.63%\n",
      "None-stroke classification accuracy: 0.84%\n"
     ]
    }
   ],
   "source": [
    "# roruSamp - overSampling & UnderSampling\n",
    "\n",
    "rf_roruSamp = test_with_mc(\n",
    "    20, \n",
    "    RandomForestClassifier(max_depth=3, random_state=0),\n",
    "    data, \n",
    "    smpl_strat='roruSamp'\n",
    ")\n",
    "\n",
    "print_acc_res(rf_roruSamp)"
   ]
  },
  {
   "cell_type": "code",
   "execution_count": 37,
   "metadata": {},
   "outputs": [
    {
     "name": "stdout",
     "output_type": "stream",
     "text": [
      "Stroke classification accuracy: 0.65%\n",
      "None-stroke classification accuracy: 0.83%\n"
     ]
    }
   ],
   "source": [
    "# ruroSamp - UnderSampling & overSampling\n",
    "\n",
    "rf_ruroSamp = test_with_mc(\n",
    "    20, \n",
    "    RandomForestClassifier(max_depth=3, random_state=0),\n",
    "    data, \n",
    "    smpl_strat='ruroSamp'\n",
    ")\n",
    "\n",
    "print_acc_res(rf_ruroSamp)"
   ]
  },
  {
   "cell_type": "code",
   "execution_count": 38,
   "metadata": {},
   "outputs": [
    {
     "name": "stdout",
     "output_type": "stream",
     "text": [
      "Stroke classification accuracy: 0.44%\n",
      "None-stroke classification accuracy: 0.87%\n"
     ]
    }
   ],
   "source": [
    "# smruSamp - smote & UnderSampling\n",
    "\n",
    "rf_smruSamp = test_with_mc(\n",
    "    20, \n",
    "    RandomForestClassifier(max_depth=3, random_state=0),\n",
    "    data, \n",
    "    smpl_strat='smruSamp'\n",
    ")\n",
    "\n",
    "print_acc_res(rf_smruSamp)"
   ]
  },
  {
   "cell_type": "code",
   "execution_count": 39,
   "metadata": {},
   "outputs": [
    {
     "name": "stdout",
     "output_type": "stream",
     "text": [
      "Stroke classification accuracy: 0.64%\n",
      "None-stroke classification accuracy: 0.83%\n"
     ]
    }
   ],
   "source": [
    "# rusmSamp - UnderSampling & smote\n",
    "\n",
    "rf_rusmSamp = test_with_mc(\n",
    "    20, \n",
    "    RandomForestClassifier(max_depth=3, random_state=0),\n",
    "    data, \n",
    "    smpl_strat='rusmSamp'\n",
    ")\n",
    "\n",
    "print_acc_res(rf_rusmSamp)"
   ]
  },
  {
   "cell_type": "markdown",
   "metadata": {},
   "source": [
    "#### RidgeClassifier"
   ]
  },
  {
   "cell_type": "code",
   "execution_count": 40,
   "metadata": {},
   "outputs": [
    {
     "name": "stdout",
     "output_type": "stream",
     "text": [
      "Stroke classification accuracy: 0.7%\n",
      "None-stroke classification accuracy: 0.82%\n"
     ]
    }
   ],
   "source": [
    "# roruSamp - overSampling & UnderSampling\n",
    "\n",
    "rid_roruSamp = test_with_mc(\n",
    "    20, \n",
    "    RidgeClassifier(alpha=1.0, random_state=0),\n",
    "    data, \n",
    "    smpl_strat='roruSamp'\n",
    ")\n",
    "\n",
    "print_acc_res(rid_roruSamp)"
   ]
  },
  {
   "cell_type": "code",
   "execution_count": 41,
   "metadata": {},
   "outputs": [
    {
     "name": "stdout",
     "output_type": "stream",
     "text": [
      "Stroke classification accuracy: 0.7%\n",
      "None-stroke classification accuracy: 0.82%\n"
     ]
    }
   ],
   "source": [
    "# ruroSamp - UnderSampling & overSampling\n",
    "\n",
    "rid_ruroSamp = test_with_mc(\n",
    "    20, \n",
    "    RidgeClassifier(alpha=1.0, random_state=0),\n",
    "    data, \n",
    "    smpl_strat='ruroSamp'\n",
    ")\n",
    "\n",
    "print_acc_res(rid_ruroSamp)"
   ]
  },
  {
   "cell_type": "code",
   "execution_count": 42,
   "metadata": {},
   "outputs": [
    {
     "name": "stdout",
     "output_type": "stream",
     "text": [
      "Stroke classification accuracy: 0.46%\n",
      "None-stroke classification accuracy: 0.85%\n"
     ]
    }
   ],
   "source": [
    "# smruSamp - smote & UnderSampling\n",
    "\n",
    "rid_smruSamp = test_with_mc(\n",
    "    20, \n",
    "    RidgeClassifier(alpha=1.0, random_state=0),\n",
    "    data, \n",
    "    smpl_strat='smruSamp'\n",
    ")\n",
    "\n",
    "print_acc_res(rid_smruSamp)"
   ]
  },
  {
   "cell_type": "code",
   "execution_count": 43,
   "metadata": {},
   "outputs": [
    {
     "name": "stdout",
     "output_type": "stream",
     "text": [
      "Stroke classification accuracy: 0.7%\n",
      "None-stroke classification accuracy: 0.81%\n"
     ]
    }
   ],
   "source": [
    "# rusmSamp - UnderSampling & smote\n",
    "\n",
    "rid_rusmSamp = test_with_mc(\n",
    "    20, \n",
    "    RidgeClassifier(alpha=1.0, random_state=0),\n",
    "    data, \n",
    "    smpl_strat='rusmSamp'\n",
    ")\n",
    "\n",
    "print_acc_res(rid_rusmSamp)"
   ]
  },
  {
   "cell_type": "code",
   "execution_count": 117,
   "metadata": {},
   "outputs": [],
   "source": [
    "# ---- End"
   ]
  },
  {
   "cell_type": "markdown",
   "metadata": {},
   "source": [
    "#### Let's try using one model in combination with python pipeline library"
   ]
  },
  {
   "cell_type": "code",
   "execution_count": 44,
   "metadata": {},
   "outputs": [],
   "source": [
    "from imblearn.pipeline import Pipeline"
   ]
  },
  {
   "cell_type": "code",
   "execution_count": 45,
   "metadata": {},
   "outputs": [],
   "source": [
    "def test_with_tts2(model, data, smpl_strat='rusamp', random_state=0):\n",
    "    \n",
    "    X_train, X_test, y_train, y_test = train_test_split(\n",
    "        data.drop('stroke', axis=1), \n",
    "        data.stroke, \n",
    "        random_state=random_state\n",
    "    )\n",
    "    if smpl_strat == 'roruSamp':\n",
    "        ros = RandomOverSampler(sampling_strategy=0.5,random_state=0)\n",
    "        rus = RandomUnderSampler(sampling_strategy=0.6,random_state=0)\n",
    "        rfc_pipeline = Pipeline(steps = [('o', ros),('u', rus),('model', model)])\n",
    "        \n",
    "    elif smpl_strat == 'ruroSamp':\n",
    "        ros = RandomOverSampler(sampling_strategy=0.6,random_state=0)\n",
    "        rus = RandomUnderSampler(sampling_strategy=0.5,random_state=0)\n",
    "        rfc_pipeline = Pipeline(steps = [('u', rus),('o', ros),('model', model)])\n",
    "      \n",
    "    elif smpl_strat == 'smruSamp':\n",
    "        smote = SMOTE(sampling_strategy=0.5,random_state=0)\n",
    "        rus = RandomUnderSampler(sampling_strategy=0.6,random_state=0)\n",
    "        rfc_pipeline = Pipeline(steps = [('s', smote),('u', rus),('model', model)])\n",
    "        \n",
    "    elif smpl_strat == 'rusmSamp':\n",
    "        smote = SMOTE(sampling_strategy=0.6,random_state=0)\n",
    "        rus = RandomUnderSampler(sampling_strategy=0.5,random_state=0)\n",
    "        rfc_pipeline = Pipeline(steps = [('u', rus),('s', smote),('model', model)])\n",
    "\n",
    "    #X_resampled = pd.DataFrame(X_resampled, columns=X_test.columns) \n",
    "    \n",
    "    rfc_pipeline.fit(X_train, y_train)\n",
    "    preds = rfc_pipeline.predict(X_test)\n",
    "    y_test.name = 'expected'\n",
    "    results = pd.concat(\n",
    "        [y_test, pd.Series(preds, index=y_test.index, name='got')], \n",
    "        axis=1\n",
    "    )\n",
    "\n",
    "    recessed = results[results.expected == 1]\n",
    "    non_recessed = results[results.expected == 0]\n",
    "    acc_rec = accuracy_score(recessed.expected, recessed.got)\n",
    "    acc_nrec = accuracy_score(non_recessed.expected, non_recessed.got)\n",
    "    \n",
    "    return (acc_rec, acc_nrec)\n",
    "\n",
    "\n",
    "\n",
    "def test_with_mc2(n_it, model, data, smpl_strat='rusamp'):\n",
    "    random.seed(0)\n",
    "    \n",
    "    results_rec = []\n",
    "    results_nrec = []\n",
    "    for i in range(n_it):\n",
    "        r_r, r_n = test_with_tts2(\n",
    "            model, \n",
    "            data, \n",
    "            smpl_strat, \n",
    "            i*random.randint(0,1e2) # randomises train_test_split\n",
    "        )\n",
    "        results_rec.append(r_r)\n",
    "        results_nrec.append(r_n)\n",
    "    acc_rec = sum(results_rec)/len(results_rec)\n",
    "    acc_nrec = sum(results_nrec)/len(results_nrec)\n",
    "    return (acc_rec, acc_nrec)"
   ]
  },
  {
   "cell_type": "code",
   "execution_count": 46,
   "metadata": {},
   "outputs": [
    {
     "name": "stdout",
     "output_type": "stream",
     "text": [
      "Stroke classification accuracy: 0.17%\n",
      "None-stroke classification accuracy: 0.95%\n"
     ]
    }
   ],
   "source": [
    "# Since random forest performed well, lets use this\n",
    "\n",
    "# roruSamp - overSampling & UnderSampling\n",
    "\n",
    "rf_roruSamp2 = test_with_mc2(\n",
    "    20, \n",
    "    XGBClassifier(n_estimators=500, learning_rate=0.05, random_state=0, eval_metric='logloss',use_label_encoder=False),\n",
    "    data, \n",
    "    smpl_strat='roruSamp'\n",
    ")\n",
    "\n",
    "print_acc_res(rf_roruSamp2)"
   ]
  },
  {
   "cell_type": "code",
   "execution_count": 47,
   "metadata": {},
   "outputs": [
    {
     "name": "stdout",
     "output_type": "stream",
     "text": [
      "Stroke classification accuracy: 0.57%\n",
      "None-stroke classification accuracy: 0.81%\n"
     ]
    }
   ],
   "source": [
    "# ruroSamp - UnderSampling & overSampling\n",
    "\n",
    "rf_ruroSamp2 = test_with_mc2(\n",
    "    20, \n",
    "    XGBClassifier(n_estimators=500, learning_rate=0.05, random_state=0, eval_metric='logloss',use_label_encoder=False),\n",
    "    data, \n",
    "    smpl_strat='ruroSamp'\n",
    ")\n",
    "\n",
    "print_acc_res(rf_ruroSamp2)"
   ]
  },
  {
   "cell_type": "code",
   "execution_count": 48,
   "metadata": {},
   "outputs": [
    {
     "name": "stdout",
     "output_type": "stream",
     "text": [
      "Stroke classification accuracy: 0.06%\n",
      "None-stroke classification accuracy: 0.98%\n"
     ]
    }
   ],
   "source": [
    "# smruSamp - smote & UnderSampling\n",
    "\n",
    "rf_smruSamp2 = test_with_mc2(\n",
    "    20, \n",
    "    XGBClassifier(n_estimators=500, learning_rate=0.05, random_state=0, eval_metric='logloss',use_label_encoder=False),\n",
    "    data, \n",
    "    smpl_strat='smruSamp'\n",
    ")\n",
    "\n",
    "print_acc_res(rf_smruSamp2)"
   ]
  },
  {
   "cell_type": "code",
   "execution_count": 49,
   "metadata": {},
   "outputs": [
    {
     "name": "stdout",
     "output_type": "stream",
     "text": [
      "Stroke classification accuracy: 0.59%\n",
      "None-stroke classification accuracy: 0.8%\n"
     ]
    }
   ],
   "source": [
    "# rusmSamp - UnderSampling & smote\n",
    "\n",
    "rf_rusmSamp2 = test_with_mc2(\n",
    "    20, \n",
    "    XGBClassifier(n_estimators=500, learning_rate=0.05, random_state=0, eval_metric='logloss',use_label_encoder=False),\n",
    "    data, \n",
    "    smpl_strat='rusmSamp'\n",
    ")\n",
    "\n",
    "print_acc_res(rf_rusmSamp2)"
   ]
  },
  {
   "cell_type": "markdown",
   "metadata": {},
   "source": [
    "#### Let's try to combine the outputs of individual techniques after acting on the original dataset, and not allow the output of one to be the import of the other"
   ]
  },
  {
   "cell_type": "code",
   "execution_count": 127,
   "metadata": {},
   "outputs": [],
   "source": [
    "#=========Trial starts"
   ]
  },
  {
   "cell_type": "code",
   "execution_count": 50,
   "metadata": {},
   "outputs": [],
   "source": [
    "X_train, X_test, y_train, y_test = train_test_split(\n",
    "        data.drop('stroke', axis=1), \n",
    "        data.stroke, \n",
    "        random_state=0\n",
    "    )"
   ]
  },
  {
   "cell_type": "code",
   "execution_count": 51,
   "metadata": {},
   "outputs": [],
   "source": [
    "ros = RandomOverSampler(sampling_strategy=0.5,random_state=0)\n",
    "rus = RandomUnderSampler(sampling_strategy=0.5,random_state=0)\n",
    "\n",
    "X_resampled_ros, y_resampled_ros = ros.fit_resample(X_train, y_train)\n",
    "X_resampled_rus, y_resampled_rus = rus.fit_resample(X_train, y_train)"
   ]
  },
  {
   "cell_type": "code",
   "execution_count": 52,
   "metadata": {},
   "outputs": [
    {
     "data": {
      "text/plain": [
       "((32109, 10), (32109,))"
      ]
     },
     "execution_count": 52,
     "metadata": {},
     "output_type": "execute_result"
    }
   ],
   "source": [
    "X_resampled_ros.shape, y_resampled_ros.shape"
   ]
  },
  {
   "cell_type": "code",
   "execution_count": 53,
   "metadata": {},
   "outputs": [
    {
     "data": {
      "text/plain": [
       "((1194, 10), (1194,))"
      ]
     },
     "execution_count": 53,
     "metadata": {},
     "output_type": "execute_result"
    }
   ],
   "source": [
    "X_resampled_rus.shape, y_resampled_rus.shape"
   ]
  },
  {
   "cell_type": "code",
   "execution_count": 54,
   "metadata": {
    "run_control": {
     "marked": false
    }
   },
   "outputs": [],
   "source": [
    "#X_resampled = X_resampled_ros + X_resampled_rus\n",
    "\n",
    "X_resampled = pd.concat([X_resampled_ros, X_resampled_rus])\n",
    "y_resampled = pd.concat([y_resampled_ros, y_resampled_rus])\n",
    "\n",
    "X_resampled = pd.DataFrame(X_resampled, columns=X_test.columns)"
   ]
  },
  {
   "cell_type": "code",
   "execution_count": 55,
   "metadata": {},
   "outputs": [
    {
     "data": {
      "text/plain": [
       "(33303, 10)"
      ]
     },
     "execution_count": 55,
     "metadata": {},
     "output_type": "execute_result"
    }
   ],
   "source": [
    "X_resampled.shape"
   ]
  },
  {
   "cell_type": "code",
   "execution_count": 56,
   "metadata": {},
   "outputs": [
    {
     "data": {
      "text/plain": [
       "<matplotlib.axes._subplots.AxesSubplot at 0x27f017663c8>"
      ]
     },
     "execution_count": 56,
     "metadata": {},
     "output_type": "execute_result"
    },
    {
     "data": {
      "image/png": "[encoded data removed]",
      "text/plain": [
       "<Figure size 432x288 with 1 Axes>"
      ]
     },
     "metadata": {
      "needs_background": "light"
     },
     "output_type": "display_data"
    }
   ],
   "source": [
    "sns.distplot(a=y_resampled, kde=False)"
   ]
  },
  {
   "cell_type": "code",
   "execution_count": 57,
   "metadata": {},
   "outputs": [],
   "source": [
    "model = XGBClassifier(n_estimators=500, learning_rate=0.05, random_state=0, eval_metric='logloss',use_label_encoder=False)\n",
    "model.fit(X_resampled, y_resampled)\n",
    "preds = model.predict(X_test)\n",
    "y_test.name = 'expected'\n",
    "results = pd.concat([y_test, pd.Series(preds, index=y_test.index, name='got')], axis=1)\n"
   ]
  },
  {
   "cell_type": "code",
   "execution_count": 58,
   "metadata": {},
   "outputs": [],
   "source": [
    "recessed = results[results.expected == 1]\n",
    "non_recessed = results[results.expected == 0]\n",
    "acc_rec = accuracy_score(recessed.expected, recessed.got)\n",
    "acc_nrec = accuracy_score(non_recessed.expected, non_recessed.got)"
   ]
  },
  {
   "cell_type": "code",
   "execution_count": 59,
   "metadata": {},
   "outputs": [
    {
     "data": {
      "text/plain": [
       "(0.15333333333333332, 0.9654397302613094)"
      ]
     },
     "execution_count": 59,
     "metadata": {},
     "output_type": "execute_result"
    }
   ],
   "source": [
    "acc_rec, acc_nrec"
   ]
  },
  {
   "cell_type": "code",
   "execution_count": null,
   "metadata": {},
   "outputs": [],
   "source": []
  },
  {
   "cell_type": "code",
   "execution_count": 60,
   "metadata": {},
   "outputs": [],
   "source": [
    "#=========Trial ends"
   ]
  },
  {
   "cell_type": "code",
   "execution_count": null,
   "metadata": {},
   "outputs": [],
   "source": []
  },
  {
   "cell_type": "markdown",
   "metadata": {},
   "source": [
    "#### Modify our function to do the trial several times and average it"
   ]
  },
  {
   "cell_type": "code",
   "execution_count": 61,
   "metadata": {},
   "outputs": [],
   "source": [
    "def test_with_tts3(model, data, smpl_strat='rusamp', random_state=0):\n",
    "    \n",
    "    X_train, X_test, y_train, y_test = train_test_split(\n",
    "        data.drop('stroke', axis=1), \n",
    "        data.stroke, \n",
    "        random_state=random_state\n",
    "    )\n",
    "    if smpl_strat == 'rusamp':\n",
    "        rus = RandomUnderSampler(sampling_strategy=0.5,random_state=0)\n",
    "        X_resampled, y_resampled = rus.fit_resample(X_train, y_train)\n",
    "    elif smpl_strat == 'rosamp':\n",
    "        ros = RandomOverSampler(sampling_strategy=0.5,random_state=0)\n",
    "        X_resampled, y_resampled = ros.fit_resample(X_train, y_train)\n",
    "    elif smpl_strat == 'smote':\n",
    "        smote = SMOTE(sampling_strategy=0.5,random_state=0)\n",
    "        X_resampled, y_resampled = smote.fit_resample(X_train, y_train)\n",
    "    elif smpl_strat == 'roruSamp':\n",
    "        ros = RandomOverSampler(sampling_strategy=0.5,random_state=0)\n",
    "        rus = RandomUnderSampler(sampling_strategy=0.6,random_state=0)\n",
    "        #rfc_pipeline = Pipeline(steps = [('o', ros),('u', rus),('model', model)])\n",
    "        X_resampled_ros, y_resampled_ros = ros.fit_resample(X_train, y_train)\n",
    "        X_resampled_rus, y_resampled_rus = rus.fit_resample(X_train, y_train)\n",
    "        X_resampled = pd.concat([X_resampled_ros, X_resampled_rus])\n",
    "        y_resampled = pd.concat([y_resampled_ros, y_resampled_rus])\n",
    "    elif smpl_strat == 'ruroSamp':\n",
    "        ros = RandomOverSampler(sampling_strategy=0.6,random_state=0)\n",
    "        rus = RandomUnderSampler(sampling_strategy=0.5,random_state=0)\n",
    "        #rfc_pipeline = Pipeline(steps = [('o', ros),('u', rus),('model', model)])\n",
    "        X_resampled_ros, y_resampled_ros = ros.fit_resample(X_train, y_train)\n",
    "        X_resampled_rus, y_resampled_rus = rus.fit_resample(X_train, y_train)\n",
    "        X_resampled = pd.concat([X_resampled_rus, X_resampled_ros])\n",
    "        y_resampled = pd.concat([y_resampled_rus, y_resampled_ros])\n",
    "    elif smpl_strat == 'smruSamp':\n",
    "        smote = SMOTE(sampling_strategy=0.5,random_state=0)\n",
    "        rus = RandomUnderSampler(sampling_strategy=0.6,random_state=0)\n",
    "        X_resampled_sm, y_resampled_sm = smote.fit_resample(X_train, y_train)\n",
    "        X_resampled_rus, y_resampled_rus = rus.fit_resample(X_train, y_train)\n",
    "        X_resampled = pd.concat([X_resampled_sm, X_resampled_rus])\n",
    "        y_resampled = pd.concat([y_resampled_sm, y_resampled_rus])\n",
    "    elif smpl_strat == 'rusmSamp':\n",
    "        smote = SMOTE(sampling_strategy=0.6,random_state=0)\n",
    "        rus = RandomUnderSampler(sampling_strategy=0.5,random_state=0)\n",
    "        X_resampled_sm, y_resampled_sm = smote.fit_resample(X_train, y_train)\n",
    "        X_resampled_rus, y_resampled_rus = rus.fit_resample(X_train, y_train)\n",
    "        X_resampled = pd.concat([X_resampled_rus, X_resampled_sm])\n",
    "        y_resampled = pd.concat([y_resampled_rus, y_resampled_sm])\n",
    "    X_resampled = pd.DataFrame(X_resampled, columns=X_test.columns) \n",
    "    \n",
    "    \n",
    "    model.fit(X_resampled, y_resampled)\n",
    "    preds = model.predict(X_test)\n",
    "    y_test.name = 'expected'\n",
    "    results = pd.concat(\n",
    "        [y_test, pd.Series(preds, index=y_test.index, name='got')], \n",
    "        axis=1\n",
    "    )\n",
    "\n",
    "    recessed = results[results.expected == 1]\n",
    "    non_recessed = results[results.expected == 0]\n",
    "    acc_rec = accuracy_score(recessed.expected, recessed.got)\n",
    "    acc_nrec = accuracy_score(non_recessed.expected, non_recessed.got)\n",
    "    \n",
    "    return (acc_rec, acc_nrec)\n",
    "\n",
    "\n",
    "\n",
    "def test_with_mc3(n_it, model, data, smpl_strat='rusamp'):\n",
    "    random.seed(0)\n",
    "    \n",
    "    results_rec = []\n",
    "    results_nrec = []\n",
    "    for i in range(n_it):\n",
    "        r_r, r_n = test_with_tts3(\n",
    "            model, \n",
    "            data, \n",
    "            smpl_strat, \n",
    "            i*random.randint(0,1e2) # randomises train_test_split\n",
    "        )\n",
    "        results_rec.append(r_r)\n",
    "        results_nrec.append(r_n)\n",
    "    acc_rec = sum(results_rec)/len(results_rec)\n",
    "    acc_nrec = sum(results_nrec)/len(results_nrec)\n",
    "    return (acc_rec, acc_nrec)"
   ]
  },
  {
   "cell_type": "code",
   "execution_count": 62,
   "metadata": {},
   "outputs": [
    {
     "name": "stdout",
     "output_type": "stream",
     "text": [
      "Stroke classification accuracy: 0.15%\n",
      "None-stroke classification accuracy: 0.96%\n"
     ]
    }
   ],
   "source": [
    "# Since random forest performed well, lets use this\n",
    "\n",
    "# roruSamp - overSampling & UnderSampling\n",
    "\n",
    "rf_roruSamp3 = test_with_mc3(\n",
    "    20, \n",
    "    XGBClassifier(n_estimators=500, learning_rate=0.05, random_state=0, eval_metric='logloss',use_label_encoder=False),\n",
    "    data, \n",
    "    smpl_strat='roruSamp'\n",
    ")\n",
    "\n",
    "print_acc_res(rf_roruSamp3)"
   ]
  },
  {
   "cell_type": "code",
   "execution_count": 63,
   "metadata": {},
   "outputs": [
    {
     "name": "stdout",
     "output_type": "stream",
     "text": [
      "Stroke classification accuracy: 0.16%\n",
      "None-stroke classification accuracy: 0.96%\n"
     ]
    }
   ],
   "source": [
    "# ruroSamp - UnderSampling & overSampling\n",
    "\n",
    "rf_ruroSamp3 = test_with_mc3(\n",
    "    20, \n",
    "    XGBClassifier(n_estimators=500, learning_rate=0.05, random_state=0, eval_metric='logloss',use_label_encoder=False),\n",
    "    data, \n",
    "    smpl_strat='ruroSamp'\n",
    ")\n",
    "\n",
    "print_acc_res(rf_ruroSamp3)"
   ]
  },
  {
   "cell_type": "code",
   "execution_count": 64,
   "metadata": {},
   "outputs": [
    {
     "name": "stdout",
     "output_type": "stream",
     "text": [
      "Stroke classification accuracy: 0.06%\n",
      "None-stroke classification accuracy: 0.99%\n"
     ]
    }
   ],
   "source": [
    "# smruSamp - smote & UnderSampling\n",
    "\n",
    "rf_smruSamp3 = test_with_mc3(\n",
    "    20, \n",
    "    XGBClassifier(n_estimators=500, learning_rate=0.05, random_state=0, eval_metric='logloss',use_label_encoder=False),\n",
    "    data, \n",
    "    smpl_strat='smruSamp'\n",
    ")\n",
    "\n",
    "print_acc_res(rf_smruSamp3)"
   ]
  },
  {
   "cell_type": "code",
   "execution_count": 65,
   "metadata": {},
   "outputs": [
    {
     "name": "stdout",
     "output_type": "stream",
     "text": [
      "Stroke classification accuracy: 0.07%\n",
      "None-stroke classification accuracy: 0.98%\n"
     ]
    }
   ],
   "source": [
    "# rusmSamp - UnderSampling & smote\n",
    "\n",
    "rf_rusmSamp3 = test_with_mc3(\n",
    "    20, \n",
    "    XGBClassifier(n_estimators=500, learning_rate=0.05, random_state=0, eval_metric='logloss',use_label_encoder=False),\n",
    "    data, \n",
    "    smpl_strat='rusmSamp'\n",
    ")\n",
    "\n",
    "print_acc_res(rf_rusmSamp3)"
   ]
  },
  {
   "cell_type": "code",
   "execution_count": null,
   "metadata": {},
   "outputs": [],
   "source": []
  }
 ],
 "metadata": {
  "kernelspec": {
   "display_name": "Python 3",
   "language": "python",
   "name": "python3"
  },
  "language_info": {
   "codemirror_mode": {
    "name": "ipython",
    "version": 3
   },
   "file_extension": ".py",
   "mimetype": "text/x-python",
   "name": "python",
   "nbconvert_exporter": "python",
   "pygments_lexer": "ipython3",
   "version": "3.7.6"
  }
 },
 "nbformat": 4,
 "nbformat_minor": 4
}
