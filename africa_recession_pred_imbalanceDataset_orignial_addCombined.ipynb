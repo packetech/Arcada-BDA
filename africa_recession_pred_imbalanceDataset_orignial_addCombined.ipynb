{
 "cells": [
  {
   "cell_type": "markdown",
   "metadata": {},
   "source": [
    "# Africa Recession Prediction using Imbalance dataset"
   ]
  },
  {
   "cell_type": "code",
   "execution_count": null,
   "metadata": {},
   "outputs": [],
   "source": []
  },
  {
   "cell_type": "markdown",
   "metadata": {},
   "source": [
    "## Introduction"
   ]
  },
  {
   "cell_type": "markdown",
   "metadata": {},
   "source": [
    "Thus, we can say that if you are from a government, investment fund or an international company, it will be very important for you to know whether the economy of the country you are interested in is in a state of recession.\n",
    "\n",
    "A few words about the success criteria of the model. When I've started this analysis, I thought I need to build a model as accurate as possible. However, as we soon will see, imbalance in target variable classes and the small size of a dataset leads us to search for a compromise between the accuracy of determining the recession and the accuracy of determining the absence of a recession. The optimal relationship between them will depend on the cost of the mistake in both cases, which is difficult for me to evaluate due to poor knowledge of the domain. Reflecting on how this model can be used, I settled on a conservative strategy: the accuracy of determining the absence of a recession should be quite high (I would say at least 85%, since it has most of the records), and the accuracy of determining a recession should be as high as possible."
   ]
  },
  {
   "cell_type": "markdown",
   "metadata": {},
   "source": [
    "## Loading data and libs"
   ]
  },
  {
   "cell_type": "code",
   "execution_count": 1,
   "metadata": {},
   "outputs": [],
   "source": [
    "import warnings\n",
    "warnings.filterwarnings('ignore')\n"
   ]
  },
  {
   "cell_type": "code",
   "execution_count": 2,
   "metadata": {},
   "outputs": [],
   "source": [
    "### Install any package or module that is not installed\n",
    "# Imblearn has been installed earlier\n",
    "# using \" !pip install [module name]\""
   ]
  },
  {
   "cell_type": "code",
   "execution_count": 3,
   "metadata": {},
   "outputs": [],
   "source": [
    "#!pip install numpy==1.19.0"
   ]
  },
  {
   "cell_type": "code",
   "execution_count": 4,
   "metadata": {},
   "outputs": [
    {
     "name": "stdout",
     "output_type": "stream",
     "text": [
      "1.19.0\n"
     ]
    }
   ],
   "source": [
    "import numpy\n",
    "print(numpy.__version__)"
   ]
  },
  {
   "cell_type": "code",
   "execution_count": null,
   "metadata": {},
   "outputs": [],
   "source": []
  },
  {
   "cell_type": "code",
   "execution_count": 5,
   "metadata": {
    "scrolled": false
   },
   "outputs": [],
   "source": [
    "import numpy as np\n",
    "import random\n",
    "import pandas as pd\n",
    "import seaborn as sns\n",
    "import matplotlib.pyplot as plt\n",
    "from imblearn.over_sampling import RandomOverSampler\n",
    "from imblearn.over_sampling import SMOTE\n",
    "from imblearn.under_sampling import RandomUnderSampler\n",
    "from sklearn.ensemble import RandomForestClassifier\n",
    "from xgboost import XGBClassifier\n",
    "from sklearn.linear_model import RidgeClassifier\n",
    "from sklearn.model_selection import train_test_split\n",
    "from sklearn.metrics import accuracy_score\n"
   ]
  },
  {
   "cell_type": "code",
   "execution_count": null,
   "metadata": {},
   "outputs": [],
   "source": []
  },
  {
   "cell_type": "code",
   "execution_count": 6,
   "metadata": {},
   "outputs": [],
   "source": [
    "pd.set_option('display.max_columns', 60)"
   ]
  },
  {
   "cell_type": "code",
   "execution_count": 7,
   "metadata": {},
   "outputs": [
    {
     "data": {
      "text/html": [
       "<div>\n",
       "<style scoped>\n",
       "    .dataframe tbody tr th:only-of-type {\n",
       "        vertical-align: middle;\n",
       "    }\n",
       "\n",
       "    .dataframe tbody tr th {\n",
       "        vertical-align: top;\n",
       "    }\n",
       "\n",
       "    .dataframe thead th {\n",
       "        text-align: right;\n",
       "    }\n",
       "</style>\n",
       "<table border=\"1\" class=\"dataframe\">\n",
       "  <thead>\n",
       "    <tr style=\"text-align: right;\">\n",
       "      <th></th>\n",
       "      <th>pop</th>\n",
       "      <th>emp</th>\n",
       "      <th>emp_to_pop_ratio</th>\n",
       "      <th>hc</th>\n",
       "      <th>ccon</th>\n",
       "      <th>cda</th>\n",
       "      <th>cn</th>\n",
       "      <th>ck</th>\n",
       "      <th>ctfp</th>\n",
       "      <th>cwtfp</th>\n",
       "      <th>rconna</th>\n",
       "      <th>rdana</th>\n",
       "      <th>rnna</th>\n",
       "      <th>rkna</th>\n",
       "      <th>rtfpna</th>\n",
       "      <th>rwtfpna</th>\n",
       "      <th>labsh</th>\n",
       "      <th>irr</th>\n",
       "      <th>delta</th>\n",
       "      <th>xr</th>\n",
       "      <th>pl_con</th>\n",
       "      <th>pl_da</th>\n",
       "      <th>pl_gdpo</th>\n",
       "      <th>csh_c</th>\n",
       "      <th>csh_i</th>\n",
       "      <th>csh_g</th>\n",
       "      <th>csh_x</th>\n",
       "      <th>csh_m</th>\n",
       "      <th>csh_r</th>\n",
       "      <th>pl_c</th>\n",
       "      <th>pl_i</th>\n",
       "      <th>pl_g</th>\n",
       "      <th>pl_x</th>\n",
       "      <th>pl_m</th>\n",
       "      <th>pl_n</th>\n",
       "      <th>total</th>\n",
       "      <th>excl_energy</th>\n",
       "      <th>energy</th>\n",
       "      <th>metals_minerals</th>\n",
       "      <th>forestry</th>\n",
       "      <th>agriculture</th>\n",
       "      <th>fish</th>\n",
       "      <th>total_change</th>\n",
       "      <th>excl_energy_change</th>\n",
       "      <th>energy_change</th>\n",
       "      <th>metals_minerals_change</th>\n",
       "      <th>forestry_change</th>\n",
       "      <th>agriculture_change</th>\n",
       "      <th>fish_change</th>\n",
       "      <th>growthbucket</th>\n",
       "    </tr>\n",
       "  </thead>\n",
       "  <tbody>\n",
       "    <tr>\n",
       "      <th>0</th>\n",
       "      <td>28.849621</td>\n",
       "      <td>6.914298</td>\n",
       "      <td>0.239667</td>\n",
       "      <td>1.547767</td>\n",
       "      <td>99010.171880</td>\n",
       "      <td>131991.375000</td>\n",
       "      <td>426543.343800</td>\n",
       "      <td>0.009374</td>\n",
       "      <td>0.648979</td>\n",
       "      <td>0.626111</td>\n",
       "      <td>95642.992190</td>\n",
       "      <td>131823.703100</td>\n",
       "      <td>7.039534e+05</td>\n",
       "      <td>0.512764</td>\n",
       "      <td>1.068518</td>\n",
       "      <td>1.008857</td>\n",
       "      <td>0.483403</td>\n",
       "      <td>0.119199</td>\n",
       "      <td>0.043679</td>\n",
       "      <td>10.625636</td>\n",
       "      <td>0.307452</td>\n",
       "      <td>0.309123</td>\n",
       "      <td>0.295914</td>\n",
       "      <td>0.618509</td>\n",
       "      <td>0.250884</td>\n",
       "      <td>0.134649</td>\n",
       "      <td>0.121411</td>\n",
       "      <td>-0.182028</td>\n",
       "      <td>0.056574</td>\n",
       "      <td>0.289768</td>\n",
       "      <td>0.314139</td>\n",
       "      <td>0.388684</td>\n",
       "      <td>0.465633</td>\n",
       "      <td>0.481975</td>\n",
       "      <td>0.278865</td>\n",
       "      <td>327.86</td>\n",
       "      <td>223.05</td>\n",
       "      <td>769.06</td>\n",
       "      <td>268.89</td>\n",
       "      <td>289.58</td>\n",
       "      <td>149.37</td>\n",
       "      <td>876.46</td>\n",
       "      <td>0.264843</td>\n",
       "      <td>0.012115</td>\n",
       "      <td>0.717188</td>\n",
       "      <td>0.099935</td>\n",
       "      <td>-0.061177</td>\n",
       "      <td>0.073986</td>\n",
       "      <td>0.007576</td>\n",
       "      <td>0</td>\n",
       "    </tr>\n",
       "    <tr>\n",
       "      <th>1</th>\n",
       "      <td>45.728313</td>\n",
       "      <td>13.623806</td>\n",
       "      <td>0.297929</td>\n",
       "      <td>2.086037</td>\n",
       "      <td>316862.656300</td>\n",
       "      <td>374842.343800</td>\n",
       "      <td>804602.250000</td>\n",
       "      <td>0.019658</td>\n",
       "      <td>0.719390</td>\n",
       "      <td>0.657543</td>\n",
       "      <td>308969.156300</td>\n",
       "      <td>379569.906300</td>\n",
       "      <td>1.669636e+06</td>\n",
       "      <td>0.647240</td>\n",
       "      <td>0.973863</td>\n",
       "      <td>0.865942</td>\n",
       "      <td>0.561062</td>\n",
       "      <td>0.108611</td>\n",
       "      <td>0.042740</td>\n",
       "      <td>6.939828</td>\n",
       "      <td>0.348586</td>\n",
       "      <td>0.354220</td>\n",
       "      <td>0.351310</td>\n",
       "      <td>0.670727</td>\n",
       "      <td>0.147136</td>\n",
       "      <td>0.133380</td>\n",
       "      <td>0.135068</td>\n",
       "      <td>-0.130606</td>\n",
       "      <td>0.044295</td>\n",
       "      <td>0.323617</td>\n",
       "      <td>0.385008</td>\n",
       "      <td>0.474147</td>\n",
       "      <td>0.494095</td>\n",
       "      <td>0.520165</td>\n",
       "      <td>0.444091</td>\n",
       "      <td>327.86</td>\n",
       "      <td>223.05</td>\n",
       "      <td>769.06</td>\n",
       "      <td>268.89</td>\n",
       "      <td>289.58</td>\n",
       "      <td>149.37</td>\n",
       "      <td>876.46</td>\n",
       "      <td>0.264843</td>\n",
       "      <td>0.012115</td>\n",
       "      <td>0.717188</td>\n",
       "      <td>0.099935</td>\n",
       "      <td>-0.061177</td>\n",
       "      <td>0.073986</td>\n",
       "      <td>0.007576</td>\n",
       "      <td>0</td>\n",
       "    </tr>\n",
       "    <tr>\n",
       "      <th>2</th>\n",
       "      <td>33.262043</td>\n",
       "      <td>13.323813</td>\n",
       "      <td>0.400571</td>\n",
       "      <td>1.498783</td>\n",
       "      <td>29762.876950</td>\n",
       "      <td>36584.992190</td>\n",
       "      <td>67072.593750</td>\n",
       "      <td>0.001670</td>\n",
       "      <td>0.308652</td>\n",
       "      <td>0.292607</td>\n",
       "      <td>36392.964840</td>\n",
       "      <td>43032.312500</td>\n",
       "      <td>1.616443e+05</td>\n",
       "      <td>0.399972</td>\n",
       "      <td>0.985717</td>\n",
       "      <td>0.816634</td>\n",
       "      <td>0.506038</td>\n",
       "      <td>0.188336</td>\n",
       "      <td>0.045847</td>\n",
       "      <td>800.408508</td>\n",
       "      <td>0.358321</td>\n",
       "      <td>0.357803</td>\n",
       "      <td>0.351029</td>\n",
       "      <td>0.672994</td>\n",
       "      <td>0.183977</td>\n",
       "      <td>0.129643</td>\n",
       "      <td>0.035281</td>\n",
       "      <td>-0.087737</td>\n",
       "      <td>0.065842</td>\n",
       "      <td>0.368704</td>\n",
       "      <td>0.355546</td>\n",
       "      <td>0.304422</td>\n",
       "      <td>0.501278</td>\n",
       "      <td>0.487623</td>\n",
       "      <td>0.350502</td>\n",
       "      <td>327.86</td>\n",
       "      <td>223.05</td>\n",
       "      <td>769.06</td>\n",
       "      <td>268.89</td>\n",
       "      <td>289.58</td>\n",
       "      <td>149.37</td>\n",
       "      <td>876.46</td>\n",
       "      <td>0.264843</td>\n",
       "      <td>0.012115</td>\n",
       "      <td>0.717188</td>\n",
       "      <td>0.099935</td>\n",
       "      <td>-0.061177</td>\n",
       "      <td>0.073986</td>\n",
       "      <td>0.007576</td>\n",
       "      <td>0</td>\n",
       "    </tr>\n",
       "    <tr>\n",
       "      <th>3</th>\n",
       "      <td>8.025703</td>\n",
       "      <td>3.869000</td>\n",
       "      <td>0.482076</td>\n",
       "      <td>1.356151</td>\n",
       "      <td>6488.692871</td>\n",
       "      <td>7006.969727</td>\n",
       "      <td>5790.396973</td>\n",
       "      <td>0.000184</td>\n",
       "      <td>0.205865</td>\n",
       "      <td>0.234643</td>\n",
       "      <td>7096.825195</td>\n",
       "      <td>7673.087891</td>\n",
       "      <td>1.014219e+04</td>\n",
       "      <td>0.450355</td>\n",
       "      <td>0.703341</td>\n",
       "      <td>0.730731</td>\n",
       "      <td>0.741010</td>\n",
       "      <td>0.080584</td>\n",
       "      <td>0.048116</td>\n",
       "      <td>389.696228</td>\n",
       "      <td>0.281181</td>\n",
       "      <td>0.293343</td>\n",
       "      <td>0.293662</td>\n",
       "      <td>0.869283</td>\n",
       "      <td>0.087738</td>\n",
       "      <td>0.229176</td>\n",
       "      <td>0.024138</td>\n",
       "      <td>-0.017928</td>\n",
       "      <td>-0.192408</td>\n",
       "      <td>0.292345</td>\n",
       "      <td>0.445609</td>\n",
       "      <td>0.238837</td>\n",
       "      <td>0.470837</td>\n",
       "      <td>0.511137</td>\n",
       "      <td>0.402848</td>\n",
       "      <td>327.86</td>\n",
       "      <td>223.05</td>\n",
       "      <td>769.06</td>\n",
       "      <td>268.89</td>\n",
       "      <td>289.58</td>\n",
       "      <td>149.37</td>\n",
       "      <td>876.46</td>\n",
       "      <td>0.264843</td>\n",
       "      <td>0.012115</td>\n",
       "      <td>0.717188</td>\n",
       "      <td>0.099935</td>\n",
       "      <td>-0.061177</td>\n",
       "      <td>0.073986</td>\n",
       "      <td>0.007576</td>\n",
       "      <td>0</td>\n",
       "    </tr>\n",
       "    <tr>\n",
       "      <th>4</th>\n",
       "      <td>1.061468</td>\n",
       "      <td>0.243000</td>\n",
       "      <td>0.228928</td>\n",
       "      <td>1.676330</td>\n",
       "      <td>7620.187500</td>\n",
       "      <td>8419.264648</td>\n",
       "      <td>16907.236330</td>\n",
       "      <td>0.000431</td>\n",
       "      <td>0.959765</td>\n",
       "      <td>0.993985</td>\n",
       "      <td>5540.332520</td>\n",
       "      <td>7002.934570</td>\n",
       "      <td>4.100362e+04</td>\n",
       "      <td>1.068165</td>\n",
       "      <td>0.737721</td>\n",
       "      <td>0.752696</td>\n",
       "      <td>0.612079</td>\n",
       "      <td>0.033991</td>\n",
       "      <td>0.057299</td>\n",
       "      <td>6.939828</td>\n",
       "      <td>0.206353</td>\n",
       "      <td>0.235375</td>\n",
       "      <td>0.222508</td>\n",
       "      <td>0.845482</td>\n",
       "      <td>0.102297</td>\n",
       "      <td>0.130042</td>\n",
       "      <td>0.234137</td>\n",
       "      <td>-0.291400</td>\n",
       "      <td>-0.020558</td>\n",
       "      <td>0.200053</td>\n",
       "      <td>0.512144</td>\n",
       "      <td>0.247313</td>\n",
       "      <td>0.487032</td>\n",
       "      <td>0.482645</td>\n",
       "      <td>0.398468</td>\n",
       "      <td>327.86</td>\n",
       "      <td>223.05</td>\n",
       "      <td>769.06</td>\n",
       "      <td>268.89</td>\n",
       "      <td>289.58</td>\n",
       "      <td>149.37</td>\n",
       "      <td>876.46</td>\n",
       "      <td>0.264843</td>\n",
       "      <td>0.012115</td>\n",
       "      <td>0.717188</td>\n",
       "      <td>0.099935</td>\n",
       "      <td>-0.061177</td>\n",
       "      <td>0.073986</td>\n",
       "      <td>0.007576</td>\n",
       "      <td>0</td>\n",
       "    </tr>\n",
       "    <tr>\n",
       "      <th>5</th>\n",
       "      <td>4.970367</td>\n",
       "      <td>2.227000</td>\n",
       "      <td>0.448055</td>\n",
       "      <td>1.703795</td>\n",
       "      <td>5893.620117</td>\n",
       "      <td>6921.736328</td>\n",
       "      <td>13102.988280</td>\n",
       "      <td>0.000326</td>\n",
       "      <td>0.208088</td>\n",
       "      <td>0.216674</td>\n",
       "      <td>5945.256348</td>\n",
       "      <td>7349.799805</td>\n",
       "      <td>3.110390e+04</td>\n",
       "      <td>0.847564</td>\n",
       "      <td>0.959597</td>\n",
       "      <td>0.919949</td>\n",
       "      <td>0.806201</td>\n",
       "      <td>0.010000</td>\n",
       "      <td>0.030199</td>\n",
       "      <td>711.976257</td>\n",
       "      <td>0.224927</td>\n",
       "      <td>0.241299</td>\n",
       "      <td>0.232987</td>\n",
       "      <td>0.789054</td>\n",
       "      <td>0.160960</td>\n",
       "      <td>0.133639</td>\n",
       "      <td>0.058745</td>\n",
       "      <td>-0.108744</td>\n",
       "      <td>-0.033654</td>\n",
       "      <td>0.226153</td>\n",
       "      <td>0.335147</td>\n",
       "      <td>0.217692</td>\n",
       "      <td>0.511657</td>\n",
       "      <td>0.466357</td>\n",
       "      <td>0.390874</td>\n",
       "      <td>327.86</td>\n",
       "      <td>223.05</td>\n",
       "      <td>769.06</td>\n",
       "      <td>268.89</td>\n",
       "      <td>289.58</td>\n",
       "      <td>149.37</td>\n",
       "      <td>876.46</td>\n",
       "      <td>0.264843</td>\n",
       "      <td>0.012115</td>\n",
       "      <td>0.717188</td>\n",
       "      <td>0.099935</td>\n",
       "      <td>-0.061177</td>\n",
       "      <td>0.073986</td>\n",
       "      <td>0.007576</td>\n",
       "      <td>1</td>\n",
       "    </tr>\n",
       "    <tr>\n",
       "      <th>6</th>\n",
       "      <td>11.607942</td>\n",
       "      <td>4.684148</td>\n",
       "      <td>0.403530</td>\n",
       "      <td>1.069451</td>\n",
       "      <td>11611.430660</td>\n",
       "      <td>13619.139650</td>\n",
       "      <td>20373.242190</td>\n",
       "      <td>0.000481</td>\n",
       "      <td>0.373559</td>\n",
       "      <td>0.373653</td>\n",
       "      <td>11284.044920</td>\n",
       "      <td>12426.498050</td>\n",
       "      <td>2.665401e+04</td>\n",
       "      <td>0.414980</td>\n",
       "      <td>0.850378</td>\n",
       "      <td>0.830406</td>\n",
       "      <td>0.599852</td>\n",
       "      <td>0.089187</td>\n",
       "      <td>0.046962</td>\n",
       "      <td>711.976257</td>\n",
       "      <td>0.216256</td>\n",
       "      <td>0.223170</td>\n",
       "      <td>0.201229</td>\n",
       "      <td>0.738974</td>\n",
       "      <td>0.153458</td>\n",
       "      <td>0.148542</td>\n",
       "      <td>0.028177</td>\n",
       "      <td>-0.119656</td>\n",
       "      <td>0.050506</td>\n",
       "      <td>0.203473</td>\n",
       "      <td>0.263156</td>\n",
       "      <td>0.279848</td>\n",
       "      <td>0.498889</td>\n",
       "      <td>0.462195</td>\n",
       "      <td>0.309431</td>\n",
       "      <td>327.86</td>\n",
       "      <td>223.05</td>\n",
       "      <td>769.06</td>\n",
       "      <td>268.89</td>\n",
       "      <td>289.58</td>\n",
       "      <td>149.37</td>\n",
       "      <td>876.46</td>\n",
       "      <td>0.264843</td>\n",
       "      <td>0.012115</td>\n",
       "      <td>0.717188</td>\n",
       "      <td>0.099935</td>\n",
       "      <td>-0.061177</td>\n",
       "      <td>0.073986</td>\n",
       "      <td>0.007576</td>\n",
       "      <td>0</td>\n",
       "    </tr>\n",
       "    <tr>\n",
       "      <th>7</th>\n",
       "      <td>16.440924</td>\n",
       "      <td>7.207795</td>\n",
       "      <td>0.438406</td>\n",
       "      <td>1.296941</td>\n",
       "      <td>18216.638670</td>\n",
       "      <td>31415.113280</td>\n",
       "      <td>215671.937500</td>\n",
       "      <td>0.016438</td>\n",
       "      <td>0.125469</td>\n",
       "      <td>0.107790</td>\n",
       "      <td>31842.476560</td>\n",
       "      <td>51165.156250</td>\n",
       "      <td>5.288266e+05</td>\n",
       "      <td>1.212336</td>\n",
       "      <td>0.429515</td>\n",
       "      <td>0.406239</td>\n",
       "      <td>0.284879</td>\n",
       "      <td>0.054978</td>\n",
       "      <td>0.067504</td>\n",
       "      <td>10.040545</td>\n",
       "      <td>0.493611</td>\n",
       "      <td>0.331733</td>\n",
       "      <td>0.347420</td>\n",
       "      <td>0.277223</td>\n",
       "      <td>0.375627</td>\n",
       "      <td>0.241221</td>\n",
       "      <td>0.591017</td>\n",
       "      <td>-0.083334</td>\n",
       "      <td>-0.401753</td>\n",
       "      <td>0.495396</td>\n",
       "      <td>0.108307</td>\n",
       "      <td>0.491560</td>\n",
       "      <td>0.391757</td>\n",
       "      <td>0.493560</td>\n",
       "      <td>0.111272</td>\n",
       "      <td>327.86</td>\n",
       "      <td>223.05</td>\n",
       "      <td>769.06</td>\n",
       "      <td>268.89</td>\n",
       "      <td>289.58</td>\n",
       "      <td>149.37</td>\n",
       "      <td>876.46</td>\n",
       "      <td>0.264843</td>\n",
       "      <td>0.012115</td>\n",
       "      <td>0.717188</td>\n",
       "      <td>0.099935</td>\n",
       "      <td>-0.061177</td>\n",
       "      <td>0.073986</td>\n",
       "      <td>0.007576</td>\n",
       "      <td>0</td>\n",
       "    </tr>\n",
       "    <tr>\n",
       "      <th>8</th>\n",
       "      <td>9.699197</td>\n",
       "      <td>2.757540</td>\n",
       "      <td>0.284306</td>\n",
       "      <td>1.872125</td>\n",
       "      <td>62296.113280</td>\n",
       "      <td>78025.156250</td>\n",
       "      <td>243171.296900</td>\n",
       "      <td>0.005215</td>\n",
       "      <td>0.770888</td>\n",
       "      <td>0.720987</td>\n",
       "      <td>54945.691410</td>\n",
       "      <td>75973.570310</td>\n",
       "      <td>3.699513e+05</td>\n",
       "      <td>0.628920</td>\n",
       "      <td>0.960166</td>\n",
       "      <td>0.939074</td>\n",
       "      <td>0.513467</td>\n",
       "      <td>0.106086</td>\n",
       "      <td>0.051685</td>\n",
       "      <td>1.370683</td>\n",
       "      <td>0.266385</td>\n",
       "      <td>0.283961</td>\n",
       "      <td>0.267877</td>\n",
       "      <td>0.628702</td>\n",
       "      <td>0.196216</td>\n",
       "      <td>0.148429</td>\n",
       "      <td>0.162495</td>\n",
       "      <td>-0.230511</td>\n",
       "      <td>0.094669</td>\n",
       "      <td>0.258243</td>\n",
       "      <td>0.353574</td>\n",
       "      <td>0.300872</td>\n",
       "      <td>0.449108</td>\n",
       "      <td>0.463550</td>\n",
       "      <td>0.266784</td>\n",
       "      <td>327.86</td>\n",
       "      <td>223.05</td>\n",
       "      <td>769.06</td>\n",
       "      <td>268.89</td>\n",
       "      <td>289.58</td>\n",
       "      <td>149.37</td>\n",
       "      <td>876.46</td>\n",
       "      <td>0.264843</td>\n",
       "      <td>0.012115</td>\n",
       "      <td>0.717188</td>\n",
       "      <td>0.099935</td>\n",
       "      <td>-0.061177</td>\n",
       "      <td>0.073986</td>\n",
       "      <td>0.007576</td>\n",
       "      <td>0</td>\n",
       "    </tr>\n",
       "    <tr>\n",
       "      <th>9</th>\n",
       "      <td>122.352013</td>\n",
       "      <td>39.173996</td>\n",
       "      <td>0.320175</td>\n",
       "      <td>1.459426</td>\n",
       "      <td>56637.386720</td>\n",
       "      <td>63832.070310</td>\n",
       "      <td>153266.375000</td>\n",
       "      <td>0.005017</td>\n",
       "      <td>0.416524</td>\n",
       "      <td>0.208542</td>\n",
       "      <td>274032.687500</td>\n",
       "      <td>312979.625000</td>\n",
       "      <td>1.291939e+06</td>\n",
       "      <td>0.630510</td>\n",
       "      <td>0.611989</td>\n",
       "      <td>0.595371</td>\n",
       "      <td>0.254564</td>\n",
       "      <td>0.158207</td>\n",
       "      <td>0.036961</td>\n",
       "      <td>101.697334</td>\n",
       "      <td>0.774348</td>\n",
       "      <td>0.809089</td>\n",
       "      <td>0.608886</td>\n",
       "      <td>0.431856</td>\n",
       "      <td>0.058730</td>\n",
       "      <td>0.030472</td>\n",
       "      <td>0.550463</td>\n",
       "      <td>-0.094087</td>\n",
       "      <td>0.022566</td>\n",
       "      <td>0.743943</td>\n",
       "      <td>1.082570</td>\n",
       "      <td>1.205253</td>\n",
       "      <td>0.401565</td>\n",
       "      <td>0.504668</td>\n",
       "      <td>1.075420</td>\n",
       "      <td>327.86</td>\n",
       "      <td>223.05</td>\n",
       "      <td>769.06</td>\n",
       "      <td>268.89</td>\n",
       "      <td>289.58</td>\n",
       "      <td>149.37</td>\n",
       "      <td>876.46</td>\n",
       "      <td>0.264843</td>\n",
       "      <td>0.012115</td>\n",
       "      <td>0.717188</td>\n",
       "      <td>0.099935</td>\n",
       "      <td>-0.061177</td>\n",
       "      <td>0.073986</td>\n",
       "      <td>0.007576</td>\n",
       "      <td>0</td>\n",
       "    </tr>\n",
       "  </tbody>\n",
       "</table>\n",
       "</div>"
      ],
      "text/plain": [
       "          pop        emp  emp_to_pop_ratio        hc           ccon  \\\n",
       "0   28.849621   6.914298          0.239667  1.547767   99010.171880   \n",
       "1   45.728313  13.623806          0.297929  2.086037  316862.656300   \n",
       "2   33.262043  13.323813          0.400571  1.498783   29762.876950   \n",
       "3    8.025703   3.869000          0.482076  1.356151    6488.692871   \n",
       "4    1.061468   0.243000          0.228928  1.676330    7620.187500   \n",
       "5    4.970367   2.227000          0.448055  1.703795    5893.620117   \n",
       "6   11.607942   4.684148          0.403530  1.069451   11611.430660   \n",
       "7   16.440924   7.207795          0.438406  1.296941   18216.638670   \n",
       "8    9.699197   2.757540          0.284306  1.872125   62296.113280   \n",
       "9  122.352013  39.173996          0.320175  1.459426   56637.386720   \n",
       "\n",
       "             cda             cn        ck      ctfp     cwtfp         rconna  \\\n",
       "0  131991.375000  426543.343800  0.009374  0.648979  0.626111   95642.992190   \n",
       "1  374842.343800  804602.250000  0.019658  0.719390  0.657543  308969.156300   \n",
       "2   36584.992190   67072.593750  0.001670  0.308652  0.292607   36392.964840   \n",
       "3    7006.969727    5790.396973  0.000184  0.205865  0.234643    7096.825195   \n",
       "4    8419.264648   16907.236330  0.000431  0.959765  0.993985    5540.332520   \n",
       "5    6921.736328   13102.988280  0.000326  0.208088  0.216674    5945.256348   \n",
       "6   13619.139650   20373.242190  0.000481  0.373559  0.373653   11284.044920   \n",
       "7   31415.113280  215671.937500  0.016438  0.125469  0.107790   31842.476560   \n",
       "8   78025.156250  243171.296900  0.005215  0.770888  0.720987   54945.691410   \n",
       "9   63832.070310  153266.375000  0.005017  0.416524  0.208542  274032.687500   \n",
       "\n",
       "           rdana          rnna      rkna    rtfpna   rwtfpna     labsh  \\\n",
       "0  131823.703100  7.039534e+05  0.512764  1.068518  1.008857  0.483403   \n",
       "1  379569.906300  1.669636e+06  0.647240  0.973863  0.865942  0.561062   \n",
       "2   43032.312500  1.616443e+05  0.399972  0.985717  0.816634  0.506038   \n",
       "3    7673.087891  1.014219e+04  0.450355  0.703341  0.730731  0.741010   \n",
       "4    7002.934570  4.100362e+04  1.068165  0.737721  0.752696  0.612079   \n",
       "5    7349.799805  3.110390e+04  0.847564  0.959597  0.919949  0.806201   \n",
       "6   12426.498050  2.665401e+04  0.414980  0.850378  0.830406  0.599852   \n",
       "7   51165.156250  5.288266e+05  1.212336  0.429515  0.406239  0.284879   \n",
       "8   75973.570310  3.699513e+05  0.628920  0.960166  0.939074  0.513467   \n",
       "9  312979.625000  1.291939e+06  0.630510  0.611989  0.595371  0.254564   \n",
       "\n",
       "        irr     delta          xr    pl_con     pl_da   pl_gdpo     csh_c  \\\n",
       "0  0.119199  0.043679   10.625636  0.307452  0.309123  0.295914  0.618509   \n",
       "1  0.108611  0.042740    6.939828  0.348586  0.354220  0.351310  0.670727   \n",
       "2  0.188336  0.045847  800.408508  0.358321  0.357803  0.351029  0.672994   \n",
       "3  0.080584  0.048116  389.696228  0.281181  0.293343  0.293662  0.869283   \n",
       "4  0.033991  0.057299    6.939828  0.206353  0.235375  0.222508  0.845482   \n",
       "5  0.010000  0.030199  711.976257  0.224927  0.241299  0.232987  0.789054   \n",
       "6  0.089187  0.046962  711.976257  0.216256  0.223170  0.201229  0.738974   \n",
       "7  0.054978  0.067504   10.040545  0.493611  0.331733  0.347420  0.277223   \n",
       "8  0.106086  0.051685    1.370683  0.266385  0.283961  0.267877  0.628702   \n",
       "9  0.158207  0.036961  101.697334  0.774348  0.809089  0.608886  0.431856   \n",
       "\n",
       "      csh_i     csh_g     csh_x     csh_m     csh_r      pl_c      pl_i  \\\n",
       "0  0.250884  0.134649  0.121411 -0.182028  0.056574  0.289768  0.314139   \n",
       "1  0.147136  0.133380  0.135068 -0.130606  0.044295  0.323617  0.385008   \n",
       "2  0.183977  0.129643  0.035281 -0.087737  0.065842  0.368704  0.355546   \n",
       "3  0.087738  0.229176  0.024138 -0.017928 -0.192408  0.292345  0.445609   \n",
       "4  0.102297  0.130042  0.234137 -0.291400 -0.020558  0.200053  0.512144   \n",
       "5  0.160960  0.133639  0.058745 -0.108744 -0.033654  0.226153  0.335147   \n",
       "6  0.153458  0.148542  0.028177 -0.119656  0.050506  0.203473  0.263156   \n",
       "7  0.375627  0.241221  0.591017 -0.083334 -0.401753  0.495396  0.108307   \n",
       "8  0.196216  0.148429  0.162495 -0.230511  0.094669  0.258243  0.353574   \n",
       "9  0.058730  0.030472  0.550463 -0.094087  0.022566  0.743943  1.082570   \n",
       "\n",
       "       pl_g      pl_x      pl_m      pl_n   total  excl_energy  energy  \\\n",
       "0  0.388684  0.465633  0.481975  0.278865  327.86       223.05  769.06   \n",
       "1  0.474147  0.494095  0.520165  0.444091  327.86       223.05  769.06   \n",
       "2  0.304422  0.501278  0.487623  0.350502  327.86       223.05  769.06   \n",
       "3  0.238837  0.470837  0.511137  0.402848  327.86       223.05  769.06   \n",
       "4  0.247313  0.487032  0.482645  0.398468  327.86       223.05  769.06   \n",
       "5  0.217692  0.511657  0.466357  0.390874  327.86       223.05  769.06   \n",
       "6  0.279848  0.498889  0.462195  0.309431  327.86       223.05  769.06   \n",
       "7  0.491560  0.391757  0.493560  0.111272  327.86       223.05  769.06   \n",
       "8  0.300872  0.449108  0.463550  0.266784  327.86       223.05  769.06   \n",
       "9  1.205253  0.401565  0.504668  1.075420  327.86       223.05  769.06   \n",
       "\n",
       "   metals_minerals  forestry  agriculture    fish  total_change  \\\n",
       "0           268.89    289.58       149.37  876.46      0.264843   \n",
       "1           268.89    289.58       149.37  876.46      0.264843   \n",
       "2           268.89    289.58       149.37  876.46      0.264843   \n",
       "3           268.89    289.58       149.37  876.46      0.264843   \n",
       "4           268.89    289.58       149.37  876.46      0.264843   \n",
       "5           268.89    289.58       149.37  876.46      0.264843   \n",
       "6           268.89    289.58       149.37  876.46      0.264843   \n",
       "7           268.89    289.58       149.37  876.46      0.264843   \n",
       "8           268.89    289.58       149.37  876.46      0.264843   \n",
       "9           268.89    289.58       149.37  876.46      0.264843   \n",
       "\n",
       "   excl_energy_change  energy_change  metals_minerals_change  forestry_change  \\\n",
       "0            0.012115       0.717188                0.099935        -0.061177   \n",
       "1            0.012115       0.717188                0.099935        -0.061177   \n",
       "2            0.012115       0.717188                0.099935        -0.061177   \n",
       "3            0.012115       0.717188                0.099935        -0.061177   \n",
       "4            0.012115       0.717188                0.099935        -0.061177   \n",
       "5            0.012115       0.717188                0.099935        -0.061177   \n",
       "6            0.012115       0.717188                0.099935        -0.061177   \n",
       "7            0.012115       0.717188                0.099935        -0.061177   \n",
       "8            0.012115       0.717188                0.099935        -0.061177   \n",
       "9            0.012115       0.717188                0.099935        -0.061177   \n",
       "\n",
       "   agriculture_change  fish_change  growthbucket  \n",
       "0            0.073986     0.007576             0  \n",
       "1            0.073986     0.007576             0  \n",
       "2            0.073986     0.007576             0  \n",
       "3            0.073986     0.007576             0  \n",
       "4            0.073986     0.007576             0  \n",
       "5            0.073986     0.007576             1  \n",
       "6            0.073986     0.007576             0  \n",
       "7            0.073986     0.007576             0  \n",
       "8            0.073986     0.007576             0  \n",
       "9            0.073986     0.007576             0  "
      ]
     },
     "execution_count": 7,
     "metadata": {},
     "output_type": "execute_result"
    }
   ],
   "source": [
    "data = pd.read_csv('africaRecession.csv')\n",
    "data.head(10)"
   ]
  },
  {
   "cell_type": "code",
   "execution_count": 8,
   "metadata": {},
   "outputs": [
    {
     "data": {
      "text/plain": [
       "(486, 50)"
      ]
     },
     "execution_count": 8,
     "metadata": {},
     "output_type": "execute_result"
    }
   ],
   "source": [
    "data.shape"
   ]
  },
  {
   "cell_type": "code",
   "execution_count": 9,
   "metadata": {},
   "outputs": [
    {
     "name": "stdout",
     "output_type": "stream",
     "text": [
      "<class 'pandas.core.frame.DataFrame'>\n",
      "RangeIndex: 486 entries, 0 to 485\n",
      "Data columns (total 50 columns):\n",
      " #   Column                  Non-Null Count  Dtype  \n",
      "---  ------                  --------------  -----  \n",
      " 0   pop                     486 non-null    float64\n",
      " 1   emp                     486 non-null    float64\n",
      " 2   emp_to_pop_ratio        486 non-null    float64\n",
      " 3   hc                      486 non-null    float64\n",
      " 4   ccon                    486 non-null    float64\n",
      " 5   cda                     486 non-null    float64\n",
      " 6   cn                      486 non-null    float64\n",
      " 7   ck                      486 non-null    float64\n",
      " 8   ctfp                    486 non-null    float64\n",
      " 9   cwtfp                   486 non-null    float64\n",
      " 10  rconna                  486 non-null    float64\n",
      " 11  rdana                   486 non-null    float64\n",
      " 12  rnna                    486 non-null    float64\n",
      " 13  rkna                    486 non-null    float64\n",
      " 14  rtfpna                  486 non-null    float64\n",
      " 15  rwtfpna                 486 non-null    float64\n",
      " 16  labsh                   486 non-null    float64\n",
      " 17  irr                     486 non-null    float64\n",
      " 18  delta                   486 non-null    float64\n",
      " 19  xr                      486 non-null    float64\n",
      " 20  pl_con                  486 non-null    float64\n",
      " 21  pl_da                   486 non-null    float64\n",
      " 22  pl_gdpo                 486 non-null    float64\n",
      " 23  csh_c                   486 non-null    float64\n",
      " 24  csh_i                   486 non-null    float64\n",
      " 25  csh_g                   486 non-null    float64\n",
      " 26  csh_x                   486 non-null    float64\n",
      " 27  csh_m                   486 non-null    float64\n",
      " 28  csh_r                   486 non-null    float64\n",
      " 29  pl_c                    486 non-null    float64\n",
      " 30  pl_i                    486 non-null    float64\n",
      " 31  pl_g                    486 non-null    float64\n",
      " 32  pl_x                    486 non-null    float64\n",
      " 33  pl_m                    486 non-null    float64\n",
      " 34  pl_n                    486 non-null    float64\n",
      " 35  total                   486 non-null    float64\n",
      " 36  excl_energy             486 non-null    float64\n",
      " 37  energy                  486 non-null    float64\n",
      " 38  metals_minerals         486 non-null    float64\n",
      " 39  forestry                486 non-null    float64\n",
      " 40  agriculture             486 non-null    float64\n",
      " 41  fish                    486 non-null    float64\n",
      " 42  total_change            486 non-null    float64\n",
      " 43  excl_energy_change      486 non-null    float64\n",
      " 44  energy_change           486 non-null    float64\n",
      " 45  metals_minerals_change  486 non-null    float64\n",
      " 46  forestry_change         486 non-null    float64\n",
      " 47  agriculture_change      486 non-null    float64\n",
      " 48  fish_change             486 non-null    float64\n",
      " 49  growthbucket            486 non-null    int64  \n",
      "dtypes: float64(49), int64(1)\n",
      "memory usage: 190.0 KB\n"
     ]
    }
   ],
   "source": [
    "data.info() #This will not print with numpy version 1.20.0 ; it only works with lesser but eli5 work with this higer version"
   ]
  },
  {
   "cell_type": "code",
   "execution_count": 10,
   "metadata": {
    "run_control": {
     "marked": false
    }
   },
   "outputs": [],
   "source": [
    "# do manually restart kernel and refresh or reload this notebook after running this cell\n",
    "# Then run again all above cell except data.info() cell and this cell\n",
    "\n",
    "\n",
    "#!pip install numpy==1.19.0\n"
   ]
  },
  {
   "cell_type": "code",
   "execution_count": 11,
   "metadata": {},
   "outputs": [],
   "source": [
    "# print(np.__version__)"
   ]
  },
  {
   "cell_type": "code",
   "execution_count": 12,
   "metadata": {},
   "outputs": [
    {
     "data": {
      "text/plain": [
       "'Dataset contains nulls ?: False'"
      ]
     },
     "execution_count": 12,
     "metadata": {},
     "output_type": "execute_result"
    }
   ],
   "source": [
    "'Dataset contains nulls ?: {}'.format(data.isnull().any().any())"
   ]
  },
  {
   "cell_type": "code",
   "execution_count": 13,
   "metadata": {
    "scrolled": true
   },
   "outputs": [
    {
     "data": {
      "text/plain": [
       "<matplotlib.axes._subplots.AxesSubplot at 0x27af0174288>"
      ]
     },
     "execution_count": 13,
     "metadata": {},
     "output_type": "execute_result"
    },
    {
     "data": {
      "image/png": "[encoded data removed]",
      "text/plain": [
       "<Figure size 432x288 with 1 Axes>"
      ]
     },
     "metadata": {
      "needs_background": "light"
     },
     "output_type": "display_data"
    }
   ],
   "source": [
    "sns.distplot(a=data.growthbucket, kde=False)"
   ]
  },
  {
   "cell_type": "code",
   "execution_count": 14,
   "metadata": {},
   "outputs": [
    {
     "name": "stdout",
     "output_type": "stream",
     "text": [
      "The percentage of non-recessed data is : 92.18%\n"
     ]
    }
   ],
   "source": [
    "per = ((data['growthbucket'][data.growthbucket==0].count())/data.growthbucket.count())*100\n",
    "print('The percentage of non-recessed data is : {}%'.format(round(per, 2)))"
   ]
  },
  {
   "cell_type": "code",
   "execution_count": 15,
   "metadata": {},
   "outputs": [
    {
     "data": {
      "text/html": [
       "<div>\n",
       "<style scoped>\n",
       "    .dataframe tbody tr th:only-of-type {\n",
       "        vertical-align: middle;\n",
       "    }\n",
       "\n",
       "    .dataframe tbody tr th {\n",
       "        vertical-align: top;\n",
       "    }\n",
       "\n",
       "    .dataframe thead th {\n",
       "        text-align: right;\n",
       "    }\n",
       "</style>\n",
       "<table border=\"1\" class=\"dataframe\">\n",
       "  <thead>\n",
       "    <tr style=\"text-align: right;\">\n",
       "      <th></th>\n",
       "      <th>pop</th>\n",
       "      <th>emp</th>\n",
       "      <th>emp_to_pop_ratio</th>\n",
       "      <th>hc</th>\n",
       "      <th>ccon</th>\n",
       "      <th>cda</th>\n",
       "      <th>cn</th>\n",
       "      <th>ck</th>\n",
       "      <th>ctfp</th>\n",
       "      <th>cwtfp</th>\n",
       "      <th>rconna</th>\n",
       "      <th>rdana</th>\n",
       "      <th>rnna</th>\n",
       "      <th>rkna</th>\n",
       "      <th>rtfpna</th>\n",
       "      <th>rwtfpna</th>\n",
       "      <th>labsh</th>\n",
       "      <th>irr</th>\n",
       "      <th>delta</th>\n",
       "      <th>xr</th>\n",
       "      <th>pl_con</th>\n",
       "      <th>pl_da</th>\n",
       "      <th>pl_gdpo</th>\n",
       "      <th>csh_c</th>\n",
       "      <th>csh_i</th>\n",
       "      <th>csh_g</th>\n",
       "      <th>csh_x</th>\n",
       "      <th>csh_m</th>\n",
       "      <th>csh_r</th>\n",
       "      <th>pl_c</th>\n",
       "      <th>pl_i</th>\n",
       "      <th>pl_g</th>\n",
       "      <th>pl_x</th>\n",
       "      <th>pl_m</th>\n",
       "      <th>pl_n</th>\n",
       "      <th>total</th>\n",
       "      <th>excl_energy</th>\n",
       "      <th>energy</th>\n",
       "      <th>metals_minerals</th>\n",
       "      <th>forestry</th>\n",
       "      <th>agriculture</th>\n",
       "      <th>fish</th>\n",
       "      <th>total_change</th>\n",
       "      <th>excl_energy_change</th>\n",
       "      <th>energy_change</th>\n",
       "      <th>metals_minerals_change</th>\n",
       "      <th>forestry_change</th>\n",
       "      <th>agriculture_change</th>\n",
       "      <th>fish_change</th>\n",
       "    </tr>\n",
       "    <tr>\n",
       "      <th>growthbucket</th>\n",
       "      <th></th>\n",
       "      <th></th>\n",
       "      <th></th>\n",
       "      <th></th>\n",
       "      <th></th>\n",
       "      <th></th>\n",
       "      <th></th>\n",
       "      <th></th>\n",
       "      <th></th>\n",
       "      <th></th>\n",
       "      <th></th>\n",
       "      <th></th>\n",
       "      <th></th>\n",
       "      <th></th>\n",
       "      <th></th>\n",
       "      <th></th>\n",
       "      <th></th>\n",
       "      <th></th>\n",
       "      <th></th>\n",
       "      <th></th>\n",
       "      <th></th>\n",
       "      <th></th>\n",
       "      <th></th>\n",
       "      <th></th>\n",
       "      <th></th>\n",
       "      <th></th>\n",
       "      <th></th>\n",
       "      <th></th>\n",
       "      <th></th>\n",
       "      <th></th>\n",
       "      <th></th>\n",
       "      <th></th>\n",
       "      <th></th>\n",
       "      <th></th>\n",
       "      <th></th>\n",
       "      <th></th>\n",
       "      <th></th>\n",
       "      <th></th>\n",
       "      <th></th>\n",
       "      <th></th>\n",
       "      <th></th>\n",
       "      <th></th>\n",
       "      <th></th>\n",
       "      <th></th>\n",
       "      <th></th>\n",
       "      <th></th>\n",
       "      <th></th>\n",
       "      <th></th>\n",
       "      <th></th>\n",
       "    </tr>\n",
       "  </thead>\n",
       "  <tbody>\n",
       "    <tr>\n",
       "      <th>0</th>\n",
       "      <td>448</td>\n",
       "      <td>448</td>\n",
       "      <td>448</td>\n",
       "      <td>448</td>\n",
       "      <td>448</td>\n",
       "      <td>448</td>\n",
       "      <td>448</td>\n",
       "      <td>448</td>\n",
       "      <td>448</td>\n",
       "      <td>448</td>\n",
       "      <td>448</td>\n",
       "      <td>448</td>\n",
       "      <td>448</td>\n",
       "      <td>448</td>\n",
       "      <td>448</td>\n",
       "      <td>448</td>\n",
       "      <td>448</td>\n",
       "      <td>448</td>\n",
       "      <td>448</td>\n",
       "      <td>448</td>\n",
       "      <td>448</td>\n",
       "      <td>448</td>\n",
       "      <td>448</td>\n",
       "      <td>448</td>\n",
       "      <td>448</td>\n",
       "      <td>448</td>\n",
       "      <td>448</td>\n",
       "      <td>448</td>\n",
       "      <td>448</td>\n",
       "      <td>448</td>\n",
       "      <td>448</td>\n",
       "      <td>448</td>\n",
       "      <td>448</td>\n",
       "      <td>448</td>\n",
       "      <td>448</td>\n",
       "      <td>448</td>\n",
       "      <td>448</td>\n",
       "      <td>448</td>\n",
       "      <td>448</td>\n",
       "      <td>448</td>\n",
       "      <td>448</td>\n",
       "      <td>448</td>\n",
       "      <td>448</td>\n",
       "      <td>448</td>\n",
       "      <td>448</td>\n",
       "      <td>448</td>\n",
       "      <td>448</td>\n",
       "      <td>448</td>\n",
       "      <td>448</td>\n",
       "    </tr>\n",
       "    <tr>\n",
       "      <th>1</th>\n",
       "      <td>38</td>\n",
       "      <td>38</td>\n",
       "      <td>38</td>\n",
       "      <td>38</td>\n",
       "      <td>38</td>\n",
       "      <td>38</td>\n",
       "      <td>38</td>\n",
       "      <td>38</td>\n",
       "      <td>38</td>\n",
       "      <td>38</td>\n",
       "      <td>38</td>\n",
       "      <td>38</td>\n",
       "      <td>38</td>\n",
       "      <td>38</td>\n",
       "      <td>38</td>\n",
       "      <td>38</td>\n",
       "      <td>38</td>\n",
       "      <td>38</td>\n",
       "      <td>38</td>\n",
       "      <td>38</td>\n",
       "      <td>38</td>\n",
       "      <td>38</td>\n",
       "      <td>38</td>\n",
       "      <td>38</td>\n",
       "      <td>38</td>\n",
       "      <td>38</td>\n",
       "      <td>38</td>\n",
       "      <td>38</td>\n",
       "      <td>38</td>\n",
       "      <td>38</td>\n",
       "      <td>38</td>\n",
       "      <td>38</td>\n",
       "      <td>38</td>\n",
       "      <td>38</td>\n",
       "      <td>38</td>\n",
       "      <td>38</td>\n",
       "      <td>38</td>\n",
       "      <td>38</td>\n",
       "      <td>38</td>\n",
       "      <td>38</td>\n",
       "      <td>38</td>\n",
       "      <td>38</td>\n",
       "      <td>38</td>\n",
       "      <td>38</td>\n",
       "      <td>38</td>\n",
       "      <td>38</td>\n",
       "      <td>38</td>\n",
       "      <td>38</td>\n",
       "      <td>38</td>\n",
       "    </tr>\n",
       "  </tbody>\n",
       "</table>\n",
       "</div>"
      ],
      "text/plain": [
       "              pop  emp  emp_to_pop_ratio   hc  ccon  cda   cn   ck  ctfp  \\\n",
       "growthbucket                                                               \n",
       "0             448  448               448  448   448  448  448  448   448   \n",
       "1              38   38                38   38    38   38   38   38    38   \n",
       "\n",
       "              cwtfp  rconna  rdana  rnna  rkna  rtfpna  rwtfpna  labsh  irr  \\\n",
       "growthbucket                                                                  \n",
       "0               448     448    448   448   448     448      448    448  448   \n",
       "1                38      38     38    38    38      38       38     38   38   \n",
       "\n",
       "              delta   xr  pl_con  pl_da  pl_gdpo  csh_c  csh_i  csh_g  csh_x  \\\n",
       "growthbucket                                                                   \n",
       "0               448  448     448    448      448    448    448    448    448   \n",
       "1                38   38      38     38       38     38     38     38     38   \n",
       "\n",
       "              csh_m  csh_r  pl_c  pl_i  pl_g  pl_x  pl_m  pl_n  total  \\\n",
       "growthbucket                                                            \n",
       "0               448    448   448   448   448   448   448   448    448   \n",
       "1                38     38    38    38    38    38    38    38     38   \n",
       "\n",
       "              excl_energy  energy  metals_minerals  forestry  agriculture  \\\n",
       "growthbucket                                                                \n",
       "0                     448     448              448       448          448   \n",
       "1                      38      38               38        38           38   \n",
       "\n",
       "              fish  total_change  excl_energy_change  energy_change  \\\n",
       "growthbucket                                                          \n",
       "0              448           448                 448            448   \n",
       "1               38            38                  38             38   \n",
       "\n",
       "              metals_minerals_change  forestry_change  agriculture_change  \\\n",
       "growthbucket                                                                \n",
       "0                                448              448                 448   \n",
       "1                                 38               38                  38   \n",
       "\n",
       "              fish_change  \n",
       "growthbucket               \n",
       "0                     448  \n",
       "1                      38  "
      ]
     },
     "execution_count": 15,
     "metadata": {},
     "output_type": "execute_result"
    }
   ],
   "source": [
    "# Initial target classes count\n",
    "data.groupby(\"growthbucket\").count()"
   ]
  },
  {
   "cell_type": "code",
   "execution_count": 16,
   "metadata": {},
   "outputs": [
    {
     "data": {
      "text/plain": [
       "<matplotlib.axes._subplots.AxesSubplot at 0x27af7af1dc8>"
      ]
     },
     "execution_count": 16,
     "metadata": {},
     "output_type": "execute_result"
    },
    {
     "data": {
      "image/png": "[encoded data removed]",
      "text/plain": [
       "<Figure size 1080x936 with 2 Axes>"
      ]
     },
     "metadata": {
      "needs_background": "light"
     },
     "output_type": "display_data"
    }
   ],
   "source": [
    "plt.figure(figsize=(15, 13))\n",
    "sns.heatmap(data=data.corr())"
   ]
  },
  {
   "cell_type": "code",
   "execution_count": 17,
   "metadata": {},
   "outputs": [],
   "source": [
    "# Create correlation matrix\n",
    "corr_matrix = data.corr().abs()\n",
    "\n",
    "# Select upper triangle of correlation matrix\n",
    "upper = corr_matrix.where(np.triu(np.ones(corr_matrix.shape), k=1).astype(np.bool))\n",
    "\n",
    "# Find features with correlation greater than 0.85\n",
    "to_drop = [column for column in upper.columns if any(upper[column] > 0.85)]\n",
    "\n",
    "# Drop features \n",
    "data.drop(to_drop, axis=1, inplace=True)"
   ]
  },
  {
   "cell_type": "code",
   "execution_count": 18,
   "metadata": {},
   "outputs": [
    {
     "data": {
      "text/plain": [
       "(486, 34)"
      ]
     },
     "execution_count": 18,
     "metadata": {},
     "output_type": "execute_result"
    }
   ],
   "source": [
    "data.shape"
   ]
  },
  {
   "cell_type": "markdown",
   "metadata": {},
   "source": [
    "## Model training\n",
    "First, we need to develop a method to correctly measure model accuracy. Since our target variable has a class imbalance, we need something a little bit more complex than simple cross-validation. We'll use the following scheme:\n",
    "\n",
    "- Randomly split data on train and test sets.\n",
    "- Handle class imbalance in train set with one of three available methods: random undersampling, random oversampling or oversampling with SMOTE algorithm.\n",
    "- Train and test the model, separately measuring the accuracy of determining a recession and accuracy of determining the absence of a recession.\n",
    "- Repeat this multiple times and average the results."
   ]
  },
  {
   "cell_type": "markdown",
   "metadata": {},
   "source": [
    "#### Main Functions"
   ]
  },
  {
   "cell_type": "code",
   "execution_count": 19,
   "metadata": {},
   "outputs": [],
   "source": [
    "def test_with_tts(model, data, smpl_strat='rusamp', random_state=0):\n",
    "    \n",
    "    X_train, X_test, y_train, y_test = train_test_split(\n",
    "        data.drop('growthbucket', axis=1), \n",
    "        data.growthbucket, \n",
    "        random_state=random_state\n",
    "    )\n",
    "    if smpl_strat == 'rusamp':\n",
    "        rus = RandomUnderSampler(random_state=0)\n",
    "        X_resampled, y_resampled = rus.fit_resample(X_train, y_train)\n",
    "    elif smpl_strat == 'rosamp':\n",
    "        ros = RandomOverSampler(random_state=0)\n",
    "        X_resampled, y_resampled = ros.fit_resample(X_train, y_train)\n",
    "    elif smpl_strat == 'smote':\n",
    "        smote = SMOTE(random_state=0)\n",
    "        X_resampled, y_resampled = smote.fit_resample(X_train, y_train)\n",
    "    elif smpl_strat == 'roruSamp':\n",
    "        ros = RandomOverSampler(random_state=0)\n",
    "        rus = RandomUnderSampler(random_state=0)\n",
    "        X_resampled, y_resampled = ros.fit_resample(X_train, y_train)\n",
    "        X_resampled, y_resampled = rus.fit_resample(X_resampled, y_resampled)\n",
    "    elif smpl_strat == 'ruroSamp':\n",
    "        ros = RandomOverSampler(random_state=0)\n",
    "        rus = RandomUnderSampler(random_state=0)\n",
    "        X_resampled, y_resampled = rus.fit_resample(X_train, y_train)\n",
    "        X_resampled, y_resampled = ros.fit_resample(X_resampled, y_resampled)\n",
    "    elif smpl_strat == 'smruSamp':\n",
    "        smote = SMOTE(random_state=0)\n",
    "        rus = RandomUnderSampler(random_state=0)\n",
    "        X_resampled, y_resampled = smote.fit_resample(X_train, y_train)\n",
    "        X_resampled, y_resampled = rus.fit_resample(X_resampled, y_resampled)\n",
    "    elif smpl_strat == 'rusmSamp':\n",
    "        smote = SMOTE(random_state=0)\n",
    "        rus = RandomUnderSampler(random_state=0)\n",
    "        X_resampled, y_resampled = rus.fit_resample(X_train, y_train)\n",
    "        X_resampled, y_resampled = smote.fit_resample(X_resampled, y_resampled)\n",
    "    X_resampled = pd.DataFrame(X_resampled, columns=X_test.columns) \n",
    "    \n",
    "    model.fit(X_resampled, y_resampled)\n",
    "    preds = model.predict(X_test)\n",
    "    y_test.name = 'expected'\n",
    "    results = pd.concat(\n",
    "        [y_test, pd.Series(preds, index=y_test.index, name='got')], \n",
    "        axis=1\n",
    "    )\n",
    "\n",
    "    recessed = results[results.expected == 1]\n",
    "    non_recessed = results[results.expected == 0]\n",
    "    acc_rec = accuracy_score(recessed.expected, recessed.got)\n",
    "    acc_nrec = accuracy_score(non_recessed.expected, non_recessed.got)\n",
    "    \n",
    "    return (acc_rec, acc_nrec)\n",
    "\n",
    "\n",
    "\n",
    "def test_with_mc(n_it, model, data, smpl_strat='rusamp'):\n",
    "    random.seed(0)\n",
    "    \n",
    "    results_rec = []\n",
    "    results_nrec = []\n",
    "    for i in range(n_it):\n",
    "        r_r, r_n = test_with_tts(\n",
    "            model, \n",
    "            data, \n",
    "            smpl_strat, \n",
    "            i*random.randint(0,1e2) # randomises train_test_split\n",
    "        )\n",
    "        results_rec.append(r_r)\n",
    "        results_nrec.append(r_n)\n",
    "    acc_rec = sum(results_rec)/len(results_rec)\n",
    "    acc_nrec = sum(results_nrec)/len(results_nrec)\n",
    "    return (acc_rec, acc_nrec)"
   ]
  },
  {
   "cell_type": "code",
   "execution_count": 20,
   "metadata": {},
   "outputs": [],
   "source": [
    "def print_acc_res(a_r):\n",
    "    print('Recessed classification accuracy: {}%'.format(round(a_r[0], 2)))\n",
    "    print('None-recessed classification accuracy: {}%'.format(round(a_r[1], 2)))"
   ]
  },
  {
   "cell_type": "markdown",
   "metadata": {},
   "source": [
    "Next, let's test some models find which is best-performed. We'll check out XGBoost, RandomForest and Ridge.\n",
    "\n",
    "Random undersampling is a simple and easy-to-understand strategy. However, in this particular case, it left us with less than 80 rows in the dataset, which leads to low none-recessed-classification accuracy. Even if recessed-classification accuracy is good (and it usually is) this does not fit our success criteria."
   ]
  },
  {
   "cell_type": "markdown",
   "metadata": {},
   "source": [
    "#### XGBClassifier"
   ]
  },
  {
   "cell_type": "code",
   "execution_count": 21,
   "metadata": {},
   "outputs": [
    {
     "name": "stdout",
     "output_type": "stream",
     "text": [
      "Recessed classification accuracy: 0.66%\n",
      "None-recessed classification accuracy: 0.64%\n"
     ]
    }
   ],
   "source": [
    "xgb_us_full = test_with_mc(\n",
    "    20, \n",
    "    XGBClassifier(n_estimators=500, learning_rate=0.05, random_state=0, eval_metric='logloss'), \n",
    "    data, \n",
    "    smpl_strat='rusamp'\n",
    ")\n",
    "\n",
    "print_acc_res(xgb_us_full)"
   ]
  },
  {
   "cell_type": "markdown",
   "metadata": {},
   "source": [
    "Oversampling strategies tend to improve none-recessed-classification accuracy and slightly worsen recessed-classification accuracy, which is a better fit for our success criteria. SMOTE is generally a little bit better than random oversampling."
   ]
  },
  {
   "cell_type": "code",
   "execution_count": 22,
   "metadata": {},
   "outputs": [
    {
     "name": "stdout",
     "output_type": "stream",
     "text": [
      "Recessed classification accuracy: 0.33%\n",
      "None-recessed classification accuracy: 0.9%\n"
     ]
    }
   ],
   "source": [
    "xgb_os_full = test_with_mc(\n",
    "    20, \n",
    "    XGBClassifier(n_estimators=500, learning_rate=0.001, random_state=0, eval_metric='logloss'), \n",
    "    data, \n",
    "    smpl_strat='rosamp'\n",
    ")\n",
    "\n",
    "print_acc_res(xgb_os_full)"
   ]
  },
  {
   "cell_type": "code",
   "execution_count": 23,
   "metadata": {},
   "outputs": [
    {
     "name": "stdout",
     "output_type": "stream",
     "text": [
      "Recessed classification accuracy: 0.31%\n",
      "None-recessed classification accuracy: 0.89%\n"
     ]
    }
   ],
   "source": [
    "xgb_smote_full = test_with_mc(\n",
    "    20, \n",
    "    XGBClassifier(n_estimators=500, learning_rate=0.001, random_state=0, eval_metric='logloss'), \n",
    "    data, \n",
    "    smpl_strat='smote'\n",
    ")\n",
    "\n",
    "print_acc_res(xgb_smote_full)"
   ]
  },
  {
   "cell_type": "markdown",
   "metadata": {},
   "source": [
    "XGBoost (especially with SMOTE) looks appropriate for our model."
   ]
  },
  {
   "cell_type": "markdown",
   "metadata": {},
   "source": [
    "#### RandomForestClassifier"
   ]
  },
  {
   "cell_type": "code",
   "execution_count": 24,
   "metadata": {},
   "outputs": [
    {
     "name": "stdout",
     "output_type": "stream",
     "text": [
      "Recessed classification accuracy: 0.68%\n",
      "None-recessed classification accuracy: 0.68%\n"
     ]
    }
   ],
   "source": [
    "rf_us_full = test_with_mc(\n",
    "    20, \n",
    "    RandomForestClassifier(random_state=0), \n",
    "    data, \n",
    "    smpl_strat='rusamp'\n",
    ")\n",
    "\n",
    "print_acc_res(rf_us_full)"
   ]
  },
  {
   "cell_type": "code",
   "execution_count": 25,
   "metadata": {},
   "outputs": [
    {
     "name": "stdout",
     "output_type": "stream",
     "text": [
      "Recessed classification accuracy: 0.38%\n",
      "None-recessed classification accuracy: 0.92%\n"
     ]
    }
   ],
   "source": [
    "rf_os_full = test_with_mc(\n",
    "    20, \n",
    "    RandomForestClassifier(max_depth=3, random_state=0), \n",
    "    data, \n",
    "    smpl_strat='rosamp'\n",
    ")\n",
    "\n",
    "print_acc_res(rf_os_full)"
   ]
  },
  {
   "cell_type": "code",
   "execution_count": 26,
   "metadata": {
    "run_control": {
     "marked": false
    }
   },
   "outputs": [
    {
     "name": "stdout",
     "output_type": "stream",
     "text": [
      "Recessed classification accuracy: 0.49%\n",
      "None-recessed classification accuracy: 0.89%\n"
     ]
    }
   ],
   "source": [
    "rf_smote_full = test_with_mc(\n",
    "    20, \n",
    "    RandomForestClassifier(max_depth=3, random_state=0), \n",
    "    data, \n",
    "    smpl_strat='smote'\n",
    ")\n",
    "\n",
    "print_acc_res(rf_smote_full)"
   ]
  },
  {
   "cell_type": "markdown",
   "metadata": {},
   "source": [
    "RandomForest (especially with SMOTE) looks appropriate for our model better than XGBoost."
   ]
  },
  {
   "cell_type": "markdown",
   "metadata": {},
   "source": [
    "#### RidgeClassifier"
   ]
  },
  {
   "cell_type": "code",
   "execution_count": 27,
   "metadata": {},
   "outputs": [
    {
     "name": "stdout",
     "output_type": "stream",
     "text": [
      "Recessed classification accuracy: 0.66%\n",
      "None-recessed classification accuracy: 0.63%\n"
     ]
    }
   ],
   "source": [
    "rid_us_full = test_with_mc(\n",
    "    20, \n",
    "    RidgeClassifier(alpha=1.0, random_state=0), \n",
    "    data, \n",
    "    smpl_strat='rusamp'\n",
    ")\n",
    "\n",
    "print_acc_res(rid_us_full)"
   ]
  },
  {
   "cell_type": "code",
   "execution_count": 28,
   "metadata": {},
   "outputs": [
    {
     "name": "stdout",
     "output_type": "stream",
     "text": [
      "Recessed classification accuracy: 0.56%\n",
      "None-recessed classification accuracy: 0.76%\n"
     ]
    }
   ],
   "source": [
    "rid_os_full = test_with_mc(\n",
    "    20, \n",
    "    RidgeClassifier(alpha=1.0, random_state=0), \n",
    "    data, \n",
    "    smpl_strat='rosamp'\n",
    ")\n",
    "\n",
    "print_acc_res(rid_os_full)"
   ]
  },
  {
   "cell_type": "code",
   "execution_count": 29,
   "metadata": {},
   "outputs": [
    {
     "name": "stdout",
     "output_type": "stream",
     "text": [
      "Recessed classification accuracy: 0.58%\n",
      "None-recessed classification accuracy: 0.76%\n"
     ]
    }
   ],
   "source": [
    "rid_smote_full = test_with_mc(\n",
    "    20, \n",
    "    RidgeClassifier(alpha=10.0, random_state=0), \n",
    "    data, \n",
    "    smpl_strat='smote'\n",
    ")\n",
    "\n",
    "print_acc_res(rid_smote_full)"
   ]
  },
  {
   "cell_type": "markdown",
   "metadata": {},
   "source": [
    "#### XGB with undersampling is the best"
   ]
  },
  {
   "cell_type": "code",
   "execution_count": 30,
   "metadata": {},
   "outputs": [],
   "source": [
    " #====== STOP ======"
   ]
  },
  {
   "cell_type": "markdown",
   "metadata": {},
   "source": [
    "## Applying other methods of resampling both up and down together before passing to our model"
   ]
  },
  {
   "cell_type": "code",
   "execution_count": 31,
   "metadata": {},
   "outputs": [],
   "source": [
    "# Our aim is not to tweeek the model or dataset by any other means to achieve a better accuracies, but by tweeking\n",
    "# the dataset using other advance up and down resampling techniques together to improve the model(that is, by combining the \n",
    "# good effects of but upsampling and downsampling to get a better model; if you like a kind of Ensembling)"
   ]
  },
  {
   "cell_type": "markdown",
   "metadata": {},
   "source": [
    "#### XGBClassifier"
   ]
  },
  {
   "cell_type": "code",
   "execution_count": 32,
   "metadata": {},
   "outputs": [
    {
     "name": "stdout",
     "output_type": "stream",
     "text": [
      "Recessed classification accuracy: 0.26%\n",
      "None-recessed classification accuracy: 0.97%\n"
     ]
    }
   ],
   "source": [
    "# roruSamp - overSampling & UnderSampling\n",
    "\n",
    "xgb_roruSamp = test_with_mc(\n",
    "    20, \n",
    "    XGBClassifier(n_estimators=500, learning_rate=0.05, random_state=0, eval_metric='logloss'),\n",
    "    data, \n",
    "    smpl_strat='roruSamp'\n",
    ")\n",
    "\n",
    "print_acc_res(xgb_roruSamp)"
   ]
  },
  {
   "cell_type": "code",
   "execution_count": 33,
   "metadata": {},
   "outputs": [
    {
     "name": "stdout",
     "output_type": "stream",
     "text": [
      "Recessed classification accuracy: 0.66%\n",
      "None-recessed classification accuracy: 0.64%\n"
     ]
    }
   ],
   "source": [
    "# ruroSamp - UnderSampling & overSampling\n",
    "\n",
    "xgb_ruroSamp = test_with_mc(\n",
    "    20, \n",
    "    XGBClassifier(n_estimators=500, learning_rate=0.05, random_state=0, eval_metric='logloss'),\n",
    "    data, \n",
    "    smpl_strat='ruroSamp'\n",
    ")\n",
    "\n",
    "print_acc_res(xgb_ruroSamp)"
   ]
  },
  {
   "cell_type": "code",
   "execution_count": 34,
   "metadata": {},
   "outputs": [
    {
     "name": "stdout",
     "output_type": "stream",
     "text": [
      "Recessed classification accuracy: 0.3%\n",
      "None-recessed classification accuracy: 0.96%\n"
     ]
    }
   ],
   "source": [
    "# smruSamp - smote & UnderSampling\n",
    "\n",
    "xgb_smruSamp = test_with_mc(\n",
    "    20, \n",
    "    XGBClassifier(n_estimators=500, learning_rate=0.05, random_state=0, eval_metric='logloss'),\n",
    "    data, \n",
    "    smpl_strat='smruSamp'\n",
    ")\n",
    "\n",
    "print_acc_res(xgb_smruSamp)"
   ]
  },
  {
   "cell_type": "code",
   "execution_count": 35,
   "metadata": {},
   "outputs": [
    {
     "name": "stdout",
     "output_type": "stream",
     "text": [
      "Recessed classification accuracy: 0.66%\n",
      "None-recessed classification accuracy: 0.64%\n"
     ]
    }
   ],
   "source": [
    "# rusmSamp - UnderSampling & smote\n",
    "\n",
    "xgb_rusmSamp = test_with_mc(\n",
    "    20, \n",
    "    XGBClassifier(n_estimators=500, learning_rate=0.05, random_state=0, eval_metric='logloss'),\n",
    "    data, \n",
    "    smpl_strat='rusmSamp'\n",
    ")\n",
    "\n",
    "print_acc_res(xgb_rusmSamp)"
   ]
  },
  {
   "cell_type": "markdown",
   "metadata": {},
   "source": [
    "#### RandomForestClassifier"
   ]
  },
  {
   "cell_type": "code",
   "execution_count": 36,
   "metadata": {},
   "outputs": [
    {
     "name": "stdout",
     "output_type": "stream",
     "text": [
      "Recessed classification accuracy: 0.41%\n",
      "None-recessed classification accuracy: 0.92%\n"
     ]
    }
   ],
   "source": [
    "# roruSamp - overSampling & UnderSampling\n",
    "\n",
    "rf_roruSamp = test_with_mc(\n",
    "    20, \n",
    "    RandomForestClassifier(max_depth=3, random_state=0),\n",
    "    data, \n",
    "    smpl_strat='roruSamp'\n",
    ")\n",
    "\n",
    "print_acc_res(rf_roruSamp)"
   ]
  },
  {
   "cell_type": "code",
   "execution_count": 37,
   "metadata": {},
   "outputs": [
    {
     "name": "stdout",
     "output_type": "stream",
     "text": [
      "Recessed classification accuracy: 0.6%\n",
      "None-recessed classification accuracy: 0.69%\n"
     ]
    }
   ],
   "source": [
    "# ruroSamp - UnderSampling & overSampling\n",
    "\n",
    "rf_ruroSamp = test_with_mc(\n",
    "    20, \n",
    "    RandomForestClassifier(max_depth=3, random_state=0),\n",
    "    data, \n",
    "    smpl_strat='ruroSamp'\n",
    ")\n",
    "\n",
    "print_acc_res(rf_ruroSamp)"
   ]
  },
  {
   "cell_type": "code",
   "execution_count": 38,
   "metadata": {},
   "outputs": [
    {
     "name": "stdout",
     "output_type": "stream",
     "text": [
      "Recessed classification accuracy: 0.49%\n",
      "None-recessed classification accuracy: 0.88%\n"
     ]
    }
   ],
   "source": [
    "# smruSamp - smote & UnderSampling\n",
    "\n",
    "rf_smruSamp = test_with_mc(\n",
    "    20, \n",
    "    RandomForestClassifier(max_depth=3, random_state=0),\n",
    "    data, \n",
    "    smpl_strat='smruSamp'\n",
    ")\n",
    "\n",
    "print_acc_res(rf_smruSamp)"
   ]
  },
  {
   "cell_type": "code",
   "execution_count": 39,
   "metadata": {},
   "outputs": [
    {
     "name": "stdout",
     "output_type": "stream",
     "text": [
      "Recessed classification accuracy: 0.6%\n",
      "None-recessed classification accuracy: 0.69%\n"
     ]
    }
   ],
   "source": [
    "# rusmSamp - UnderSampling & smote\n",
    "\n",
    "rf_rusmSamp = test_with_mc(\n",
    "    20, \n",
    "    RandomForestClassifier(max_depth=3, random_state=0),\n",
    "    data, \n",
    "    smpl_strat='rusmSamp'\n",
    ")\n",
    "\n",
    "print_acc_res(rf_rusmSamp)"
   ]
  },
  {
   "cell_type": "markdown",
   "metadata": {},
   "source": [
    "#### RidgeClassifier"
   ]
  },
  {
   "cell_type": "code",
   "execution_count": 40,
   "metadata": {},
   "outputs": [
    {
     "name": "stdout",
     "output_type": "stream",
     "text": [
      "Recessed classification accuracy: 0.56%\n",
      "None-recessed classification accuracy: 0.76%\n"
     ]
    }
   ],
   "source": [
    "# roruSamp - overSampling & UnderSampling\n",
    "\n",
    "rid_roruSamp = test_with_mc(\n",
    "    20, \n",
    "    RidgeClassifier(alpha=1.0, random_state=0),\n",
    "    data, \n",
    "    smpl_strat='roruSamp'\n",
    ")\n",
    "\n",
    "print_acc_res(rid_roruSamp)"
   ]
  },
  {
   "cell_type": "code",
   "execution_count": 41,
   "metadata": {},
   "outputs": [
    {
     "name": "stdout",
     "output_type": "stream",
     "text": [
      "Recessed classification accuracy: 0.66%\n",
      "None-recessed classification accuracy: 0.63%\n"
     ]
    }
   ],
   "source": [
    "# ruroSamp - UnderSampling & overSampling\n",
    "\n",
    "rid_ruroSamp = test_with_mc(\n",
    "    20, \n",
    "    RidgeClassifier(alpha=1.0, random_state=0),\n",
    "    data, \n",
    "    smpl_strat='ruroSamp'\n",
    ")\n",
    "\n",
    "print_acc_res(rid_ruroSamp)"
   ]
  },
  {
   "cell_type": "code",
   "execution_count": 42,
   "metadata": {},
   "outputs": [
    {
     "name": "stdout",
     "output_type": "stream",
     "text": [
      "Recessed classification accuracy: 0.54%\n",
      "None-recessed classification accuracy: 0.78%\n"
     ]
    }
   ],
   "source": [
    "# smruSamp - smote & UnderSampling\n",
    "\n",
    "rid_smruSamp = test_with_mc(\n",
    "    20, \n",
    "    RidgeClassifier(alpha=1.0, random_state=0),\n",
    "    data, \n",
    "    smpl_strat='smruSamp'\n",
    ")\n",
    "\n",
    "print_acc_res(rid_smruSamp)"
   ]
  },
  {
   "cell_type": "code",
   "execution_count": 43,
   "metadata": {},
   "outputs": [
    {
     "name": "stdout",
     "output_type": "stream",
     "text": [
      "Recessed classification accuracy: 0.66%\n",
      "None-recessed classification accuracy: 0.63%\n"
     ]
    }
   ],
   "source": [
    "# rusmSamp - UnderSampling & smote\n",
    "\n",
    "rid_rusmSamp = test_with_mc(\n",
    "    20, \n",
    "    RidgeClassifier(alpha=1.0, random_state=0),\n",
    "    data, \n",
    "    smpl_strat='rusmSamp'\n",
    ")\n",
    "\n",
    "print_acc_res(rid_rusmSamp)"
   ]
  },
  {
   "cell_type": "code",
   "execution_count": 44,
   "metadata": {},
   "outputs": [],
   "source": [
    "# ---- End"
   ]
  },
  {
   "cell_type": "markdown",
   "metadata": {},
   "source": [
    "#### Let's try one combination with python pipeline library"
   ]
  },
  {
   "cell_type": "code",
   "execution_count": 45,
   "metadata": {},
   "outputs": [],
   "source": [
    "from imblearn.pipeline import Pipeline"
   ]
  },
  {
   "cell_type": "code",
   "execution_count": 46,
   "metadata": {},
   "outputs": [],
   "source": [
    "def test_with_tts2(model, data, smpl_strat='rusamp', random_state=0):\n",
    "    \n",
    "    X_train, X_test, y_train, y_test = train_test_split(\n",
    "        data.drop('growthbucket', axis=1), \n",
    "        data.growthbucket, \n",
    "        random_state=random_state\n",
    "    )\n",
    "    if smpl_strat == 'rusamp':\n",
    "        rus = RandomUnderSampler(random_state=0)\n",
    "        X_resampled, y_resampled = rus.fit_resample(X_train, y_train)\n",
    "    elif smpl_strat == 'rosamp':\n",
    "        ros = RandomOverSampler(random_state=0)\n",
    "        X_resampled, y_resampled = ros.fit_resample(X_train, y_train)\n",
    "    elif smpl_strat == 'smote':\n",
    "        smote = SMOTE(random_state=0)\n",
    "        X_resampled, y_resampled = smote.fit_resample(X_train, y_train)\n",
    "    elif smpl_strat == 'roruSamp':\n",
    "        ros = RandomOverSampler(random_state=0)\n",
    "        rus = RandomUnderSampler(random_state=0)\n",
    "        rfc_pipeline = Pipeline(steps = [('o', ros),('u', rus),('model', model)])\n",
    "        #X_resampled, y_resampled = ros.fit_resample(X_train, y_train)\n",
    "        #X_resampled, y_resampled = rus.fit_resample(X_resampled, y_resampled)\n",
    "    elif smpl_strat == 'ruroSamp':\n",
    "        ros = RandomOverSampler(random_state=0)\n",
    "        rus = RandomUnderSampler(random_state=0)\n",
    "        rfc_pipeline = Pipeline(steps = [('u', rus),('o', ros),('model', model)])\n",
    "        #X_resampled, y_resampled = rus.fit_resample(X_train, y_train)\n",
    "        #X_resampled, y_resampled = ros.fit_resample(X_resampled, y_resampled)\n",
    "    elif smpl_strat == 'smruSamp':\n",
    "        smote = SMOTE(random_state=0)\n",
    "        rus = RandomUnderSampler(random_state=0)\n",
    "        rfc_pipeline = Pipeline(steps = [('s', smote),('u', rus),('model', model)])\n",
    "        #X_resampled, y_resampled = smote.fit_resample(X_train, y_train)\n",
    "        #X_resampled, y_resampled = rus.fit_resample(X_resampled, y_resampled)\n",
    "    elif smpl_strat == 'rusmSamp':\n",
    "        smote = SMOTE(random_state=0)\n",
    "        rus = RandomUnderSampler(random_state=0)\n",
    "        rfc_pipeline = Pipeline(steps = [('u', rus),('s', smote),('model', model)])\n",
    "        #X_resampled, y_resampled = rus.fit_resample(X_train, y_train)\n",
    "        #X_resampled, y_resampled = smote.fit_resample(X_resampled, y_resampled)\n",
    "    #X_resampled = pd.DataFrame(X_resampled, columns=X_test.columns) \n",
    "    \n",
    "    rfc_pipeline.fit(X_train, y_train)\n",
    "    preds = rfc_pipeline.predict(X_test)\n",
    "    #model.fit(X_resampled, y_resampled)\n",
    "    #preds = model.predict(X_test)\n",
    "    y_test.name = 'expected'\n",
    "    results = pd.concat(\n",
    "        [y_test, pd.Series(preds, index=y_test.index, name='got')], \n",
    "        axis=1\n",
    "    )\n",
    "\n",
    "    recessed = results[results.expected == 1]\n",
    "    non_recessed = results[results.expected == 0]\n",
    "    acc_rec = accuracy_score(recessed.expected, recessed.got)\n",
    "    acc_nrec = accuracy_score(non_recessed.expected, non_recessed.got)\n",
    "    \n",
    "    return (acc_rec, acc_nrec)\n",
    "\n",
    "\n",
    "\n",
    "def test_with_mc2(n_it, model, data, smpl_strat='rusamp'):\n",
    "    random.seed(0)\n",
    "    \n",
    "    results_rec = []\n",
    "    results_nrec = []\n",
    "    for i in range(n_it):\n",
    "        r_r, r_n = test_with_tts2(\n",
    "            model, \n",
    "            data, \n",
    "            smpl_strat, \n",
    "            i*random.randint(0,1e2) # randomises train_test_split\n",
    "        )\n",
    "        results_rec.append(r_r)\n",
    "        results_nrec.append(r_n)\n",
    "    acc_rec = sum(results_rec)/len(results_rec)\n",
    "    acc_nrec = sum(results_nrec)/len(results_nrec)\n",
    "    return (acc_rec, acc_nrec)"
   ]
  },
  {
   "cell_type": "code",
   "execution_count": 47,
   "metadata": {},
   "outputs": [
    {
     "name": "stdout",
     "output_type": "stream",
     "text": [
      "Recessed classification accuracy: 0.41%\n",
      "None-recessed classification accuracy: 0.92%\n"
     ]
    }
   ],
   "source": [
    "# Since random forest performed well, lets use this\n",
    "\n",
    "# roruSamp - overSampling & UnderSampling\n",
    "\n",
    "rf_roruSamp2 = test_with_mc2(\n",
    "    20, \n",
    "    RandomForestClassifier(max_depth=3, random_state=0),\n",
    "    data, \n",
    "    smpl_strat='roruSamp'\n",
    ")\n",
    "\n",
    "print_acc_res(rf_roruSamp2)"
   ]
  },
  {
   "cell_type": "code",
   "execution_count": 48,
   "metadata": {},
   "outputs": [
    {
     "name": "stdout",
     "output_type": "stream",
     "text": [
      "Recessed classification accuracy: 0.6%\n",
      "None-recessed classification accuracy: 0.69%\n"
     ]
    }
   ],
   "source": [
    "# ruroSamp - UnderSampling & overSampling\n",
    "\n",
    "rf_ruroSamp2 = test_with_mc2(\n",
    "    20, \n",
    "    RandomForestClassifier(max_depth=3, random_state=0),\n",
    "    data, \n",
    "    smpl_strat='ruroSamp'\n",
    ")\n",
    "\n",
    "print_acc_res(rf_ruroSamp2)"
   ]
  },
  {
   "cell_type": "code",
   "execution_count": 49,
   "metadata": {},
   "outputs": [
    {
     "name": "stdout",
     "output_type": "stream",
     "text": [
      "Recessed classification accuracy: 0.49%\n",
      "None-recessed classification accuracy: 0.88%\n"
     ]
    }
   ],
   "source": [
    "# smruSamp - smote & UnderSampling\n",
    "\n",
    "rf_smruSamp2 = test_with_mc2(\n",
    "    20, \n",
    "    RandomForestClassifier(max_depth=3, random_state=0),\n",
    "    data, \n",
    "    smpl_strat='smruSamp'\n",
    ")\n",
    "\n",
    "print_acc_res(rf_smruSamp2)"
   ]
  },
  {
   "cell_type": "code",
   "execution_count": 50,
   "metadata": {},
   "outputs": [
    {
     "name": "stdout",
     "output_type": "stream",
     "text": [
      "Recessed classification accuracy: 0.6%\n",
      "None-recessed classification accuracy: 0.69%\n"
     ]
    }
   ],
   "source": [
    "# rusmSamp - UnderSampling & smote\n",
    "\n",
    "rf_rusmSamp2 = test_with_mc2(\n",
    "    20, \n",
    "    RandomForestClassifier(max_depth=3, random_state=0),\n",
    "    data, \n",
    "    smpl_strat='rusmSamp'\n",
    ")\n",
    "\n",
    "print_acc_res(rf_rusmSamp2)"
   ]
  },
  {
   "cell_type": "markdown",
   "metadata": {},
   "source": [
    "#### Let's try to combine the outputs of individual techniques after acting on the original dataset, and not allow the output of one to be the import of the other"
   ]
  },
  {
   "cell_type": "code",
   "execution_count": 51,
   "metadata": {},
   "outputs": [],
   "source": [
    "#=========Trial starts"
   ]
  },
  {
   "cell_type": "code",
   "execution_count": 52,
   "metadata": {},
   "outputs": [],
   "source": [
    "X_train, X_test, y_train, y_test = train_test_split(\n",
    "        data.drop('growthbucket', axis=1), \n",
    "        data.growthbucket, \n",
    "        random_state=0\n",
    "    )"
   ]
  },
  {
   "cell_type": "code",
   "execution_count": 53,
   "metadata": {},
   "outputs": [],
   "source": [
    "ros = RandomOverSampler(random_state=0)\n",
    "rus = RandomUnderSampler(random_state=0)\n",
    "#rfc_pipeline = Pipeline(steps = [('o', ros),('u', rus),('model', model)])\n",
    "X_resampled_ros, y_resampled_ros = ros.fit_resample(X_train, y_train)\n",
    "X_resampled_rus, y_resampled_rus = rus.fit_resample(X_train, y_train)"
   ]
  },
  {
   "cell_type": "code",
   "execution_count": 54,
   "metadata": {},
   "outputs": [
    {
     "data": {
      "text/plain": [
       "((664, 33), (664,))"
      ]
     },
     "execution_count": 54,
     "metadata": {},
     "output_type": "execute_result"
    }
   ],
   "source": [
    "X_resampled_ros.shape, y_resampled_ros.shape"
   ]
  },
  {
   "cell_type": "code",
   "execution_count": 55,
   "metadata": {},
   "outputs": [
    {
     "data": {
      "text/plain": [
       "((64, 33), (64,))"
      ]
     },
     "execution_count": 55,
     "metadata": {},
     "output_type": "execute_result"
    }
   ],
   "source": [
    "X_resampled_rus.shape, y_resampled_rus.shape"
   ]
  },
  {
   "cell_type": "code",
   "execution_count": 56,
   "metadata": {},
   "outputs": [],
   "source": [
    "#X_resampled = X_resampled_ros + X_resampled_rus\n",
    "\n",
    "X_resampled = pd.concat([X_resampled_ros, X_resampled_rus])\n",
    "y_resampled = pd.concat([y_resampled_ros, y_resampled_rus])\n",
    "\n",
    "X_resampled = pd.DataFrame(X_resampled, columns=X_test.columns)"
   ]
  },
  {
   "cell_type": "code",
   "execution_count": 57,
   "metadata": {},
   "outputs": [
    {
     "data": {
      "text/plain": [
       "(728, 33)"
      ]
     },
     "execution_count": 57,
     "metadata": {},
     "output_type": "execute_result"
    }
   ],
   "source": [
    "X_resampled.shape"
   ]
  },
  {
   "cell_type": "code",
   "execution_count": 58,
   "metadata": {},
   "outputs": [
    {
     "data": {
      "text/plain": [
       "<matplotlib.axes._subplots.AxesSubplot at 0x27af8078948>"
      ]
     },
     "execution_count": 58,
     "metadata": {},
     "output_type": "execute_result"
    },
    {
     "data": {
      "image/png": "[encoded data removed]",
      "text/plain": [
       "<Figure size 432x288 with 1 Axes>"
      ]
     },
     "metadata": {
      "needs_background": "light"
     },
     "output_type": "display_data"
    }
   ],
   "source": [
    "sns.distplot(a=y_resampled, kde=False)"
   ]
  },
  {
   "cell_type": "code",
   "execution_count": 59,
   "metadata": {},
   "outputs": [],
   "source": [
    "model = RandomForestClassifier(max_depth=3, random_state=0)\n",
    "model.fit(X_resampled, y_resampled)\n",
    "preds = model.predict(X_test)\n",
    "y_test.name = 'expected'\n",
    "results = pd.concat([y_test, pd.Series(preds, index=y_test.index, name='got')], axis=1)\n"
   ]
  },
  {
   "cell_type": "code",
   "execution_count": 60,
   "metadata": {},
   "outputs": [],
   "source": [
    "recessed = results[results.expected == 1]\n",
    "non_recessed = results[results.expected == 0]\n",
    "acc_rec = accuracy_score(recessed.expected, recessed.got)\n",
    "acc_nrec = accuracy_score(non_recessed.expected, non_recessed.got)"
   ]
  },
  {
   "cell_type": "code",
   "execution_count": 61,
   "metadata": {},
   "outputs": [
    {
     "data": {
      "text/plain": [
       "(0.3333333333333333, 0.9482758620689655)"
      ]
     },
     "execution_count": 61,
     "metadata": {},
     "output_type": "execute_result"
    }
   ],
   "source": [
    "acc_rec, acc_nrec"
   ]
  },
  {
   "cell_type": "code",
   "execution_count": 62,
   "metadata": {},
   "outputs": [],
   "source": [
    "#=========Trial ends"
   ]
  },
  {
   "cell_type": "code",
   "execution_count": null,
   "metadata": {},
   "outputs": [],
   "source": []
  },
  {
   "cell_type": "markdown",
   "metadata": {},
   "source": [
    "#### Modify our function to do the trial several times and average it"
   ]
  },
  {
   "cell_type": "code",
   "execution_count": 63,
   "metadata": {},
   "outputs": [],
   "source": [
    "def test_with_tts3(model, data, smpl_strat='rusamp', random_state=0):\n",
    "    \n",
    "    X_train, X_test, y_train, y_test = train_test_split(\n",
    "        data.drop('growthbucket', axis=1), \n",
    "        data.growthbucket, \n",
    "        random_state=random_state\n",
    "    )\n",
    "    if smpl_strat == 'rusamp':\n",
    "        rus = RandomUnderSampler(random_state=0)\n",
    "        X_resampled, y_resampled = rus.fit_resample(X_train, y_train)\n",
    "    elif smpl_strat == 'rosamp':\n",
    "        ros = RandomOverSampler(random_state=0)\n",
    "        X_resampled, y_resampled = ros.fit_resample(X_train, y_train)\n",
    "    elif smpl_strat == 'smote':\n",
    "        smote = SMOTE(random_state=0)\n",
    "        X_resampled, y_resampled = smote.fit_resample(X_train, y_train)\n",
    "    elif smpl_strat == 'roruSamp':\n",
    "        ros = RandomOverSampler(random_state=0)\n",
    "        rus = RandomUnderSampler(random_state=0)\n",
    "        #rfc_pipeline = Pipeline(steps = [('o', ros),('u', rus),('model', model)])\n",
    "        X_resampled_ros, y_resampled_ros = ros.fit_resample(X_train, y_train)\n",
    "        X_resampled_rus, y_resampled_rus = rus.fit_resample(X_train, y_train)\n",
    "        X_resampled = pd.concat([X_resampled_ros, X_resampled_rus])\n",
    "        y_resampled = pd.concat([y_resampled_ros, y_resampled_rus])\n",
    "    elif smpl_strat == 'ruroSamp':\n",
    "        ros = RandomOverSampler(random_state=0)\n",
    "        rus = RandomUnderSampler(random_state=0)\n",
    "        #rfc_pipeline = Pipeline(steps = [('o', ros),('u', rus),('model', model)])\n",
    "        X_resampled_ros, y_resampled_ros = ros.fit_resample(X_train, y_train)\n",
    "        X_resampled_rus, y_resampled_rus = rus.fit_resample(X_train, y_train)\n",
    "        X_resampled = pd.concat([X_resampled_rus, X_resampled_ros])\n",
    "        y_resampled = pd.concat([y_resampled_rus, y_resampled_ros])\n",
    "    elif smpl_strat == 'smruSamp':\n",
    "        smote = SMOTE(random_state=0)\n",
    "        rus = RandomUnderSampler(random_state=0)\n",
    "        X_resampled_sm, y_resampled_sm = smote.fit_resample(X_train, y_train)\n",
    "        X_resampled_rus, y_resampled_rus = rus.fit_resample(X_train, y_train)\n",
    "        X_resampled = pd.concat([X_resampled_sm, X_resampled_rus])\n",
    "        y_resampled = pd.concat([y_resampled_sm, y_resampled_rus])\n",
    "    elif smpl_strat == 'rusmSamp':\n",
    "        smote = SMOTE(random_state=0)\n",
    "        rus = RandomUnderSampler(random_state=0)\n",
    "        X_resampled_sm, y_resampled_sm = smote.fit_resample(X_train, y_train)\n",
    "        X_resampled_rus, y_resampled_rus = rus.fit_resample(X_train, y_train)\n",
    "        X_resampled = pd.concat([X_resampled_rus, X_resampled_sm])\n",
    "        y_resampled = pd.concat([y_resampled_rus, y_resampled_sm])\n",
    "    X_resampled = pd.DataFrame(X_resampled, columns=X_test.columns) \n",
    "    \n",
    "    \n",
    "    model.fit(X_resampled, y_resampled)\n",
    "    preds = model.predict(X_test)\n",
    "    y_test.name = 'expected'\n",
    "    results = pd.concat(\n",
    "        [y_test, pd.Series(preds, index=y_test.index, name='got')], \n",
    "        axis=1\n",
    "    )\n",
    "\n",
    "    recessed = results[results.expected == 1]\n",
    "    non_recessed = results[results.expected == 0]\n",
    "    acc_rec = accuracy_score(recessed.expected, recessed.got)\n",
    "    acc_nrec = accuracy_score(non_recessed.expected, non_recessed.got)\n",
    "    \n",
    "    return (acc_rec, acc_nrec)\n",
    "\n",
    "\n",
    "\n",
    "def test_with_mc3(n_it, model, data, smpl_strat='rusamp'):\n",
    "    random.seed(0)\n",
    "    \n",
    "    results_rec = []\n",
    "    results_nrec = []\n",
    "    for i in range(n_it):\n",
    "        r_r, r_n = test_with_tts3(\n",
    "            model, \n",
    "            data, \n",
    "            smpl_strat, \n",
    "            i*random.randint(0,1e2) # randomises train_test_split\n",
    "        )\n",
    "        results_rec.append(r_r)\n",
    "        results_nrec.append(r_n)\n",
    "    acc_rec = sum(results_rec)/len(results_rec)\n",
    "    acc_nrec = sum(results_nrec)/len(results_nrec)\n",
    "    return (acc_rec, acc_nrec)"
   ]
  },
  {
   "cell_type": "code",
   "execution_count": 64,
   "metadata": {},
   "outputs": [
    {
     "name": "stdout",
     "output_type": "stream",
     "text": [
      "Recessed classification accuracy: 0.37%\n",
      "None-recessed classification accuracy: 0.92%\n"
     ]
    }
   ],
   "source": [
    "# Since random forest performed well, lets use this\n",
    "\n",
    "# roruSamp - overSampling & UnderSampling\n",
    "\n",
    "rf_roruSamp3 = test_with_mc3(\n",
    "    20, \n",
    "    RandomForestClassifier(max_depth=3, random_state=0),\n",
    "    data, \n",
    "    smpl_strat='roruSamp'\n",
    ")\n",
    "\n",
    "print_acc_res(rf_roruSamp3)"
   ]
  },
  {
   "cell_type": "code",
   "execution_count": 65,
   "metadata": {},
   "outputs": [
    {
     "name": "stdout",
     "output_type": "stream",
     "text": [
      "Recessed classification accuracy: 0.39%\n",
      "None-recessed classification accuracy: 0.92%\n"
     ]
    }
   ],
   "source": [
    "# ruroSamp - UnderSampling & overSampling\n",
    "\n",
    "rf_ruroSamp3 = test_with_mc3(\n",
    "    20, \n",
    "    RandomForestClassifier(max_depth=3, random_state=0),\n",
    "    data, \n",
    "    smpl_strat='ruroSamp'\n",
    ")\n",
    "\n",
    "print_acc_res(rf_ruroSamp3)"
   ]
  },
  {
   "cell_type": "code",
   "execution_count": 66,
   "metadata": {},
   "outputs": [
    {
     "name": "stdout",
     "output_type": "stream",
     "text": [
      "Recessed classification accuracy: 0.51%\n",
      "None-recessed classification accuracy: 0.88%\n"
     ]
    }
   ],
   "source": [
    "# smruSamp - smote & UnderSampling\n",
    "\n",
    "rf_smruSamp3 = test_with_mc3(\n",
    "    20, \n",
    "    RandomForestClassifier(max_depth=3, random_state=0),\n",
    "    data, \n",
    "    smpl_strat='smruSamp'\n",
    ")\n",
    "\n",
    "print_acc_res(rf_smruSamp3)"
   ]
  },
  {
   "cell_type": "code",
   "execution_count": 67,
   "metadata": {},
   "outputs": [
    {
     "name": "stdout",
     "output_type": "stream",
     "text": [
      "Recessed classification accuracy: 0.47%\n",
      "None-recessed classification accuracy: 0.88%\n"
     ]
    }
   ],
   "source": [
    "# rusmSamp - UnderSampling & smote\n",
    "\n",
    "rf_rusmSamp3 = test_with_mc3(\n",
    "    20, \n",
    "    RandomForestClassifier(max_depth=3, random_state=0),\n",
    "    data, \n",
    "    smpl_strat='rusmSamp'\n",
    ")\n",
    "\n",
    "print_acc_res(rf_rusmSamp3)"
   ]
  },
  {
   "cell_type": "code",
   "execution_count": null,
   "metadata": {},
   "outputs": [],
   "source": []
  }
 ],
 "metadata": {
  "kernelspec": {
   "display_name": "Python 3",
   "language": "python",
   "name": "python3"
  },
  "language_info": {
   "codemirror_mode": {
    "name": "ipython",
    "version": 3
   },
   "file_extension": ".py",
   "mimetype": "text/x-python",
   "name": "python",
   "nbconvert_exporter": "python",
   "pygments_lexer": "ipython3",
   "version": "3.7.6"
  }
 },
 "nbformat": 4,
 "nbformat_minor": 4
}
