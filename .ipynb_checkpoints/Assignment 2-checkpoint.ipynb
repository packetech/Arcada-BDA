{
 "cells": [
  {
   "cell_type": "markdown",
   "metadata": {
    "slideshow": {
     "slide_type": "slide"
    }
   },
   "source": [
    "# Assignment 2 - Unsupervised Learning \n",
    "`"
   ]
  },
  {
   "cell_type": "markdown",
   "metadata": {
    "slideshow": {
     "slide_type": "slide"
    }
   },
   "source": [
    "#### Task 1 (3 points):\n",
    "\n",
    "1. Data normalization\n",
    "    - Look at features of Linnerud dataset, tell what is the problem with them\n",
    "          from sklearn.datasets import load_linnerud\n",
    "    - Normalize these features using a correct method. Plot original vs normalized probability density."
   ]
  },
  {
   "cell_type": "markdown",
   "metadata": {},
   "source": [
    "##### Look at features of Linnerud dataset\n",
    "- Tell what is the problem with them"
   ]
  },
  {
   "cell_type": "code",
   "execution_count": 96,
   "metadata": {},
   "outputs": [],
   "source": [
    "import numpy as np\n",
    "import pandas as pd\n",
    "from sklearn.datasets import load_linnerud\n",
    "import seaborn as sns\n",
    "import matplotlib.pyplot as plt\n",
    "%matplotlib inline"
   ]
  },
  {
   "cell_type": "code",
   "execution_count": 2,
   "metadata": {},
   "outputs": [],
   "source": [
    "data = load_linnerud()\n",
    "df = pd.DataFrame(data.data, columns=data.feature_names)"
   ]
  },
  {
   "cell_type": "code",
   "execution_count": 3,
   "metadata": {},
   "outputs": [
    {
     "name": "stdout",
     "output_type": "stream",
     "text": [
      "<class 'pandas.core.frame.DataFrame'>\n",
      "RangeIndex: 20 entries, 0 to 19\n",
      "Data columns (total 3 columns):\n",
      " #   Column  Non-Null Count  Dtype  \n",
      "---  ------  --------------  -----  \n",
      " 0   Chins   20 non-null     float64\n",
      " 1   Situps  20 non-null     float64\n",
      " 2   Jumps   20 non-null     float64\n",
      "dtypes: float64(3)\n",
      "memory usage: 608.0 bytes\n"
     ]
    }
   ],
   "source": [
    "df.info()"
   ]
  },
  {
   "cell_type": "code",
   "execution_count": 4,
   "metadata": {},
   "outputs": [
    {
     "name": "stdout",
     "output_type": "stream",
     "text": [
      "    Chins  Situps  Jumps\n",
      "0     5.0   162.0   60.0\n",
      "1     2.0   110.0   60.0\n",
      "2    12.0   101.0  101.0\n",
      "3    12.0   105.0   37.0\n",
      "4    13.0   155.0   58.0\n",
      "5     4.0   101.0   42.0\n",
      "6     8.0   101.0   38.0\n",
      "7     6.0   125.0   40.0\n",
      "8    15.0   200.0   40.0\n",
      "9    17.0   251.0  250.0\n",
      "10   17.0   120.0   38.0\n",
      "11   13.0   210.0  115.0\n",
      "12   14.0   215.0  105.0\n",
      "13    1.0    50.0   50.0\n",
      "14    6.0    70.0   31.0\n",
      "15   12.0   210.0  120.0\n",
      "16    4.0    60.0   25.0\n",
      "17   11.0   230.0   80.0\n",
      "18   15.0   225.0   73.0\n",
      "19    2.0   110.0   43.0\n"
     ]
    }
   ],
   "source": [
    "print (df)"
   ]
  },
  {
   "cell_type": "code",
   "execution_count": 5,
   "metadata": {
    "scrolled": true
   },
   "outputs": [
    {
     "data": {
      "text/plain": [
       "<matplotlib.axes._subplots.AxesSubplot at 0x2aed45628c8>"
      ]
     },
     "execution_count": 5,
     "metadata": {},
     "output_type": "execute_result"
    },
    {
     "data": {
      "image/png": "[encoded data removed]",
      "text/plain": [
       "<Figure size 432x288 with 1 Axes>"
      ]
     },
     "metadata": {
      "needs_background": "light"
     },
     "output_type": "display_data"
    }
   ],
   "source": [
    "sns.boxplot(x=df['Chins'])"
   ]
  },
  {
   "cell_type": "code",
   "execution_count": 6,
   "metadata": {},
   "outputs": [
    {
     "data": {
      "text/plain": [
       "<matplotlib.axes._subplots.AxesSubplot at 0x2aed6148d08>"
      ]
     },
     "execution_count": 6,
     "metadata": {},
     "output_type": "execute_result"
    },
    {
     "data": {
      "image/png": "[encoded data removed]",
      "text/plain": [
       "<Figure size 432x288 with 1 Axes>"
      ]
     },
     "metadata": {
      "needs_background": "light"
     },
     "output_type": "display_data"
    }
   ],
   "source": [
    "sns.boxplot(x=df['Situps'])"
   ]
  },
  {
   "cell_type": "code",
   "execution_count": 7,
   "metadata": {},
   "outputs": [
    {
     "data": {
      "text/plain": [
       "<matplotlib.axes._subplots.AxesSubplot at 0x2aed61f46c8>"
      ]
     },
     "execution_count": 7,
     "metadata": {},
     "output_type": "execute_result"
    },
    {
     "data": {
      "image/png": "[encoded data removed]",
      "text/plain": [
       "<Figure size 432x288 with 1 Axes>"
      ]
     },
     "metadata": {
      "needs_background": "light"
     },
     "output_type": "display_data"
    }
   ],
   "source": [
    "sns.boxplot(x=df['Jumps'])"
   ]
  },
  {
   "cell_type": "markdown",
   "metadata": {},
   "source": [
    "Observation: \n",
    "      \n",
    "      - The dataset are on different scales as clearly shown by the plots\n",
    "      - Besides, we cannot tell the unit of measurement"
   ]
  },
  {
   "cell_type": "code",
   "execution_count": null,
   "metadata": {},
   "outputs": [],
   "source": []
  },
  {
   "cell_type": "markdown",
   "metadata": {},
   "source": [
    "##### Normalize & Plot\n",
    "- Normalize these features using a correct method\n",
    "- Plot original vs normalized probability density."
   ]
  },
  {
   "cell_type": "code",
   "execution_count": 8,
   "metadata": {},
   "outputs": [],
   "source": [
    "# we should use a minmaxscaler, because we don't have much outliers and we need the resultant features to be same scale\n",
    "# but again we will use MaxAbsScaler, since out data is all positive\n",
    "\n",
    "from sklearn.preprocessing import MaxAbsScaler\n",
    "\n",
    "transformer = MaxAbsScaler().fit(df)\n",
    "df_norm = transformer.transform(df)"
   ]
  },
  {
   "cell_type": "code",
   "execution_count": 9,
   "metadata": {},
   "outputs": [
    {
     "name": "stdout",
     "output_type": "stream",
     "text": [
      "[[0.29411765 0.64541833 0.24      ]\n",
      " [0.11764706 0.43824701 0.24      ]\n",
      " [0.70588235 0.40239044 0.404     ]\n",
      " [0.70588235 0.41832669 0.148     ]\n",
      " [0.76470588 0.61752988 0.232     ]\n",
      " [0.23529412 0.40239044 0.168     ]\n",
      " [0.47058824 0.40239044 0.152     ]\n",
      " [0.35294118 0.49800797 0.16      ]\n",
      " [0.88235294 0.79681275 0.16      ]\n",
      " [1.         1.         1.        ]\n",
      " [1.         0.47808765 0.152     ]\n",
      " [0.76470588 0.83665339 0.46      ]\n",
      " [0.82352941 0.85657371 0.42      ]\n",
      " [0.05882353 0.19920319 0.2       ]\n",
      " [0.35294118 0.27888446 0.124     ]\n",
      " [0.70588235 0.83665339 0.48      ]\n",
      " [0.23529412 0.23904382 0.1       ]\n",
      " [0.64705882 0.91633466 0.32      ]\n",
      " [0.88235294 0.89641434 0.292     ]\n",
      " [0.11764706 0.43824701 0.172     ]]\n"
     ]
    }
   ],
   "source": [
    "print (df_norm)"
   ]
  },
  {
   "cell_type": "code",
   "execution_count": 10,
   "metadata": {
    "run_control": {
     "marked": false
    }
   },
   "outputs": [],
   "source": [
    "# calculate probabilities densities on original data\n",
    "from scipy.stats import norm\n",
    "\n",
    "#The syntax is: scipy.stats.norm.pdf(3, loc=mean, scale=std)\n",
    "# mean is np.mean(data)\n",
    "# standard deviation is np.std(data)\n",
    "\n",
    "df['pd_Chins'] = norm.pdf(df['Chins'], loc=np.mean(df['Chins']), scale=np.std(df['Chins']))\n",
    "df['pd_Situps'] = norm.pdf(df['Situps'], loc=np.mean(df['Situps']), scale=np.std(df['Situps']))\n",
    "df['pd_Jumps'] = norm.pdf(df['Jumps'], loc=np.mean(df['Jumps']), scale=np.std(df['Jumps']))"
   ]
  },
  {
   "cell_type": "code",
   "execution_count": 11,
   "metadata": {},
   "outputs": [
    {
     "name": "stdout",
     "output_type": "stream",
     "text": [
      "    Chins  Situps  Jumps  pd_Chins  pd_Situps  pd_Jumps\n",
      "0     5.0   162.0   60.0  0.053324   0.006308  0.007814\n",
      "1     2.0   110.0   60.0  0.027221   0.005520  0.007814\n",
      "2    12.0   101.0  101.0  0.068503   0.005010  0.006610\n",
      "3    12.0   105.0   37.0  0.068503   0.005244  0.006393\n",
      "4    13.0   155.0   58.0  0.061068   0.006464  0.007744\n",
      "5     4.0   101.0   42.0  0.044253   0.005010  0.006800\n",
      "6     8.0   101.0   38.0  0.074422   0.005010  0.006478\n",
      "7     6.0   125.0   40.0  0.061879   0.006181  0.006642\n",
      "8    15.0   200.0   40.0  0.043346   0.004391  0.006642\n",
      "9    17.0   251.0  250.0  0.026463   0.001467  0.000012\n",
      "10   17.0   120.0   38.0  0.026463   0.005992  0.006478\n",
      "11   13.0   210.0  115.0  0.061068   0.003742  0.005351\n",
      "12   14.0   215.0  105.0  0.052428   0.003420  0.006273\n",
      "13    1.0    50.0   50.0  0.020177   0.001917  0.007350\n",
      "14    6.0    70.0   31.0  0.061879   0.003037  0.005859\n",
      "15   12.0   210.0  120.0  0.068503   0.003742  0.004868\n",
      "16    4.0    60.0   25.0  0.044253   0.002445  0.005293\n",
      "17   11.0   230.0   80.0  0.074003   0.002508  0.007833\n",
      "18   15.0   225.0   73.0  0.043346   0.002800  0.007971\n",
      "19    2.0   110.0   43.0  0.027221   0.005520  0.006876\n"
     ]
    }
   ],
   "source": [
    "print(df)"
   ]
  },
  {
   "cell_type": "code",
   "execution_count": 12,
   "metadata": {},
   "outputs": [
    {
     "data": {
      "text/plain": [
       "array([0.29411765, 0.11764706, 0.70588235, 0.70588235, 0.76470588,\n",
       "       0.23529412, 0.47058824, 0.35294118, 0.88235294, 1.        ,\n",
       "       1.        , 0.76470588, 0.82352941, 0.05882353, 0.35294118,\n",
       "       0.70588235, 0.23529412, 0.64705882, 0.88235294, 0.11764706])"
      ]
     },
     "execution_count": 12,
     "metadata": {},
     "output_type": "execute_result"
    }
   ],
   "source": [
    "df_norm[:,0]"
   ]
  },
  {
   "cell_type": "code",
   "execution_count": 13,
   "metadata": {},
   "outputs": [
    {
     "name": "stdout",
     "output_type": "stream",
     "text": [
      "       Chins    Situps  Jumps\n",
      "0   0.294118  0.645418  0.240\n",
      "1   0.117647  0.438247  0.240\n",
      "2   0.705882  0.402390  0.404\n",
      "3   0.705882  0.418327  0.148\n",
      "4   0.764706  0.617530  0.232\n",
      "5   0.235294  0.402390  0.168\n",
      "6   0.470588  0.402390  0.152\n",
      "7   0.352941  0.498008  0.160\n",
      "8   0.882353  0.796813  0.160\n",
      "9   1.000000  1.000000  1.000\n",
      "10  1.000000  0.478088  0.152\n",
      "11  0.764706  0.836653  0.460\n",
      "12  0.823529  0.856574  0.420\n",
      "13  0.058824  0.199203  0.200\n",
      "14  0.352941  0.278884  0.124\n",
      "15  0.705882  0.836653  0.480\n",
      "16  0.235294  0.239044  0.100\n",
      "17  0.647059  0.916335  0.320\n",
      "18  0.882353  0.896414  0.292\n",
      "19  0.117647  0.438247  0.172\n"
     ]
    }
   ],
   "source": [
    "# converting df_norm into a dataframe for the calculation of probability densities\n",
    "\n",
    "Chins = pd.DataFrame(df_norm[:,0], columns=['Chins']) \n",
    "Situps = pd.DataFrame(df_norm[:,1], columns=['Situps'])\n",
    "Jumps = pd.DataFrame(df_norm[:,2], columns=['Jumps'])\n",
    "\n",
    "df_norm_df = Chins.join(Situps)\n",
    "df_norm_df = df_norm_df.join(Jumps)\n",
    "\n",
    "print(df_norm_df)"
   ]
  },
  {
   "cell_type": "code",
   "execution_count": 14,
   "metadata": {},
   "outputs": [],
   "source": [
    "# so probability densities for normalized data \n",
    "\n",
    "df_norm_df['pd_Chins'] = norm.pdf(df_norm_df['Chins'], loc=np.mean(df_norm_df['Chins']), scale=np.std(df_norm_df['Chins']))\n",
    "df_norm_df['pd_Situps'] = norm.pdf(df_norm_df['Situps'], loc=np.mean(df_norm_df['Situps']), scale=np.std(df_norm_df['Situps']))\n",
    "df_norm_df['pd_Jumps'] = norm.pdf(df_norm_df['Jumps'], loc=np.mean(df_norm_df['Jumps']), scale=np.std(df_norm_df['Jumps']))"
   ]
  },
  {
   "cell_type": "code",
   "execution_count": 15,
   "metadata": {},
   "outputs": [
    {
     "name": "stdout",
     "output_type": "stream",
     "text": [
      "       Chins    Situps  Jumps  pd_Chins  pd_Situps  pd_Jumps\n",
      "0   0.294118  0.645418  0.240  0.906507   1.583357  1.953616\n",
      "1   0.117647  0.438247  0.240  0.462765   1.385431  1.953616\n",
      "2   0.705882  0.402390  0.404  1.164554   1.257450  1.652455\n",
      "3   0.705882  0.418327  0.148  1.164554   1.316337  1.598321\n",
      "4   0.764706  0.617530  0.232  1.038160   1.622427  1.936020\n",
      "5   0.235294  0.402390  0.168  0.752304   1.257450  1.699961\n",
      "6   0.470588  0.402390  0.152  1.265172   1.257450  1.619447\n",
      "7   0.352941  0.498008  0.160  1.051937   1.551390  1.660545\n",
      "8   0.882353  0.796813  0.160  0.736878   1.102204  1.660545\n",
      "9   1.000000  1.000000  1.000  0.449874   0.368204  0.003111\n",
      "10  1.000000  0.478088  0.152  0.449874   1.504048  1.619447\n",
      "11  0.764706  0.836653  0.460  1.038160   0.939366  1.337718\n",
      "12  0.823529  0.856574  0.420  0.891271   0.858504  1.568152\n",
      "13  0.058824  0.199203  0.200  0.343009   0.481151  1.837545\n",
      "14  0.352941  0.278884  0.124  1.051937   0.762246  1.464862\n",
      "15  0.705882  0.836653  0.480  1.164554   0.939366  1.217119\n",
      "16  0.235294  0.239044  0.100  0.752304   0.613801  1.323336\n",
      "17  0.647059  0.916335  0.320  1.258044   0.629429  1.958314\n",
      "18  0.882353  0.896414  0.292  0.736878   0.702745  1.992636\n",
      "19  0.117647  0.438247  0.172  0.462765   1.385431  1.718986\n"
     ]
    }
   ],
   "source": [
    "print(df_norm_df)"
   ]
  },
  {
   "cell_type": "code",
   "execution_count": 16,
   "metadata": {},
   "outputs": [],
   "source": [
    "# dropping un-needed features\n",
    "\n",
    "df2 = df.drop(['Chins', 'Situps', 'Jumps'], axis='columns')\n",
    "df_norm_df2 = df_norm_df.drop(['Chins', 'Situps', 'Jumps'], axis='columns')"
   ]
  },
  {
   "cell_type": "code",
   "execution_count": 17,
   "metadata": {},
   "outputs": [
    {
     "data": {
      "text/plain": [
       "<matplotlib.legend.Legend at 0x2aed62b5c08>"
      ]
     },
     "execution_count": 17,
     "metadata": {},
     "output_type": "execute_result"
    },
    {
     "data": {
      "image/png": "[encoded data removed]",
      "text/plain": [
       "<Figure size 432x288 with 1 Axes>"
      ]
     },
     "metadata": {
      "needs_background": "light"
     },
     "output_type": "display_data"
    }
   ],
   "source": [
    "# Plot for Chins\n",
    "\n",
    "# getting data of the histogram\n",
    "count, bins_count = np.histogram(df, bins=20)\n",
    "\n",
    "# plotting PDF and CDF\n",
    "plt.plot(bins_count[1:], df_norm_df2.pd_Chins, label=\"pd_normalized Chins\")\n",
    "plt.plot(bins_count[1:], df2.pd_Chins, label=\"pd_original Chins\")\n",
    "#plt.legend()\n",
    "plt.legend(loc='center left', bbox_to_anchor=(1, 0.5))"
   ]
  },
  {
   "cell_type": "code",
   "execution_count": 18,
   "metadata": {},
   "outputs": [
    {
     "data": {
      "text/plain": [
       "<matplotlib.legend.Legend at 0x2aed6333dc8>"
      ]
     },
     "execution_count": 18,
     "metadata": {},
     "output_type": "execute_result"
    },
    {
     "data": {
      "image/png": "[encoded data removed]",
      "text/plain": [
       "<Figure size 432x288 with 1 Axes>"
      ]
     },
     "metadata": {
      "needs_background": "light"
     },
     "output_type": "display_data"
    }
   ],
   "source": [
    "# Plot for Situps\n",
    "\n",
    "# getting data of the histogram\n",
    "count, bins_count = np.histogram(df, bins=20)\n",
    "\n",
    "# plotting PDF and CDF\n",
    "plt.plot(bins_count[1:], df_norm_df2.pd_Situps, label=\"pd_normalized Situps\")\n",
    "plt.plot(bins_count[1:], df2.pd_Situps, label=\"pd_original Situps\")\n",
    "#plt.legend()\n",
    "plt.legend(loc='center left', bbox_to_anchor=(1, 0.5))"
   ]
  },
  {
   "cell_type": "code",
   "execution_count": 19,
   "metadata": {},
   "outputs": [
    {
     "data": {
      "text/plain": [
       "<matplotlib.legend.Legend at 0x2aed63afbc8>"
      ]
     },
     "execution_count": 19,
     "metadata": {},
     "output_type": "execute_result"
    },
    {
     "data": {
      "image/png": "[encoded data removed]",
      "text/plain": [
       "<Figure size 432x288 with 1 Axes>"
      ]
     },
     "metadata": {
      "needs_background": "light"
     },
     "output_type": "display_data"
    }
   ],
   "source": [
    "# Plot for Jumps\n",
    "\n",
    "# getting data of the histogram\n",
    "count, bins_count = np.histogram(df, bins=20)\n",
    "\n",
    "# plotting PDF and CDF\n",
    "plt.plot(bins_count[1:], df_norm_df2.pd_Jumps, label=\"pd_normalized Jumps\")\n",
    "plt.plot(bins_count[1:], df2.pd_Jumps, label=\"pd_original Jumps\")\n",
    "#plt.legend()\n",
    "plt.legend(loc='center left', bbox_to_anchor=(1, 0.5))"
   ]
  },
  {
   "cell_type": "code",
   "execution_count": null,
   "metadata": {},
   "outputs": [],
   "source": []
  },
  {
   "cell_type": "markdown",
   "metadata": {
    "slideshow": {
     "slide_type": "slide"
    }
   },
   "source": [
    "#### Task 2 (4 points):  \n",
    "2. Dimensionality reduction\n",
    "    - Load 20 News Dataset\n",
    "          from sklearn.datasets import fetch_20newsgroups_vectorized\n",
    "          data = fetch_20newsgroups_vectorized(subset='train')\n",
    "    - Use KernelPCA for dimensionality reduction. Train a classifier at different nr of dimensions, check how model score changes with dimensions\n",
    "          Remember that you can load training and testing subsets of data!"
   ]
  },
  {
   "cell_type": "markdown",
   "metadata": {},
   "source": [
    "- Load 20 News Dataset"
   ]
  },
  {
   "cell_type": "code",
   "execution_count": 198,
   "metadata": {},
   "outputs": [
    {
     "name": "stdout",
     "output_type": "stream",
     "text": [
      ".. _20newsgroups_dataset:\n",
      "\n",
      "The 20 newsgroups text dataset\n",
      "------------------------------\n",
      "\n",
      "The 20 newsgroups dataset comprises around 18000 newsgroups posts on\n",
      "20 topics split in two subsets: one for training (or development)\n",
      "and the other one for testing (or for performance evaluation). The split\n",
      "between the train and test set is based upon a messages posted before\n",
      "and after a specific date.\n",
      "\n",
      "This module contains two loaders. The first one,\n",
      ":func:`sklearn.datasets.fetch_20newsgroups`,\n",
      "returns a list of the raw texts that can be fed to text feature\n",
      "extractors such as :class:`sklearn.feature_extraction.text.CountVectorizer`\n",
      "with custom parameters so as to extract feature vectors.\n",
      "The second one, :func:`sklearn.datasets.fetch_20newsgroups_vectorized`,\n",
      "returns ready-to-use features, i.e., it is not necessary to use a feature\n",
      "extractor.\n",
      "\n",
      "**Data Set Characteristics:**\n",
      "\n",
      "    =================   ==========\n",
      "    Classes                     20\n",
      "    Samples total            18846\n",
      "    Dimensionality               1\n",
      "    Features                  text\n",
      "    =================   ==========\n",
      "\n",
      "Usage\n",
      "~~~~~\n",
      "\n",
      "The :func:`sklearn.datasets.fetch_20newsgroups` function is a data\n",
      "fetching / caching functions that downloads the data archive from\n",
      "the original `20 newsgroups website`_, extracts the archive contents\n",
      "in the ``~/scikit_learn_data/20news_home`` folder and calls the\n",
      ":func:`sklearn.datasets.load_files` on either the training or\n",
      "testing set folder, or both of them::\n",
      "\n",
      "  >>> from sklearn.datasets import fetch_20newsgroups\n",
      "  >>> newsgroups_train = fetch_20newsgroups(subset='train')\n",
      "\n",
      "  >>> from pprint import pprint\n",
      "  >>> pprint(list(newsgroups_train.target_names))\n",
      "  ['alt.atheism',\n",
      "   'comp.graphics',\n",
      "   'comp.os.ms-windows.misc',\n",
      "   'comp.sys.ibm.pc.hardware',\n",
      "   'comp.sys.mac.hardware',\n",
      "   'comp.windows.x',\n",
      "   'misc.forsale',\n",
      "   'rec.autos',\n",
      "   'rec.motorcycles',\n",
      "   'rec.sport.baseball',\n",
      "   'rec.sport.hockey',\n",
      "   'sci.crypt',\n",
      "   'sci.electronics',\n",
      "   'sci.med',\n",
      "   'sci.space',\n",
      "   'soc.religion.christian',\n",
      "   'talk.politics.guns',\n",
      "   'talk.politics.mideast',\n",
      "   'talk.politics.misc',\n",
      "   'talk.religion.misc']\n",
      "\n",
      "The real data lies in the ``filenames`` and ``target`` attributes. The target\n",
      "attribute is the integer index of the category::\n",
      "\n",
      "  >>> newsgroups_train.filenames.shape\n",
      "  (11314,)\n",
      "  >>> newsgroups_train.target.shape\n",
      "  (11314,)\n",
      "  >>> newsgroups_train.target[:10]\n",
      "  array([ 7,  4,  4,  1, 14, 16, 13,  3,  2,  4])\n",
      "\n",
      "It is possible to load only a sub-selection of the categories by passing the\n",
      "list of the categories to load to the\n",
      ":func:`sklearn.datasets.fetch_20newsgroups` function::\n",
      "\n",
      "  >>> cats = ['alt.atheism', 'sci.space']\n",
      "  >>> newsgroups_train = fetch_20newsgroups(subset='train', categories=cats)\n",
      "\n",
      "  >>> list(newsgroups_train.target_names)\n",
      "  ['alt.atheism', 'sci.space']\n",
      "  >>> newsgroups_train.filenames.shape\n",
      "  (1073,)\n",
      "  >>> newsgroups_train.target.shape\n",
      "  (1073,)\n",
      "  >>> newsgroups_train.target[:10]\n",
      "  array([0, 1, 1, 1, 0, 1, 1, 0, 0, 0])\n",
      "\n",
      "Converting text to vectors\n",
      "~~~~~~~~~~~~~~~~~~~~~~~~~~\n",
      "\n",
      "In order to feed predictive or clustering models with the text data,\n",
      "one first need to turn the text into vectors of numerical values suitable\n",
      "for statistical analysis. This can be achieved with the utilities of the\n",
      "``sklearn.feature_extraction.text`` as demonstrated in the following\n",
      "example that extract `TF-IDF`_ vectors of unigram tokens\n",
      "from a subset of 20news::\n",
      "\n",
      "  >>> from sklearn.feature_extraction.text import TfidfVectorizer\n",
      "  >>> categories = ['alt.atheism', 'talk.religion.misc',\n",
      "  ...               'comp.graphics', 'sci.space']\n",
      "  >>> newsgroups_train = fetch_20newsgroups(subset='train',\n",
      "  ...                                       categories=categories)\n",
      "  >>> vectorizer = TfidfVectorizer()\n",
      "  >>> vectors = vectorizer.fit_transform(newsgroups_train.data)\n",
      "  >>> vectors.shape\n",
      "  (2034, 34118)\n",
      "\n",
      "The extracted TF-IDF vectors are very sparse, with an average of 159 non-zero\n",
      "components by sample in a more than 30000-dimensional space\n",
      "(less than .5% non-zero features)::\n",
      "\n",
      "  >>> vectors.nnz / float(vectors.shape[0])\n",
      "  159.01327...\n",
      "\n",
      ":func:`sklearn.datasets.fetch_20newsgroups_vectorized` is a function which \n",
      "returns ready-to-use token counts features instead of file names.\n",
      "\n",
      ".. _`20 newsgroups website`: http://people.csail.mit.edu/jrennie/20Newsgroups/\n",
      ".. _`TF-IDF`: https://en.wikipedia.org/wiki/Tf-idf\n",
      "\n",
      "\n",
      "Filtering text for more realistic training\n",
      "~~~~~~~~~~~~~~~~~~~~~~~~~~~~~~~~~~~~~~~~~~\n",
      "\n",
      "It is easy for a classifier to overfit on particular things that appear in the\n",
      "20 Newsgroups data, such as newsgroup headers. Many classifiers achieve very\n",
      "high F-scores, but their results would not generalize to other documents that\n",
      "aren't from this window of time.\n",
      "\n",
      "For example, let's look at the results of a multinomial Naive Bayes classifier,\n",
      "which is fast to train and achieves a decent F-score::\n",
      "\n",
      "  >>> from sklearn.naive_bayes import MultinomialNB\n",
      "  >>> from sklearn import metrics\n",
      "  >>> newsgroups_test = fetch_20newsgroups(subset='test',\n",
      "  ...                                      categories=categories)\n",
      "  >>> vectors_test = vectorizer.transform(newsgroups_test.data)\n",
      "  >>> clf = MultinomialNB(alpha=.01)\n",
      "  >>> clf.fit(vectors, newsgroups_train.target)\n",
      "  MultinomialNB(alpha=0.01, class_prior=None, fit_prior=True)\n",
      "\n",
      "  >>> pred = clf.predict(vectors_test)\n",
      "  >>> metrics.f1_score(newsgroups_test.target, pred, average='macro')\n",
      "  0.88213...\n",
      "\n",
      "(The example :ref:`sphx_glr_auto_examples_text_plot_document_classification_20newsgroups.py` shuffles\n",
      "the training and test data, instead of segmenting by time, and in that case\n",
      "multinomial Naive Bayes gets a much higher F-score of 0.88. Are you suspicious\n",
      "yet of what's going on inside this classifier?)\n",
      "\n",
      "Let's take a look at what the most informative features are:\n",
      "\n",
      "  >>> import numpy as np\n",
      "  >>> def show_top10(classifier, vectorizer, categories):\n",
      "  ...     feature_names = np.asarray(vectorizer.get_feature_names())\n",
      "  ...     for i, category in enumerate(categories):\n",
      "  ...         top10 = np.argsort(classifier.coef_[i])[-10:]\n",
      "  ...         print(\"%s: %s\" % (category, \" \".join(feature_names[top10])))\n",
      "  ...\n",
      "  >>> show_top10(clf, vectorizer, newsgroups_train.target_names)\n",
      "  alt.atheism: edu it and in you that is of to the\n",
      "  comp.graphics: edu in graphics it is for and of to the\n",
      "  sci.space: edu it that is in and space to of the\n",
      "  talk.religion.misc: not it you in is that and to of the\n",
      "\n",
      "\n",
      "You can now see many things that these features have overfit to:\n",
      "\n",
      "- Almost every group is distinguished by whether headers such as\n",
      "  ``NNTP-Posting-Host:`` and ``Distribution:`` appear more or less often.\n",
      "- Another significant feature involves whether the sender is affiliated with\n",
      "  a university, as indicated either by their headers or their signature.\n",
      "- The word \"article\" is a significant feature, based on how often people quote\n",
      "  previous posts like this: \"In article [article ID], [name] <[e-mail address]>\n",
      "  wrote:\"\n",
      "- Other features match the names and e-mail addresses of particular people who\n",
      "  were posting at the time.\n",
      "\n",
      "With such an abundance of clues that distinguish newsgroups, the classifiers\n",
      "barely have to identify topics from text at all, and they all perform at the\n",
      "same high level.\n",
      "\n",
      "For this reason, the functions that load 20 Newsgroups data provide a\n",
      "parameter called **remove**, telling it what kinds of information to strip out\n",
      "of each file. **remove** should be a tuple containing any subset of\n",
      "``('headers', 'footers', 'quotes')``, telling it to remove headers, signature\n",
      "blocks, and quotation blocks respectively.\n",
      "\n",
      "  >>> newsgroups_test = fetch_20newsgroups(subset='test',\n",
      "  ...                                      remove=('headers', 'footers', 'quotes'),\n",
      "  ...                                      categories=categories)\n",
      "  >>> vectors_test = vectorizer.transform(newsgroups_test.data)\n",
      "  >>> pred = clf.predict(vectors_test)\n",
      "  >>> metrics.f1_score(pred, newsgroups_test.target, average='macro')\n",
      "  0.77310...\n",
      "\n",
      "This classifier lost over a lot of its F-score, just because we removed\n",
      "metadata that has little to do with topic classification.\n",
      "It loses even more if we also strip this metadata from the training data:\n",
      "\n",
      "  >>> newsgroups_train = fetch_20newsgroups(subset='train',\n",
      "  ...                                       remove=('headers', 'footers', 'quotes'),\n",
      "  ...                                       categories=categories)\n",
      "  >>> vectors = vectorizer.fit_transform(newsgroups_train.data)\n",
      "  >>> clf = MultinomialNB(alpha=.01)\n",
      "  >>> clf.fit(vectors, newsgroups_train.target)\n",
      "  MultinomialNB(alpha=0.01, class_prior=None, fit_prior=True)\n",
      "\n",
      "  >>> vectors_test = vectorizer.transform(newsgroups_test.data)\n",
      "  >>> pred = clf.predict(vectors_test)\n",
      "  >>> metrics.f1_score(newsgroups_test.target, pred, average='macro')\n",
      "  0.76995...\n",
      "\n",
      "Some other classifiers cope better with this harder version of the task. Try\n",
      "running :ref:`sphx_glr_auto_examples_model_selection_grid_search_text_feature_extraction.py` with and without\n",
      "the ``--filter`` option to compare the results.\n",
      "\n",
      ".. topic:: Recommendation\n",
      "\n",
      "  When evaluating text classifiers on the 20 Newsgroups data, you\n",
      "  should strip newsgroup-related metadata. In scikit-learn, you can do this by\n",
      "  setting ``remove=('headers', 'footers', 'quotes')``. The F-score will be\n",
      "  lower because it is more realistic.\n",
      "\n",
      ".. topic:: Examples\n",
      "\n",
      "   * :ref:`sphx_glr_auto_examples_model_selection_grid_search_text_feature_extraction.py`\n",
      "\n",
      "   * :ref:`sphx_glr_auto_examples_text_plot_document_classification_20newsgroups.py`\n",
      "\n"
     ]
    }
   ],
   "source": [
    "print (data['DESCR'])"
   ]
  },
  {
   "cell_type": "code",
   "execution_count": 199,
   "metadata": {},
   "outputs": [
    {
     "name": "stdout",
     "output_type": "stream",
     "text": [
      "(11314, 130107)\n",
      "(11314,)\n"
     ]
    }
   ],
   "source": [
    "# Assignment 2 begins\n",
    "import pandas as pd\n",
    "import numpy as np \n",
    "from sklearn.datasets import fetch_20newsgroups_vectorized\n",
    "data = fetch_20newsgroups_vectorized(subset='train')\n",
    "\n",
    "# dataset has 11314 samples and 130107 dimensions\n",
    "X = data['data']\n",
    "Y = data['target']\n",
    "\n",
    "print(X.shape); print (Y.shape)"
   ]
  },
  {
   "cell_type": "markdown",
   "metadata": {},
   "source": [
    "- Use KernelPCA for dimensionality reduction. Train a classifier at different nr of dimensions, check how model score changes with dimensions.\n",
    "\n",
    "  (Remember that you can load training and testing subsets of data!)"
   ]
  },
  {
   "cell_type": "code",
   "execution_count": 200,
   "metadata": {
    "run_control": {
     "marked": false
    }
   },
   "outputs": [
    {
     "data": {
      "text/plain": [
       "((7919, 130107), (3395, 130107), (7919,), (3395,))"
      ]
     },
     "execution_count": 200,
     "metadata": {},
     "output_type": "execute_result"
    }
   ],
   "source": [
    "# Without KernelPCA application or scaling\n",
    "\n",
    "from sklearn.model_selection import train_test_split\n",
    "\n",
    "X_train, X_test, y_train, y_test = train_test_split(X, Y, test_size=0.3, random_state=123)\n",
    "X_train.shape, X_test.shape, y_train.shape, y_test.shape"
   ]
  },
  {
   "cell_type": "code",
   "execution_count": 203,
   "metadata": {
    "run_control": {
     "marked": false
    }
   },
   "outputs": [
    {
     "name": "stdout",
     "output_type": "stream",
     "text": [
      "Accuracy: 0.605301914580265\n"
     ]
    }
   ],
   "source": [
    "from sklearn.tree import DecisionTreeClassifier # Import Decision Tree Classifier\n",
    "from sklearn import metrics #Import scikit-learn metrics module for accuracy calculation\n",
    "\n",
    "# Create Decision Tree classifer object\n",
    "clf = DecisionTreeClassifier()\n",
    "\n",
    "# Train Decision Tree Classifer\n",
    "clf = clf.fit(X_train,y_train)\n",
    "\n",
    "#Predict the response for test dataset\n",
    "y_pred = clf.predict(X_test)\n",
    "\n",
    "# Model Accuracy, how often is the classifier correct?\n",
    "print(\"Accuracy:\",metrics.accuracy_score(y_test, y_pred))"
   ]
  },
  {
   "cell_type": "code",
   "execution_count": null,
   "metadata": {},
   "outputs": [],
   "source": []
  },
  {
   "cell_type": "code",
   "execution_count": 204,
   "metadata": {},
   "outputs": [
    {
     "name": "stdout",
     "output_type": "stream",
     "text": [
      "Accuracy: 0.6441826215022092\n"
     ]
    }
   ],
   "source": [
    "# With KernelPCA application\n",
    "from sklearn.decomposition import KernelPCA\n",
    "\n",
    "\n",
    "# scaling\n",
    "# We are made to understand when this dataset is loaded that it has already been normalised with sklearn normalizer but \n",
    "# we saw that when we scaled the score is better\n",
    "from sklearn.preprocessing import StandardScaler\n",
    "from sklearn.preprocessing import MinMaxScaler \n",
    "from sklearn.preprocessing import MaxAbsScaler \n",
    "\n",
    "scaler = StandardScaler(with_mean=False)\n",
    "#scaler = MaxAbsScaler(copy=True)\n",
    "\n",
    "scaler.fit(X)\n",
    "X_scaled = scaler.transform(X)\n",
    "\n",
    "\n",
    "\n",
    "# We will try 5 different dimensions 100, 50, 25, 12, 7\n",
    "\n",
    "\n",
    "######################################################### 100 Dimensions\n",
    "\n",
    "transformer = KernelPCA(n_components=100, kernel=\"sigmoid\", n_jobs = -1) # n_jobs = -1, uses all the core in my pc to make this faster\n",
    "X_transformed = transformer.fit_transform(X_scaled)\n",
    "\n",
    "X_train, X_test, y_train, y_test = train_test_split(X_transformed, Y, test_size=0.3, random_state=1)\n",
    "\n",
    "# Create Decision Tree classifer object\n",
    "clf = DecisionTreeClassifier()\n",
    "\n",
    "# Train Decision Tree Classifer\n",
    "clf = clf.fit(X_train,y_train)\n",
    "\n",
    "#Predict the response for test dataset\n",
    "y_pred = clf.predict(X_test)\n",
    "\n",
    "# Model Accuracy, how often is the classifier correct?\n",
    "print(\"Accuracy:\",metrics.accuracy_score(y_test, y_pred))"
   ]
  },
  {
   "cell_type": "code",
   "execution_count": 64,
   "metadata": {
    "run_control": {
     "marked": false
    }
   },
   "outputs": [
    {
     "name": "stdout",
     "output_type": "stream",
     "text": [
      "Accuracy: 0.6159057437407953\n"
     ]
    }
   ],
   "source": [
    "######################################################### 50 Dimensions\n",
    "\n",
    "transformer = KernelPCA(n_components=50, kernel=\"sigmoid\", n_jobs = -1)\n",
    "X_transformed = transformer.fit_transform(X_scaled)\n",
    "\n",
    "X_train, X_test, y_train, y_test = train_test_split(X_transformed, Y, test_size=0.3, random_state=1)\n",
    "\n",
    "# Create Decision Tree classifer object\n",
    "clf = DecisionTreeClassifier()\n",
    "\n",
    "# Train Decision Tree Classifer\n",
    "clf = clf.fit(X_train,y_train)\n",
    "\n",
    "#Predict the response for test dataset\n",
    "y_pred = clf.predict(X_test)\n",
    "\n",
    "# Model Accuracy, how often is the classifier correct?\n",
    "print(\"Accuracy:\",metrics.accuracy_score(y_test, y_pred))"
   ]
  },
  {
   "cell_type": "code",
   "execution_count": 65,
   "metadata": {
    "run_control": {
     "marked": false
    }
   },
   "outputs": [
    {
     "name": "stdout",
     "output_type": "stream",
     "text": [
      "Accuracy: 0.5994108983799705\n"
     ]
    }
   ],
   "source": [
    "######################################################### 25 Dimensions\n",
    "\n",
    "transformer = KernelPCA(n_components=25, kernel=\"sigmoid\", n_jobs = -1) \n",
    "X_transformed = transformer.fit_transform(X_scaled)\n",
    "\n",
    "X_train, X_test, y_train, y_test = train_test_split(X_transformed, Y, test_size=0.3, random_state=1)\n",
    "\n",
    "# Create Decision Tree classifer object\n",
    "clf = DecisionTreeClassifier()\n",
    "\n",
    "# Train Decision Tree Classifer\n",
    "clf = clf.fit(X_train,y_train)\n",
    "\n",
    "#Predict the response for test dataset\n",
    "y_pred = clf.predict(X_test)\n",
    "\n",
    "# Model Accuracy, how often is the classifier correct?\n",
    "print(\"Accuracy:\",metrics.accuracy_score(y_test, y_pred))"
   ]
  },
  {
   "cell_type": "code",
   "execution_count": 66,
   "metadata": {},
   "outputs": [
    {
     "name": "stdout",
     "output_type": "stream",
     "text": [
      "Accuracy: 0.5204712812960236\n"
     ]
    }
   ],
   "source": [
    "######################################################### 12 Dimensions\n",
    "\n",
    "transformer = KernelPCA(n_components=12, kernel=\"sigmoid\", n_jobs = -1)\n",
    "X_transformed = transformer.fit_transform(X_scaled)\n",
    "\n",
    "X_train, X_test, y_train, y_test = train_test_split(X_transformed, Y, test_size=0.3, random_state=1)\n",
    "\n",
    "# Create Decision Tree classifer object\n",
    "clf = DecisionTreeClassifier()\n",
    "\n",
    "# Train Decision Tree Classifer\n",
    "clf = clf.fit(X_train,y_train)\n",
    "\n",
    "#Predict the response for test dataset\n",
    "y_pred = clf.predict(X_test)\n",
    "\n",
    "# Model Accuracy, how often is the classifier correct?\n",
    "print(\"Accuracy:\",metrics.accuracy_score(y_test, y_pred))"
   ]
  },
  {
   "cell_type": "code",
   "execution_count": 249,
   "metadata": {},
   "outputs": [
    {
     "name": "stdout",
     "output_type": "stream",
     "text": [
      "Accuracy: 0.3387334315169367\n"
     ]
    }
   ],
   "source": [
    "######################################################### 7 Dimensions\n",
    "\n",
    "transformer = KernelPCA(n_components=7, kernel=\"sigmoid\", n_jobs = -1)\n",
    "X_transformed = transformer.fit_transform(X_scaled)\n",
    "\n",
    "X_train, X_test, y_train, y_test = train_test_split(X_transformed, Y, test_size=0.3, random_state=1)\n",
    "\n",
    "# Create Decision Tree classifer object\n",
    "clf = DecisionTreeClassifier(random_state=42)\n",
    "\n",
    "# Train Decision Tree Classifer\n",
    "clf = clf.fit(X_train,y_train)\n",
    "\n",
    "#Predict the response for test dataset\n",
    "y_pred = clf.predict(X_test)\n",
    "\n",
    "# Model Accuracy, how often is the classifier correct?\n",
    "print(\"Accuracy:\",metrics.accuracy_score(y_test, y_pred))"
   ]
  },
  {
   "cell_type": "markdown",
   "metadata": {},
   "source": [
    "OBSERVATION:\n",
    "1. The kernelPCA obvious had a better score than the original dataset\n",
    "2. The kernel sigmoid is able to discribe the data points best in higher dimensional space but performs poorly in lower dimensionals\n",
    "3. And sigmoid is the best performing of all the kernel parameters; I believe there is non-linearity in the data points of \n",
    "this dataset \n",
    "4. I expected the scores to get better with reduction of dimensions put the opposite is the case. I suspect that this case needs more dimensions to work better"
   ]
  },
  {
   "cell_type": "markdown",
   "metadata": {},
   "source": [
    "#### How will the classifier behave with parameter tuning"
   ]
  },
  {
   "cell_type": "code",
   "execution_count": 250,
   "metadata": {},
   "outputs": [
    {
     "name": "stdout",
     "output_type": "stream",
     "text": [
      "Accuracy: 0.37142857142857144\n"
     ]
    }
   ],
   "source": [
    "# using max_depth=10\n",
    "\n",
    "######################################################### 7 Dimensions\n",
    "\n",
    "transformer = KernelPCA(n_components=7, kernel=\"sigmoid\", n_jobs = -1)\n",
    "X_transformed = transformer.fit_transform(X_scaled)\n",
    "\n",
    "X_train, X_test, y_train, y_test = train_test_split(X_transformed, Y, test_size=0.3, random_state=1)\n",
    "\n",
    "# Create Decision Tree classifer object\n",
    "clf = DecisionTreeClassifier(max_depth=10, random_state=42)\n",
    "\n",
    "# Train Decision Tree Classifer\n",
    "clf = clf.fit(X_train,y_train)\n",
    "\n",
    "#Predict the response for test dataset\n",
    "y_pred = clf.predict(X_test)\n",
    "\n",
    "# Model Accuracy, how often is the classifier correct?\n",
    "print(\"Accuracy:\",metrics.accuracy_score(y_test, y_pred))\n",
    "\n",
    "## playing with max_depth increased accuracy"
   ]
  },
  {
   "cell_type": "code",
   "execution_count": 251,
   "metadata": {},
   "outputs": [
    {
     "name": "stdout",
     "output_type": "stream",
     "text": [
      "Accuracy: 0.3767304860088365\n"
     ]
    }
   ],
   "source": [
    "# Specifying minimum samples before split\n",
    "min_samples_split=20\n",
    "\n",
    "######################################################### 7 Dimensions\n",
    "\n",
    "transformer = KernelPCA(n_components=7, kernel=\"sigmoid\", n_jobs = -1)\n",
    "X_transformed = transformer.fit_transform(X_scaled)\n",
    "\n",
    "X_train, X_test, y_train, y_test = train_test_split(X_transformed, Y, test_size=0.3, random_state=1)\n",
    "\n",
    "# Create Decision Tree classifer object\n",
    "clf = DecisionTreeClassifier(max_depth=10, min_samples_split=20, random_state=42)\n",
    "\n",
    "# Train Decision Tree Classifer\n",
    "clf = clf.fit(X_train,y_train)\n",
    "\n",
    "#Predict the response for test dataset\n",
    "y_pred = clf.predict(X_test)\n",
    "\n",
    "# Model Accuracy, how often is the classifier correct?\n",
    "print(\"Accuracy:\",metrics.accuracy_score(y_test, y_pred))\n",
    "\n",
    "## playing with min_samples_split futher increased accuracy"
   ]
  },
  {
   "cell_type": "code",
   "execution_count": 255,
   "metadata": {},
   "outputs": [
    {
     "name": "stdout",
     "output_type": "stream",
     "text": [
      "Accuracy: 0.3767304860088365\n"
     ]
    }
   ],
   "source": [
    "# Specifying minimum samples in leaf node\n",
    "\n",
    "\n",
    "######################################################### 7 Dimensions\n",
    "\n",
    "transformer = KernelPCA(n_components=7, kernel=\"sigmoid\", n_jobs = -1)\n",
    "X_transformed = transformer.fit_transform(X_scaled)\n",
    "\n",
    "X_train, X_test, y_train, y_test = train_test_split(X_transformed, Y, test_size=0.3, random_state=1)\n",
    "\n",
    "# Create Decision Tree classifer object\n",
    "clf = DecisionTreeClassifier(max_depth=10, min_samples_split=20, min_samples_leaf=1, random_state=42)\n",
    "\n",
    "# Train Decision Tree Classifer\n",
    "clf = clf.fit(X_train,y_train)\n",
    "\n",
    "#Predict the response for test dataset\n",
    "y_pred = clf.predict(X_test)\n",
    "\n",
    "# Model Accuracy, how often is the classifier correct?\n",
    "print(\"Accuracy:\",metrics.accuracy_score(y_test, y_pred))\n",
    "\n",
    "## playing with min_samples_leaf did not improve accuracy"
   ]
  },
  {
   "cell_type": "code",
   "execution_count": 256,
   "metadata": {},
   "outputs": [
    {
     "name": "stdout",
     "output_type": "stream",
     "text": [
      "Accuracy: 0.3596465390279823\n"
     ]
    }
   ],
   "source": [
    "# Using Entropy instead of Gini\n",
    "\n",
    "######################################################### 7 Dimensions\n",
    "\n",
    "transformer = KernelPCA(n_components=7, kernel=\"sigmoid\", n_jobs = -1)\n",
    "X_transformed = transformer.fit_transform(X_scaled)\n",
    "\n",
    "X_train, X_test, y_train, y_test = train_test_split(X_transformed, Y, test_size=0.3, random_state=1)\n",
    "\n",
    "# Create Decision Tree classifer object\n",
    "clf = DecisionTreeClassifier(max_depth=10, min_samples_split=20, criterion=\"entropy\", random_state=42)\n",
    "\n",
    "# Train Decision Tree Classifer\n",
    "clf = clf.fit(X_train,y_train)\n",
    "\n",
    "#Predict the response for test dataset\n",
    "y_pred = clf.predict(X_test)\n",
    "\n",
    "# Model Accuracy, how often is the classifier correct?\n",
    "print(\"Accuracy:\",metrics.accuracy_score(y_test, y_pred))\n",
    "\n",
    "## Using Entropy did not improve accuracy"
   ]
  },
  {
   "cell_type": "markdown",
   "metadata": {},
   "source": [
    "#### Hyper-parameter tuning"
   ]
  },
  {
   "cell_type": "code",
   "execution_count": 285,
   "metadata": {},
   "outputs": [
    {
     "name": "stdout",
     "output_type": "stream",
     "text": [
      "Fitting 4 folds for each of 98 candidates, totalling 392 fits\n"
     ]
    },
    {
     "name": "stderr",
     "output_type": "stream",
     "text": [
      "[Parallel(n_jobs=-1)]: Using backend LokyBackend with 4 concurrent workers.\n",
      "[Parallel(n_jobs=-1)]: Done 128 tasks      | elapsed:    2.6s\n",
      "[Parallel(n_jobs=-1)]: Done 392 out of 392 | elapsed:   29.5s finished\n"
     ]
    },
    {
     "data": {
      "text/plain": [
       "GridSearchCV(cv=4, error_score=nan,\n",
       "             estimator=DecisionTreeClassifier(ccp_alpha=0.0, class_weight=None,\n",
       "                                              criterion='gini', max_depth=None,\n",
       "                                              max_features=None,\n",
       "                                              max_leaf_nodes=None,\n",
       "                                              min_impurity_decrease=0.0,\n",
       "                                              min_impurity_split=None,\n",
       "                                              min_samples_leaf=1,\n",
       "                                              min_samples_split=2,\n",
       "                                              min_weight_fraction_leaf=0.0,\n",
       "                                              presort='deprecated',\n",
       "                                              random_state=42,\n",
       "                                              splitter='best'),\n",
       "             iid='deprecated', n_jobs=-1,\n",
       "             param_grid={'criterion': ['gini', 'entropy'],\n",
       "                         'max_depth': [2, 4, 8, 10, 11, 12, 15],\n",
       "                         'min_samples_leaf': [1, 2, 3, 4, 5, 6, 7]},\n",
       "             pre_dispatch='2*n_jobs', refit=True, return_train_score=False,\n",
       "             scoring='accuracy', verbose=1)"
      ]
     },
     "execution_count": 285,
     "metadata": {},
     "output_type": "execute_result"
    }
   ],
   "source": [
    "from sklearn.model_selection import GridSearchCV\n",
    "\n",
    "######################################################### 7 Dimensions\n",
    "\n",
    "transformer = KernelPCA(n_components=7, kernel=\"sigmoid\", n_jobs = -1)\n",
    "X_transformed = transformer.fit_transform(X_scaled)\n",
    "\n",
    "X_train, X_test, y_train, y_test = train_test_split(X_transformed, Y, test_size=0.3, random_state=1)\n",
    "\n",
    "# Create Decision Tree classifer object\n",
    "clf = DecisionTreeClassifier(random_state=42)\n",
    "\n",
    "# Create the parameter grid based on the results of random search \n",
    "params = {\n",
    "    'max_depth': [2,4,8,10,11,12,15],\n",
    "    'min_samples_leaf': [1,2,3,4,5,6,7],\n",
    "    'criterion': [\"gini\", \"entropy\"]\n",
    "}\n",
    "\n",
    "\n",
    "# Instantiate the grid search model\n",
    "grid_search = GridSearchCV(estimator=clf, \n",
    "                           param_grid=params, \n",
    "                           cv=4, n_jobs=-1, verbose=1, scoring = \"accuracy\")\n",
    "\n",
    "\n",
    "grid_search.fit(X_train,y_train)"
   ]
  },
  {
   "cell_type": "code",
   "execution_count": 286,
   "metadata": {
    "run_control": {
     "marked": false
    }
   },
   "outputs": [
    {
     "data": {
      "text/html": [
       "<div>\n",
       "<style scoped>\n",
       "    .dataframe tbody tr th:only-of-type {\n",
       "        vertical-align: middle;\n",
       "    }\n",
       "\n",
       "    .dataframe tbody tr th {\n",
       "        vertical-align: top;\n",
       "    }\n",
       "\n",
       "    .dataframe thead th {\n",
       "        text-align: right;\n",
       "    }\n",
       "</style>\n",
       "<table border=\"1\" class=\"dataframe\">\n",
       "  <thead>\n",
       "    <tr style=\"text-align: right;\">\n",
       "      <th></th>\n",
       "      <th>mean_fit_time</th>\n",
       "      <th>std_fit_time</th>\n",
       "      <th>mean_score_time</th>\n",
       "      <th>std_score_time</th>\n",
       "      <th>param_criterion</th>\n",
       "      <th>param_max_depth</th>\n",
       "      <th>param_min_samples_leaf</th>\n",
       "      <th>params</th>\n",
       "      <th>split0_test_score</th>\n",
       "      <th>split1_test_score</th>\n",
       "      <th>split2_test_score</th>\n",
       "      <th>split3_test_score</th>\n",
       "      <th>mean_test_score</th>\n",
       "      <th>std_test_score</th>\n",
       "      <th>rank_test_score</th>\n",
       "    </tr>\n",
       "  </thead>\n",
       "  <tbody>\n",
       "    <tr>\n",
       "      <th>0</th>\n",
       "      <td>0.024983</td>\n",
       "      <td>0.001872</td>\n",
       "      <td>0.001000</td>\n",
       "      <td>4.256623e-07</td>\n",
       "      <td>gini</td>\n",
       "      <td>2</td>\n",
       "      <td>1</td>\n",
       "      <td>{'criterion': 'gini', 'max_depth': 2, 'min_sam...</td>\n",
       "      <td>0.158081</td>\n",
       "      <td>0.155556</td>\n",
       "      <td>0.158586</td>\n",
       "      <td>0.163214</td>\n",
       "      <td>0.158859</td>\n",
       "      <td>0.002764</td>\n",
       "      <td>92</td>\n",
       "    </tr>\n",
       "    <tr>\n",
       "      <th>1</th>\n",
       "      <td>0.027233</td>\n",
       "      <td>0.002946</td>\n",
       "      <td>0.001500</td>\n",
       "      <td>4.998448e-04</td>\n",
       "      <td>gini</td>\n",
       "      <td>2</td>\n",
       "      <td>2</td>\n",
       "      <td>{'criterion': 'gini', 'max_depth': 2, 'min_sam...</td>\n",
       "      <td>0.158081</td>\n",
       "      <td>0.155556</td>\n",
       "      <td>0.158586</td>\n",
       "      <td>0.163214</td>\n",
       "      <td>0.158859</td>\n",
       "      <td>0.002764</td>\n",
       "      <td>92</td>\n",
       "    </tr>\n",
       "    <tr>\n",
       "      <th>2</th>\n",
       "      <td>0.026734</td>\n",
       "      <td>0.002772</td>\n",
       "      <td>0.001000</td>\n",
       "      <td>1.352645e-06</td>\n",
       "      <td>gini</td>\n",
       "      <td>2</td>\n",
       "      <td>3</td>\n",
       "      <td>{'criterion': 'gini', 'max_depth': 2, 'min_sam...</td>\n",
       "      <td>0.158081</td>\n",
       "      <td>0.155556</td>\n",
       "      <td>0.158586</td>\n",
       "      <td>0.163214</td>\n",
       "      <td>0.158859</td>\n",
       "      <td>0.002764</td>\n",
       "      <td>92</td>\n",
       "    </tr>\n",
       "    <tr>\n",
       "      <th>3</th>\n",
       "      <td>0.025485</td>\n",
       "      <td>0.002061</td>\n",
       "      <td>0.000999</td>\n",
       "      <td>5.430242e-07</td>\n",
       "      <td>gini</td>\n",
       "      <td>2</td>\n",
       "      <td>4</td>\n",
       "      <td>{'criterion': 'gini', 'max_depth': 2, 'min_sam...</td>\n",
       "      <td>0.158081</td>\n",
       "      <td>0.155556</td>\n",
       "      <td>0.158586</td>\n",
       "      <td>0.163214</td>\n",
       "      <td>0.158859</td>\n",
       "      <td>0.002764</td>\n",
       "      <td>92</td>\n",
       "    </tr>\n",
       "    <tr>\n",
       "      <th>4</th>\n",
       "      <td>0.025984</td>\n",
       "      <td>0.001581</td>\n",
       "      <td>0.001000</td>\n",
       "      <td>3.769729e-07</td>\n",
       "      <td>gini</td>\n",
       "      <td>2</td>\n",
       "      <td>5</td>\n",
       "      <td>{'criterion': 'gini', 'max_depth': 2, 'min_sam...</td>\n",
       "      <td>0.158081</td>\n",
       "      <td>0.155556</td>\n",
       "      <td>0.158586</td>\n",
       "      <td>0.163214</td>\n",
       "      <td>0.158859</td>\n",
       "      <td>0.002764</td>\n",
       "      <td>92</td>\n",
       "    </tr>\n",
       "  </tbody>\n",
       "</table>\n",
       "</div>"
      ],
      "text/plain": [
       "   mean_fit_time  std_fit_time  mean_score_time  std_score_time  \\\n",
       "0       0.024983      0.001872         0.001000    4.256623e-07   \n",
       "1       0.027233      0.002946         0.001500    4.998448e-04   \n",
       "2       0.026734      0.002772         0.001000    1.352645e-06   \n",
       "3       0.025485      0.002061         0.000999    5.430242e-07   \n",
       "4       0.025984      0.001581         0.001000    3.769729e-07   \n",
       "\n",
       "  param_criterion param_max_depth param_min_samples_leaf  \\\n",
       "0            gini               2                      1   \n",
       "1            gini               2                      2   \n",
       "2            gini               2                      3   \n",
       "3            gini               2                      4   \n",
       "4            gini               2                      5   \n",
       "\n",
       "                                              params  split0_test_score  \\\n",
       "0  {'criterion': 'gini', 'max_depth': 2, 'min_sam...           0.158081   \n",
       "1  {'criterion': 'gini', 'max_depth': 2, 'min_sam...           0.158081   \n",
       "2  {'criterion': 'gini', 'max_depth': 2, 'min_sam...           0.158081   \n",
       "3  {'criterion': 'gini', 'max_depth': 2, 'min_sam...           0.158081   \n",
       "4  {'criterion': 'gini', 'max_depth': 2, 'min_sam...           0.158081   \n",
       "\n",
       "   split1_test_score  split2_test_score  split3_test_score  mean_test_score  \\\n",
       "0           0.155556           0.158586           0.163214         0.158859   \n",
       "1           0.155556           0.158586           0.163214         0.158859   \n",
       "2           0.155556           0.158586           0.163214         0.158859   \n",
       "3           0.155556           0.158586           0.163214         0.158859   \n",
       "4           0.155556           0.158586           0.163214         0.158859   \n",
       "\n",
       "   std_test_score  rank_test_score  \n",
       "0        0.002764               92  \n",
       "1        0.002764               92  \n",
       "2        0.002764               92  \n",
       "3        0.002764               92  \n",
       "4        0.002764               92  "
      ]
     },
     "execution_count": 286,
     "metadata": {},
     "output_type": "execute_result"
    }
   ],
   "source": [
    "#grid_search.score(X_test)\n",
    "\n",
    "score_df = pd.DataFrame(grid_search.cv_results_)\n",
    "score_df.head()"
   ]
  },
  {
   "cell_type": "code",
   "execution_count": 287,
   "metadata": {},
   "outputs": [
    {
     "data": {
      "text/plain": [
       "DecisionTreeClassifier(ccp_alpha=0.0, class_weight=None, criterion='entropy',\n",
       "                       max_depth=8, max_features=None, max_leaf_nodes=None,\n",
       "                       min_impurity_decrease=0.0, min_impurity_split=None,\n",
       "                       min_samples_leaf=5, min_samples_split=2,\n",
       "                       min_weight_fraction_leaf=0.0, presort='deprecated',\n",
       "                       random_state=42, splitter='best')"
      ]
     },
     "execution_count": 287,
     "metadata": {},
     "output_type": "execute_result"
    }
   ],
   "source": [
    "grid_search.best_estimator_"
   ]
  },
  {
   "cell_type": "code",
   "execution_count": 289,
   "metadata": {},
   "outputs": [
    {
     "name": "stdout",
     "output_type": "stream",
     "text": [
      "Accuracy: 0.3628865979381443\n"
     ]
    }
   ],
   "source": [
    "# lets fit our model again with these parameters\n",
    "\n",
    "######################################################### 7 Dimensions\n",
    "\n",
    "transformer = KernelPCA(n_components=7, kernel=\"sigmoid\", n_jobs = -1)\n",
    "X_transformed = transformer.fit_transform(X_scaled)\n",
    "\n",
    "X_train, X_test, y_train, y_test = train_test_split(X_transformed, Y, test_size=0.3, random_state=1)\n",
    "\n",
    "# Create Decision Tree classifer object\n",
    "clf = DecisionTreeClassifier(criterion='entropy',max_depth=8,min_samples_leaf=5,min_samples_split=2,presort='deprecated',random_state=42, splitter='best')\n",
    "\n",
    "# Train Decision Tree Classifer\n",
    "clf = clf.fit(X_train,y_train)\n",
    "\n",
    "#Predict the response for test dataset\n",
    "y_pred = clf.predict(X_test)\n",
    "\n",
    "# Model Accuracy, how often is the classifier correct?\n",
    "print(\"Accuracy:\",metrics.accuracy_score(y_test, y_pred))\n",
    "\n",
    "## the score is close to when we manual tweaked the model"
   ]
  },
  {
   "cell_type": "code",
   "execution_count": 292,
   "metadata": {},
   "outputs": [
    {
     "name": "stdout",
     "output_type": "stream",
     "text": [
      "Accuracy: 0.3861561119293078\n"
     ]
    }
   ],
   "source": [
    "# But how will another classifier do?\n",
    "\n",
    "# lets see a KNN\n",
    "\n",
    "from sklearn.neighbors import KNeighborsClassifier\n",
    "\n",
    "\n",
    "######################################################### 7 Dimensions\n",
    "\n",
    "transformer = KernelPCA(n_components=7, kernel=\"sigmoid\", n_jobs = -1)\n",
    "X_transformed = transformer.fit_transform(X_scaled)\n",
    "\n",
    "X_train, X_test, y_train, y_test = train_test_split(X_transformed, Y, test_size=0.3, random_state=1)\n",
    "\n",
    "# Create Decision Tree classifer object\n",
    "knn_model = KNeighborsClassifier(n_neighbors=5)\n",
    "\n",
    "# Train Decision Tree Classifer\n",
    "knn_model = knn_model.fit(X_train,y_train)\n",
    "\n",
    "#Predict the response for test dataset\n",
    "y_pred = knn_model.predict(X_test)\n",
    "\n",
    "# Model Accuracy, how often is the classifier correct?\n",
    "print(\"Accuracy:\",metrics.accuracy_score(y_test, y_pred))\n",
    "\n",
    "## With tweaking nearest neighbors, we could achieve a better score than the decision tree with out hyper parameter tuning"
   ]
  },
  {
   "cell_type": "markdown",
   "metadata": {
    "slideshow": {
     "slide_type": "slide"
    }
   },
   "source": [
    "#### Task 3 (8 points):\n",
    "\n",
    "3. Clustering\n",
    "    - Cluster 20 News Dataset into 20 clusters. Print true class vs cluster distribution. \n",
    "          Did you manage to recover the original clusters?  (give students an example plot)"
   ]
  },
  {
   "cell_type": "code",
   "execution_count": 86,
   "metadata": {},
   "outputs": [],
   "source": [
    "### Cluster 20 News Dataset into 20 clusters\n",
    "\n",
    "from sklearn.cluster import KMeans\n",
    "\n",
    "transformer = KernelPCA(n_components=100, kernel=\"sigmoid\")\n",
    "X_transformed = transformer.fit_transform(X_scaled)\n",
    "\n",
    "kmeans = KMeans(n_clusters=20)\n",
    "kmeans.fit(X_transformed)\n",
    "y_kmeans = kmeans.predict(X_transformed)"
   ]
  },
  {
   "cell_type": "code",
   "execution_count": 92,
   "metadata": {
    "run_control": {
     "marked": false
    }
   },
   "outputs": [
    {
     "data": {
      "image/png": "[encoded data removed]",
      "text/plain": [
       "<Figure size 432x288 with 1 Axes>"
      ]
     },
     "metadata": {
      "needs_background": "light"
     },
     "output_type": "display_data"
    }
   ],
   "source": [
    "plt.scatter(X_transformed[:, 0], X_transformed[:, 1], c=y_kmeans, s=50, cmap='viridis')\n",
    "\n",
    "centers = kmeans.cluster_centers_\n",
    "plt.scatter(centers[:, 0], centers[:, 1], alpha=0.5);"
   ]
  },
  {
   "cell_type": "markdown",
   "metadata": {},
   "source": [
    "Observation:\n",
    "After the data was kernelPCA transform, we can make out about 4 prominent clusters"
   ]
  },
  {
   "cell_type": "code",
   "execution_count": 88,
   "metadata": {},
   "outputs": [
    {
     "name": "stdout",
     "output_type": "stream",
     "text": [
      "[[ 6.68939810e-04 -1.47212013e-03  1.61923069e-03 ... -1.58790918e-02\n",
      "  -3.26557655e-04  4.74040138e-03]\n",
      " [ 9.25186689e-03 -1.50741071e-02  1.22232389e-01 ...  4.51176524e-03\n",
      "   1.32019751e-03  3.34277102e-04]\n",
      " [-8.17125127e-04 -2.90105857e-04 -4.18814202e-04 ... -1.49636021e-03\n",
      "  -6.73639039e-03 -3.53895945e-03]\n",
      " ...\n",
      " [ 2.61608212e-01  3.57838662e-01  1.82899996e-02 ...  9.46000726e-04\n",
      "   6.54768323e-04  7.19045680e-05]\n",
      " [ 1.64345114e-02 -1.89148940e-02 -1.96525542e-03 ... -4.24515523e-03\n",
      "   1.07584678e-03 -1.95753459e-04]\n",
      " [ 7.03488310e-04 -1.06284454e-03 -2.03969341e-02 ...  8.41446083e-03\n",
      "  -1.49263295e-02  9.68294849e-03]]\n",
      "[15  4  3 ...  4  4  2]\n"
     ]
    }
   ],
   "source": [
    "###  Print true class vs cluster distribution.\n",
    "\n",
    "\n",
    "# Get the cluster centroids or distribution\n",
    "print(kmeans.cluster_centers_)\n",
    "    \n",
    "# Get the cluster labels or classes\n",
    "print(kmeans.labels_)"
   ]
  },
  {
   "cell_type": "code",
   "execution_count": 168,
   "metadata": {},
   "outputs": [],
   "source": [
    "X=data.data\n",
    "scaler = StandardScaler(with_mean=False)\n",
    "scaler.fit(X)\n",
    "X_scaled = scaler.transform(X)"
   ]
  },
  {
   "cell_type": "code",
   "execution_count": 172,
   "metadata": {},
   "outputs": [
    {
     "data": {
      "image/png": "[encoded data removed]",
      "text/plain": [
       "<Figure size 432x288 with 1 Axes>"
      ]
     },
     "metadata": {
      "needs_background": "light"
     },
     "output_type": "display_data"
    }
   ],
   "source": [
    "from sklearn.cluster import KMeans\n",
    "wcss = []\n",
    "for i in range(1,25):\n",
    "    kmeans = KMeans(n_clusters=i,init='k-means++',max_iter=300,n_init=10,random_state=0)\n",
    "    kmeans.fit(X_scaled)\n",
    "    wcss.append(kmeans.inertia_)\n",
    "plt.plot(range(1,25),wcss)\n",
    "plt.title('The Elbow Method')\n",
    "plt.xlabel('Number of clusters')\n",
    "plt.ylabel('WCSS')\n",
    "plt.savefig('elbow.png')\n",
    "plt.show()"
   ]
  },
  {
   "cell_type": "markdown",
   "metadata": {},
   "source": [
    "OBSERVATION: \n",
    "\n",
    "By the example plot above, We see several original elbow points indicating number of clusters, we major ones as just before 10 and 15 and at 20.\n"
   ]
  },
  {
   "cell_type": "markdown",
   "metadata": {},
   "source": [
    "#### Printing classes and their predictions"
   ]
  },
  {
   "cell_type": "code",
   "execution_count": 175,
   "metadata": {},
   "outputs": [],
   "source": [
    "Y = data['target']\n",
    "\n",
    "# some generated clusters\n",
    "Clusters = Y.copy()\n",
    "Clusters[:3000] = 3"
   ]
  },
  {
   "cell_type": "code",
   "execution_count": 177,
   "metadata": {},
   "outputs": [
    {
     "data": {
      "text/plain": [
       "(11314,)"
      ]
     },
     "execution_count": 177,
     "metadata": {},
     "output_type": "execute_result"
    }
   ],
   "source": [
    "Clusters.shape"
   ]
  },
  {
   "cell_type": "code",
   "execution_count": 178,
   "metadata": {},
   "outputs": [
    {
     "name": "stdout",
     "output_type": "stream",
     "text": [
      "[ 3  3  3 ... 14 12 11]\n"
     ]
    }
   ],
   "source": [
    "print(Clusters)"
   ]
  },
  {
   "cell_type": "markdown",
   "metadata": {
    "slideshow": {
     "slide_type": "slide"
    }
   },
   "source": [
    "Printing classes and their predictions"
   ]
  },
  {
   "cell_type": "code",
   "execution_count": 179,
   "metadata": {},
   "outputs": [
    {
     "data": {
      "text/plain": [
       "<matplotlib.axes._subplots.AxesSubplot at 0x2ae8829fb48>"
      ]
     },
     "execution_count": 179,
     "metadata": {},
     "output_type": "execute_result"
    },
    {
     "data": {
      "image/png": "[encoded data removed]",
      "text/plain": [
       "<Figure size 432x288 with 2 Axes>"
      ]
     },
     "metadata": {
      "needs_background": "light"
     },
     "output_type": "display_data"
    }
   ],
   "source": [
    "from sklearn.metrics import confusion_matrix\n",
    "import seaborn as sn\n",
    "\n",
    "cm = confusion_matrix(Y, Clusters)\n",
    "sn.heatmap(cm, yticklabels=data['target_names'], \n",
    "           xticklabels=[\"cluster {}\".format(i) for i in range(20)])"
   ]
  },
  {
   "cell_type": "markdown",
   "metadata": {},
   "source": [
    "Observation:\n",
    "    1. Cluster 3(comp.sys.ibm.pc.hardware) shows signs of the most active with over 500 news items\n",
    "    2. Cluster O(atheism), Cluster 18(talk.politics.misc) and Cluster 19(talk.religion.misc) showed the least activity"
   ]
  }
 ],
 "metadata": {
  "celltoolbar": "Slideshow",
  "hide_input": false,
  "kernelspec": {
   "display_name": "Python 3",
   "language": "python",
   "name": "python3"
  },
  "language_info": {
   "codemirror_mode": {
    "name": "ipython",
    "version": 3
   },
   "file_extension": ".py",
   "mimetype": "text/x-python",
   "name": "python",
   "nbconvert_exporter": "python",
   "pygments_lexer": "ipython3",
   "version": "3.7.6"
  }
 },
 "nbformat": 4,
 "nbformat_minor": 2
}
