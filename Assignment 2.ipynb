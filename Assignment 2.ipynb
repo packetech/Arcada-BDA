{
 "cells": [
  {
   "cell_type": "markdown",
   "metadata": {
    "slideshow": {
     "slide_type": "slide"
    }
   },
   "source": [
    "# Assignment 2 - Unsupervised Learning \n",
    "`"
   ]
  },
  {
   "cell_type": "markdown",
   "metadata": {
    "slideshow": {
     "slide_type": "slide"
    }
   },
   "source": [
    "#### Task 1 (3 points):\n",
    "\n",
    "1. Data normalization\n",
    "    - Look at features of Linnerud dataset, tell what is the problem with them\n",
    "          from sklearn.datasets import load_linnerud\n",
    "    - Normalize these features using a correct method. Plot original vs normalized probability density."
   ]
  },
  {
   "cell_type": "markdown",
   "metadata": {},
   "source": [
    "##### Look at features of Linnerud dataset\n",
    "- Tell what is the problem with them"
   ]
  },
  {
   "cell_type": "code",
   "execution_count": 1,
   "metadata": {},
   "outputs": [],
   "source": [
    "import numpy as np\n",
    "import pandas as pd\n",
    "from sklearn.datasets import load_linnerud\n",
    "import seaborn as sns\n",
    "import matplotlib.pyplot as plt\n",
    "%matplotlib inline"
   ]
  },
  {
   "cell_type": "code",
   "execution_count": 2,
   "metadata": {},
   "outputs": [],
   "source": [
    "data = load_linnerud()\n",
    "df = pd.DataFrame(data.data, columns=data.feature_names)"
   ]
  },
  {
   "cell_type": "code",
   "execution_count": 3,
   "metadata": {},
   "outputs": [
    {
     "name": "stdout",
     "output_type": "stream",
     "text": [
      "<class 'pandas.core.frame.DataFrame'>\n",
      "RangeIndex: 20 entries, 0 to 19\n",
      "Data columns (total 3 columns):\n",
      " #   Column  Non-Null Count  Dtype  \n",
      "---  ------  --------------  -----  \n",
      " 0   Chins   20 non-null     float64\n",
      " 1   Situps  20 non-null     float64\n",
      " 2   Jumps   20 non-null     float64\n",
      "dtypes: float64(3)\n",
      "memory usage: 608.0 bytes\n"
     ]
    }
   ],
   "source": [
    "df.info()"
   ]
  },
  {
   "cell_type": "code",
   "execution_count": 4,
   "metadata": {},
   "outputs": [
    {
     "name": "stdout",
     "output_type": "stream",
     "text": [
      "    Chins  Situps  Jumps\n",
      "0     5.0   162.0   60.0\n",
      "1     2.0   110.0   60.0\n",
      "2    12.0   101.0  101.0\n",
      "3    12.0   105.0   37.0\n",
      "4    13.0   155.0   58.0\n",
      "5     4.0   101.0   42.0\n",
      "6     8.0   101.0   38.0\n",
      "7     6.0   125.0   40.0\n",
      "8    15.0   200.0   40.0\n",
      "9    17.0   251.0  250.0\n",
      "10   17.0   120.0   38.0\n",
      "11   13.0   210.0  115.0\n",
      "12   14.0   215.0  105.0\n",
      "13    1.0    50.0   50.0\n",
      "14    6.0    70.0   31.0\n",
      "15   12.0   210.0  120.0\n",
      "16    4.0    60.0   25.0\n",
      "17   11.0   230.0   80.0\n",
      "18   15.0   225.0   73.0\n",
      "19    2.0   110.0   43.0\n"
     ]
    }
   ],
   "source": [
    "print (df)"
   ]
  },
  {
   "cell_type": "code",
   "execution_count": 5,
   "metadata": {
    "scrolled": true
   },
   "outputs": [
    {
     "data": {
      "text/plain": [
       "<matplotlib.axes._subplots.AxesSubplot at 0x2aed45628c8>"
      ]
     },
     "execution_count": 5,
     "metadata": {},
     "output_type": "execute_result"
    },
    {
     "data": {
      "image/png": "[encoded data removed]",
      "text/plain": [
       "<Figure size 432x288 with 1 Axes>"
      ]
     },
     "metadata": {
      "needs_background": "light"
     },
     "output_type": "display_data"
    }
   ],
   "source": [
    "sns.boxplot(x=df['Chins'])"
   ]
  },
  {
   "cell_type": "code",
   "execution_count": 6,
   "metadata": {},
   "outputs": [
    {
     "data": {
      "text/plain": [
       "<matplotlib.axes._subplots.AxesSubplot at 0x2aed6148d08>"
      ]
     },
     "execution_count": 6,
     "metadata": {},
     "output_type": "execute_result"
    },
    {
     "data": {
      "image/png": "[encoded data removed]",
      "text/plain": [
       "<Figure size 432x288 with 1 Axes>"
      ]
     },
     "metadata": {
      "needs_background": "light"
     },
     "output_type": "display_data"
    }
   ],
   "source": [
    "sns.boxplot(x=df['Situps'])"
   ]
  },
  {
   "cell_type": "code",
   "execution_count": 7,
   "metadata": {},
   "outputs": [
    {
     "data": {
      "text/plain": [
       "<matplotlib.axes._subplots.AxesSubplot at 0x2aed61f46c8>"
      ]
     },
     "execution_count": 7,
     "metadata": {},
     "output_type": "execute_result"
    },
    {
     "data": {
      "image/png": "[encoded data removed]",
      "text/plain": [
       "<Figure size 432x288 with 1 Axes>"
      ]
     },
     "metadata": {
      "needs_background": "light"
     },
     "output_type": "display_data"
    }
   ],
   "source": [
    "sns.boxplot(x=df['Jumps'])"
   ]
  },
  {
   "cell_type": "markdown",
   "metadata": {},
   "source": [
    "Observation: \n",
    "      \n",
    "      - The dataset are on different scales as clearly shown by the plots\n",
    "      - Besides, we cannot tell the unit of measurement"
   ]
  },
  {
   "cell_type": "code",
   "execution_count": null,
   "metadata": {},
   "outputs": [],
   "source": []
  },
  {
   "cell_type": "markdown",
   "metadata": {},
   "source": [
    "##### Normalize & Plot\n",
    "- Normalize these features using a correct method\n",
    "- Plot original vs normalized probability density."
   ]
  },
  {
   "cell_type": "code",
   "execution_count": 8,
   "metadata": {},
   "outputs": [],
   "source": [
    "# we should use a minmaxscaler, because we don't have much outliers and we need the resultant features to be same scale\n",
    "# but again we will use MaxAbsScaler, since out data is all positive\n",
    "\n",
    "from sklearn.preprocessing import MaxAbsScaler\n",
    "\n",
    "transformer = MaxAbsScaler().fit(df)\n",
    "df_norm = transformer.transform(df)"
   ]
  },
  {
   "cell_type": "code",
   "execution_count": 9,
   "metadata": {},
   "outputs": [
    {
     "name": "stdout",
     "output_type": "stream",
     "text": [
      "[[0.29411765 0.64541833 0.24      ]\n",
      " [0.11764706 0.43824701 0.24      ]\n",
      " [0.70588235 0.40239044 0.404     ]\n",
      " [0.70588235 0.41832669 0.148     ]\n",
      " [0.76470588 0.61752988 0.232     ]\n",
      " [0.23529412 0.40239044 0.168     ]\n",
      " [0.47058824 0.40239044 0.152     ]\n",
      " [0.35294118 0.49800797 0.16      ]\n",
      " [0.88235294 0.79681275 0.16      ]\n",
      " [1.         1.         1.        ]\n",
      " [1.         0.47808765 0.152     ]\n",
      " [0.76470588 0.83665339 0.46      ]\n",
      " [0.82352941 0.85657371 0.42      ]\n",
      " [0.05882353 0.19920319 0.2       ]\n",
      " [0.35294118 0.27888446 0.124     ]\n",
      " [0.70588235 0.83665339 0.48      ]\n",
      " [0.23529412 0.23904382 0.1       ]\n",
      " [0.64705882 0.91633466 0.32      ]\n",
      " [0.88235294 0.89641434 0.292     ]\n",
      " [0.11764706 0.43824701 0.172     ]]\n"
     ]
    }
   ],
   "source": [
    "print (df_norm)"
   ]
  },
  {
   "cell_type": "code",
   "execution_count": 10,
   "metadata": {
    "run_control": {
     "marked": false
    }
   },
   "outputs": [],
   "source": [
    "# calculate probabilities densities on original data\n",
    "from scipy.stats import norm\n",
    "\n",
    "#The syntax is: scipy.stats.norm.pdf(3, loc=mean, scale=std)\n",
    "# mean is np.mean(data)\n",
    "# standard deviation is np.std(data)\n",
    "\n",
    "df['pd_Chins'] = norm.pdf(df['Chins'], loc=np.mean(df['Chins']), scale=np.std(df['Chins']))\n",
    "df['pd_Situps'] = norm.pdf(df['Situps'], loc=np.mean(df['Situps']), scale=np.std(df['Situps']))\n",
    "df['pd_Jumps'] = norm.pdf(df['Jumps'], loc=np.mean(df['Jumps']), scale=np.std(df['Jumps']))"
   ]
  },
  {
   "cell_type": "code",
   "execution_count": 11,
   "metadata": {},
   "outputs": [
    {
     "name": "stdout",
     "output_type": "stream",
     "text": [
      "    Chins  Situps  Jumps  pd_Chins  pd_Situps  pd_Jumps\n",
      "0     5.0   162.0   60.0  0.053324   0.006308  0.007814\n",
      "1     2.0   110.0   60.0  0.027221   0.005520  0.007814\n",
      "2    12.0   101.0  101.0  0.068503   0.005010  0.006610\n",
      "3    12.0   105.0   37.0  0.068503   0.005244  0.006393\n",
      "4    13.0   155.0   58.0  0.061068   0.006464  0.007744\n",
      "5     4.0   101.0   42.0  0.044253   0.005010  0.006800\n",
      "6     8.0   101.0   38.0  0.074422   0.005010  0.006478\n",
      "7     6.0   125.0   40.0  0.061879   0.006181  0.006642\n",
      "8    15.0   200.0   40.0  0.043346   0.004391  0.006642\n",
      "9    17.0   251.0  250.0  0.026463   0.001467  0.000012\n",
      "10   17.0   120.0   38.0  0.026463   0.005992  0.006478\n",
      "11   13.0   210.0  115.0  0.061068   0.003742  0.005351\n",
      "12   14.0   215.0  105.0  0.052428   0.003420  0.006273\n",
      "13    1.0    50.0   50.0  0.020177   0.001917  0.007350\n",
      "14    6.0    70.0   31.0  0.061879   0.003037  0.005859\n",
      "15   12.0   210.0  120.0  0.068503   0.003742  0.004868\n",
      "16    4.0    60.0   25.0  0.044253   0.002445  0.005293\n",
      "17   11.0   230.0   80.0  0.074003   0.002508  0.007833\n",
      "18   15.0   225.0   73.0  0.043346   0.002800  0.007971\n",
      "19    2.0   110.0   43.0  0.027221   0.005520  0.006876\n"
     ]
    }
   ],
   "source": [
    "print(df)"
   ]
  },
  {
   "cell_type": "code",
   "execution_count": 12,
   "metadata": {},
   "outputs": [
    {
     "data": {
      "text/plain": [
       "array([0.29411765, 0.11764706, 0.70588235, 0.70588235, 0.76470588,\n",
       "       0.23529412, 0.47058824, 0.35294118, 0.88235294, 1.        ,\n",
       "       1.        , 0.76470588, 0.82352941, 0.05882353, 0.35294118,\n",
       "       0.70588235, 0.23529412, 0.64705882, 0.88235294, 0.11764706])"
      ]
     },
     "execution_count": 12,
     "metadata": {},
     "output_type": "execute_result"
    }
   ],
   "source": [
    "df_norm[:,0]"
   ]
  },
  {
   "cell_type": "code",
   "execution_count": 13,
   "metadata": {},
   "outputs": [
    {
     "name": "stdout",
     "output_type": "stream",
     "text": [
      "       Chins    Situps  Jumps\n",
      "0   0.294118  0.645418  0.240\n",
      "1   0.117647  0.438247  0.240\n",
      "2   0.705882  0.402390  0.404\n",
      "3   0.705882  0.418327  0.148\n",
      "4   0.764706  0.617530  0.232\n",
      "5   0.235294  0.402390  0.168\n",
      "6   0.470588  0.402390  0.152\n",
      "7   0.352941  0.498008  0.160\n",
      "8   0.882353  0.796813  0.160\n",
      "9   1.000000  1.000000  1.000\n",
      "10  1.000000  0.478088  0.152\n",
      "11  0.764706  0.836653  0.460\n",
      "12  0.823529  0.856574  0.420\n",
      "13  0.058824  0.199203  0.200\n",
      "14  0.352941  0.278884  0.124\n",
      "15  0.705882  0.836653  0.480\n",
      "16  0.235294  0.239044  0.100\n",
      "17  0.647059  0.916335  0.320\n",
      "18  0.882353  0.896414  0.292\n",
      "19  0.117647  0.438247  0.172\n"
     ]
    }
   ],
   "source": [
    "# converting df_norm into a dataframe for the calculation of probability densities\n",
    "\n",
    "Chins = pd.DataFrame(df_norm[:,0], columns=['Chins']) \n",
    "Situps = pd.DataFrame(df_norm[:,1], columns=['Situps'])\n",
    "Jumps = pd.DataFrame(df_norm[:,2], columns=['Jumps'])\n",
    "\n",
    "df_norm_df = Chins.join(Situps)\n",
    "df_norm_df = df_norm_df.join(Jumps)\n",
    "\n",
    "print(df_norm_df)"
   ]
  },
  {
   "cell_type": "code",
   "execution_count": 14,
   "metadata": {},
   "outputs": [],
   "source": [
    "# so probability densities for normalized data \n",
    "\n",
    "df_norm_df['pd_Chins'] = norm.pdf(df_norm_df['Chins'], loc=np.mean(df_norm_df['Chins']), scale=np.std(df_norm_df['Chins']))\n",
    "df_norm_df['pd_Situps'] = norm.pdf(df_norm_df['Situps'], loc=np.mean(df_norm_df['Situps']), scale=np.std(df_norm_df['Situps']))\n",
    "df_norm_df['pd_Jumps'] = norm.pdf(df_norm_df['Jumps'], loc=np.mean(df_norm_df['Jumps']), scale=np.std(df_norm_df['Jumps']))"
   ]
  },
  {
   "cell_type": "code",
   "execution_count": 15,
   "metadata": {},
   "outputs": [
    {
     "name": "stdout",
     "output_type": "stream",
     "text": [
      "       Chins    Situps  Jumps  pd_Chins  pd_Situps  pd_Jumps\n",
      "0   0.294118  0.645418  0.240  0.906507   1.583357  1.953616\n",
      "1   0.117647  0.438247  0.240  0.462765   1.385431  1.953616\n",
      "2   0.705882  0.402390  0.404  1.164554   1.257450  1.652455\n",
      "3   0.705882  0.418327  0.148  1.164554   1.316337  1.598321\n",
      "4   0.764706  0.617530  0.232  1.038160   1.622427  1.936020\n",
      "5   0.235294  0.402390  0.168  0.752304   1.257450  1.699961\n",
      "6   0.470588  0.402390  0.152  1.265172   1.257450  1.619447\n",
      "7   0.352941  0.498008  0.160  1.051937   1.551390  1.660545\n",
      "8   0.882353  0.796813  0.160  0.736878   1.102204  1.660545\n",
      "9   1.000000  1.000000  1.000  0.449874   0.368204  0.003111\n",
      "10  1.000000  0.478088  0.152  0.449874   1.504048  1.619447\n",
      "11  0.764706  0.836653  0.460  1.038160   0.939366  1.337718\n",
      "12  0.823529  0.856574  0.420  0.891271   0.858504  1.568152\n",
      "13  0.058824  0.199203  0.200  0.343009   0.481151  1.837545\n",
      "14  0.352941  0.278884  0.124  1.051937   0.762246  1.464862\n",
      "15  0.705882  0.836653  0.480  1.164554   0.939366  1.217119\n",
      "16  0.235294  0.239044  0.100  0.752304   0.613801  1.323336\n",
      "17  0.647059  0.916335  0.320  1.258044   0.629429  1.958314\n",
      "18  0.882353  0.896414  0.292  0.736878   0.702745  1.992636\n",
      "19  0.117647  0.438247  0.172  0.462765   1.385431  1.718986\n"
     ]
    }
   ],
   "source": [
    "print(df_norm_df)"
   ]
  },
  {
   "cell_type": "code",
   "execution_count": 16,
   "metadata": {},
   "outputs": [],
   "source": [
    "# dropping un-needed features\n",
    "\n",
    "df2 = df.drop(['Chins', 'Situps', 'Jumps'], axis='columns')\n",
    "df_norm_df2 = df_norm_df.drop(['Chins', 'Situps', 'Jumps'], axis='columns')"
   ]
  },
  {
   "cell_type": "code",
   "execution_count": 17,
   "metadata": {},
   "outputs": [
    {
     "data": {
      "text/plain": [
       "<matplotlib.legend.Legend at 0x2aed62b5c08>"
      ]
     },
     "execution_count": 17,
     "metadata": {},
     "output_type": "execute_result"
    },
    {
     "data": {
      "image/png": "[encoded data removed]",
      "text/plain": [
       "<Figure size 432x288 with 1 Axes>"
      ]
     },
     "metadata": {
      "needs_background": "light"
     },
     "output_type": "display_data"
    }
   ],
   "source": [
    "# Plot for Chins\n",
    "\n",
    "# getting data of the histogram\n",
    "count, bins_count = np.histogram(df, bins=20)\n",
    "\n",
    "# plotting PDF and CDF\n",
    "plt.plot(bins_count[1:], df_norm_df2.pd_Chins, label=\"pd_normalized Chins\")\n",
    "plt.plot(bins_count[1:], df2.pd_Chins, label=\"pd_original Chins\")\n",
    "#plt.legend()\n",
    "plt.legend(loc='center left', bbox_to_anchor=(1, 0.5))"
   ]
  },
  {
   "cell_type": "code",
   "execution_count": 18,
   "metadata": {},
   "outputs": [
    {
     "data": {
      "text/plain": [
       "<matplotlib.legend.Legend at 0x2aed6333dc8>"
      ]
     },
     "execution_count": 18,
     "metadata": {},
     "output_type": "execute_result"
    },
    {
     "data": {
      "image/png": "[encoded data removed]",
      "text/plain": [
       "<Figure size 432x288 with 1 Axes>"
      ]
     },
     "metadata": {
      "needs_background": "light"
     },
     "output_type": "display_data"
    }
   ],
   "source": [
    "# Plot for Situps\n",
    "\n",
    "# getting data of the histogram\n",
    "count, bins_count = np.histogram(df, bins=20)\n",
    "\n",
    "# plotting PDF and CDF\n",
    "plt.plot(bins_count[1:], df_norm_df2.pd_Situps, label=\"pd_normalized Situps\")\n",
    "plt.plot(bins_count[1:], df2.pd_Situps, label=\"pd_original Situps\")\n",
    "#plt.legend()\n",
    "plt.legend(loc='center left', bbox_to_anchor=(1, 0.5))"
   ]
  },
  {
   "cell_type": "code",
   "execution_count": 19,
   "metadata": {},
   "outputs": [
    {
     "data": {
      "text/plain": [
       "<matplotlib.legend.Legend at 0x2aed63afbc8>"
      ]
     },
     "execution_count": 19,
     "metadata": {},
     "output_type": "execute_result"
    },
    {
     "data": {
      "image/png": "[encoded data removed]",
      "text/plain": [
       "<Figure size 432x288 with 1 Axes>"
      ]
     },
     "metadata": {
      "needs_background": "light"
     },
     "output_type": "display_data"
    }
   ],
   "source": [
    "# Plot for Jumps\n",
    "\n",
    "# getting data of the histogram\n",
    "count, bins_count = np.histogram(df, bins=20)\n",
    "\n",
    "# plotting PDF and CDF\n",
    "plt.plot(bins_count[1:], df_norm_df2.pd_Jumps, label=\"pd_normalized Jumps\")\n",
    "plt.plot(bins_count[1:], df2.pd_Jumps, label=\"pd_original Jumps\")\n",
    "#plt.legend()\n",
    "plt.legend(loc='center left', bbox_to_anchor=(1, 0.5))"
   ]
  },
  {
   "cell_type": "code",
   "execution_count": null,
   "metadata": {},
   "outputs": [],
   "source": []
  },
  {
   "cell_type": "markdown",
   "metadata": {
    "slideshow": {
     "slide_type": "slide"
    }
   },
   "source": [
    "#### Task 2 (4 points):  \n",
    "2. Dimensionality reduction\n",
    "    - Load 20 News Dataset\n",
    "          from sklearn.datasets import fetch_20newsgroups_vectorized\n",
    "          data = fetch_20newsgroups_vectorized(subset='train')\n",
    "    - Use KernelPCA for dimensionality reduction. Train a classifier at different nr of dimensions, check how model score changes with dimensions\n",
    "          Remember that you can load training and testing subsets of data!"
   ]
  },
  {
   "cell_type": "markdown",
   "metadata": {},
   "source": [
    "- Load 20 News Dataset"
   ]
  },
  {
   "cell_type": "code",
   "execution_count": 35,
   "metadata": {},
   "outputs": [
    {
     "name": "stdout",
     "output_type": "stream",
     "text": [
      "(11314, 130107)\n",
      "(11314,)\n"
     ]
    }
   ],
   "source": [
    "# Assignment 2 begins\n",
    "import pandas as pd\n",
    "import numpy as np \n",
    "from sklearn.datasets import fetch_20newsgroups_vectorized\n",
    "data = fetch_20newsgroups_vectorized(subset='train')\n",
    "\n",
    "# dataset has 11314 samples and 130107 dimensions\n",
    "X = data['data']\n",
    "Y = data['target']\n",
    "\n",
    "print(X.shape); print (Y.shape)"
   ]
  },
  {
   "cell_type": "markdown",
   "metadata": {},
   "source": [
    "- Use KernelPCA for dimensionality reduction. Train a classifier at different nr of dimensions, check how model score changes with dimensions.\n",
    "\n",
    "  (Remember that you can load training and testing subsets of data!)"
   ]
  },
  {
   "cell_type": "code",
   "execution_count": 37,
   "metadata": {
    "run_control": {
     "marked": false
    }
   },
   "outputs": [
    {
     "data": {
      "text/plain": [
       "((7919, 130107), (3395, 130107), (7919,), (3395,))"
      ]
     },
     "execution_count": 37,
     "metadata": {},
     "output_type": "execute_result"
    }
   ],
   "source": [
    "# Without KernelPCA application or scaling\n",
    "\n",
    "from sklearn.model_selection import train_test_split\n",
    "\n",
    "X_train, X_test, y_train, y_test = train_test_split(X, Y, test_size=0.3, random_state=123)\n",
    "X_train.shape, X_test.shape, y_train.shape, y_test.shape"
   ]
  },
  {
   "cell_type": "code",
   "execution_count": 38,
   "metadata": {
    "run_control": {
     "marked": false
    }
   },
   "outputs": [
    {
     "name": "stdout",
     "output_type": "stream",
     "text": [
      "Accuracy: 0.6067746686303387\n"
     ]
    }
   ],
   "source": [
    "from sklearn.tree import DecisionTreeClassifier # Import Decision Tree Classifier\n",
    "from sklearn import metrics #Import scikit-learn metrics module for accuracy calculation\n",
    "\n",
    "# Create Decision Tree classifer object\n",
    "clf = DecisionTreeClassifier()\n",
    "\n",
    "# Train Decision Tree Classifer\n",
    "clf = clf.fit(X_train,y_train)\n",
    "\n",
    "#Predict the response for test dataset\n",
    "y_pred = clf.predict(X_test)\n",
    "\n",
    "# Model Accuracy, how often is the classifier correct?\n",
    "print(\"Accuracy:\",metrics.accuracy_score(y_test, y_pred))"
   ]
  },
  {
   "cell_type": "code",
   "execution_count": null,
   "metadata": {},
   "outputs": [],
   "source": []
  },
  {
   "cell_type": "code",
   "execution_count": 63,
   "metadata": {},
   "outputs": [
    {
     "name": "stdout",
     "output_type": "stream",
     "text": [
      "Accuracy: 0.6506627393225332\n"
     ]
    }
   ],
   "source": [
    "# With KernelPCA application\n",
    "from sklearn.decomposition import KernelPCA\n",
    "\n",
    "\n",
    "# scaling\n",
    "# We are made to understand when this dataset is loaded that it has already been normalised with sklearn normalizer but \n",
    "# we saw that when we scaled the score is better\n",
    "from sklearn.preprocessing import StandardScaler\n",
    "from sklearn.preprocessing import MinMaxScaler \n",
    "from sklearn.preprocessing import MaxAbsScaler \n",
    "\n",
    "scaler = StandardScaler(with_mean=False)\n",
    "#scaler = MaxAbsScaler(copy=True)\n",
    "\n",
    "scaler.fit(X)\n",
    "X_scaled = scaler.transform(X)\n",
    "\n",
    "\n",
    "\n",
    "# We will try 5 different dimensions 100, 50, 25, 12, 7\n",
    "\n",
    "\n",
    "######################################################### 100 Dimensions\n",
    "\n",
    "transformer = KernelPCA(n_components=100, kernel=\"sigmoid\")\n",
    "X_transformed = transformer.fit_transform(X_scaled)\n",
    "\n",
    "X_train, X_test, y_train, y_test = train_test_split(X_transformed, Y, test_size=0.3, random_state=1)\n",
    "\n",
    "# Create Decision Tree classifer object\n",
    "clf = DecisionTreeClassifier()\n",
    "\n",
    "# Train Decision Tree Classifer\n",
    "clf = clf.fit(X_train,y_train)\n",
    "\n",
    "#Predict the response for test dataset\n",
    "y_pred = clf.predict(X_test)\n",
    "\n",
    "# Model Accuracy, how often is the classifier correct?\n",
    "print(\"Accuracy:\",metrics.accuracy_score(y_test, y_pred))"
   ]
  },
  {
   "cell_type": "code",
   "execution_count": 64,
   "metadata": {
    "run_control": {
     "marked": false
    }
   },
   "outputs": [
    {
     "name": "stdout",
     "output_type": "stream",
     "text": [
      "Accuracy: 0.6159057437407953\n"
     ]
    }
   ],
   "source": [
    "######################################################### 50 Dimensions\n",
    "\n",
    "transformer = KernelPCA(n_components=50, kernel=\"sigmoid\")\n",
    "X_transformed = transformer.fit_transform(X_scaled)\n",
    "\n",
    "X_train, X_test, y_train, y_test = train_test_split(X_transformed, Y, test_size=0.3, random_state=1)\n",
    "\n",
    "# Create Decision Tree classifer object\n",
    "clf = DecisionTreeClassifier()\n",
    "\n",
    "# Train Decision Tree Classifer\n",
    "clf = clf.fit(X_train,y_train)\n",
    "\n",
    "#Predict the response for test dataset\n",
    "y_pred = clf.predict(X_test)\n",
    "\n",
    "# Model Accuracy, how often is the classifier correct?\n",
    "print(\"Accuracy:\",metrics.accuracy_score(y_test, y_pred))"
   ]
  },
  {
   "cell_type": "code",
   "execution_count": 65,
   "metadata": {
    "run_control": {
     "marked": false
    }
   },
   "outputs": [
    {
     "name": "stdout",
     "output_type": "stream",
     "text": [
      "Accuracy: 0.5994108983799705\n"
     ]
    }
   ],
   "source": [
    "######################################################### 25 Dimensions\n",
    "\n",
    "transformer = KernelPCA(n_components=25, kernel=\"sigmoid\")\n",
    "X_transformed = transformer.fit_transform(X_scaled)\n",
    "\n",
    "X_train, X_test, y_train, y_test = train_test_split(X_transformed, Y, test_size=0.3, random_state=1)\n",
    "\n",
    "# Create Decision Tree classifer object\n",
    "clf = DecisionTreeClassifier()\n",
    "\n",
    "# Train Decision Tree Classifer\n",
    "clf = clf.fit(X_train,y_train)\n",
    "\n",
    "#Predict the response for test dataset\n",
    "y_pred = clf.predict(X_test)\n",
    "\n",
    "# Model Accuracy, how often is the classifier correct?\n",
    "print(\"Accuracy:\",metrics.accuracy_score(y_test, y_pred))"
   ]
  },
  {
   "cell_type": "code",
   "execution_count": 66,
   "metadata": {},
   "outputs": [
    {
     "name": "stdout",
     "output_type": "stream",
     "text": [
      "Accuracy: 0.5204712812960236\n"
     ]
    }
   ],
   "source": [
    "######################################################### 12 Dimensions\n",
    "\n",
    "transformer = KernelPCA(n_components=12, kernel=\"sigmoid\")\n",
    "X_transformed = transformer.fit_transform(X_scaled)\n",
    "\n",
    "X_train, X_test, y_train, y_test = train_test_split(X_transformed, Y, test_size=0.3, random_state=1)\n",
    "\n",
    "# Create Decision Tree classifer object\n",
    "clf = DecisionTreeClassifier()\n",
    "\n",
    "# Train Decision Tree Classifer\n",
    "clf = clf.fit(X_train,y_train)\n",
    "\n",
    "#Predict the response for test dataset\n",
    "y_pred = clf.predict(X_test)\n",
    "\n",
    "# Model Accuracy, how often is the classifier correct?\n",
    "print(\"Accuracy:\",metrics.accuracy_score(y_test, y_pred))"
   ]
  },
  {
   "cell_type": "code",
   "execution_count": 67,
   "metadata": {},
   "outputs": [
    {
     "name": "stdout",
     "output_type": "stream",
     "text": [
      "Accuracy: 0.3431516936671576\n"
     ]
    }
   ],
   "source": [
    "######################################################### 7 Dimensions\n",
    "\n",
    "transformer = KernelPCA(n_components=7, kernel=\"sigmoid\")\n",
    "X_transformed = transformer.fit_transform(X_scaled)\n",
    "\n",
    "X_train, X_test, y_train, y_test = train_test_split(X_transformed, Y, test_size=0.3, random_state=1)\n",
    "\n",
    "# Create Decision Tree classifer object\n",
    "clf = DecisionTreeClassifier()\n",
    "\n",
    "# Train Decision Tree Classifer\n",
    "clf = clf.fit(X_train,y_train)\n",
    "\n",
    "#Predict the response for test dataset\n",
    "y_pred = clf.predict(X_test)\n",
    "\n",
    "# Model Accuracy, how often is the classifier correct?\n",
    "print(\"Accuracy:\",metrics.accuracy_score(y_test, y_pred))"
   ]
  },
  {
   "cell_type": "markdown",
   "metadata": {},
   "source": [
    "OBSERVATION:\n",
    "1. The kernelPCA obvious had a better score than the original dataset\n",
    "2. The kernel sigmoid is able to discribe the data points best in higher dimensional space but performs poorly in lower dimensionals\n",
    "3. And sigmoid is the best performing of all the kernel parameters; I believe there is non-linearity in the data points of \n",
    "this dataset \n",
    "4. I expected the scores to get better with reduction of dimensions put the opposite is the case. I suspect that this case needs more dimensions to work better"
   ]
  },
  {
   "cell_type": "markdown",
   "metadata": {
    "slideshow": {
     "slide_type": "slide"
    }
   },
   "source": [
    "#### Task 3 (8 points):\n",
    "\n",
    "3. Clustering\n",
    "    - Cluster 20 News Dataset into 20 clusters. Print true class vs cluster distribution. \n",
    "          Did you manage to recover the original clusters?  (give students an example plot)"
   ]
  },
  {
   "cell_type": "markdown",
   "metadata": {
    "slideshow": {
     "slide_type": "slide"
    }
   },
   "source": [
    "20 News Groups dataset"
   ]
  },
  {
   "cell_type": "code",
   "execution_count": 250,
   "metadata": {},
   "outputs": [
    {
     "name": "stdout",
     "output_type": "stream",
     "text": [
      "Requirement already satisfied: mglearn in c:\\programdata\\anaconda3\\lib\\site-packages (0.1.9)\n",
      "Requirement already satisfied: pandas in c:\\programdata\\anaconda3\\lib\\site-packages (from mglearn) (1.0.1)\n",
      "Requirement already satisfied: cycler in c:\\programdata\\anaconda3\\lib\\site-packages (from mglearn) (0.10.0)\n",
      "Requirement already satisfied: matplotlib in c:\\programdata\\anaconda3\\lib\\site-packages (from mglearn) (3.1.3)\n",
      "Requirement already satisfied: pillow in c:\\programdata\\anaconda3\\lib\\site-packages (from mglearn) (7.0.0)\n",
      "Requirement already satisfied: scikit-learn in c:\\programdata\\anaconda3\\lib\\site-packages (from mglearn) (0.22.1)\n",
      "Requirement already satisfied: numpy in c:\\programdata\\anaconda3\\lib\\site-packages (from mglearn) (1.18.1)\n",
      "Requirement already satisfied: imageio in c:\\programdata\\anaconda3\\lib\\site-packages (from mglearn) (2.6.1)\n",
      "Requirement already satisfied: joblib in c:\\programdata\\anaconda3\\lib\\site-packages (from mglearn) (0.14.1)\n",
      "Requirement already satisfied: python-dateutil>=2.6.1 in c:\\programdata\\anaconda3\\lib\\site-packages (from pandas->mglearn) (2.8.1)\n",
      "Requirement already satisfied: pytz>=2017.2 in c:\\programdata\\anaconda3\\lib\\site-packages (from pandas->mglearn) (2019.3)\n",
      "Requirement already satisfied: six in c:\\programdata\\anaconda3\\lib\\site-packages (from cycler->mglearn) (1.14.0)\n",
      "Requirement already satisfied: pyparsing!=2.0.4,!=2.1.2,!=2.1.6,>=2.0.1 in c:\\programdata\\anaconda3\\lib\\site-packages (from matplotlib->mglearn) (2.4.6)\n",
      "Requirement already satisfied: kiwisolver>=1.0.1 in c:\\programdata\\anaconda3\\lib\\site-packages (from matplotlib->mglearn) (1.1.0)\n",
      "Requirement already satisfied: scipy>=0.17.0 in c:\\programdata\\anaconda3\\lib\\site-packages (from scikit-learn->mglearn) (1.4.1)\n",
      "Requirement already satisfied: setuptools in c:\\programdata\\anaconda3\\lib\\site-packages (from kiwisolver>=1.0.1->matplotlib->mglearn) (45.2.0.post20200210)\n"
     ]
    },
    {
     "name": "stderr",
     "output_type": "stream",
     "text": [
      "C:\\ProgramData\\Anaconda3\\lib\\importlib\\_bootstrap.py:219: RuntimeWarning: numpy.ufunc size changed, may indicate binary incompatibility. Expected 192 from C header, got 216 from PyObject\n",
      "  return f(*args, **kwds)\n"
     ]
    }
   ],
   "source": [
    "!pip install mglearn\n",
    "import mglearn"
   ]
  },
  {
   "cell_type": "code",
   "execution_count": null,
   "metadata": {},
   "outputs": [],
   "source": []
  },
  {
   "cell_type": "code",
   "execution_count": null,
   "metadata": {
    "run_control": {
     "marked": false
    }
   },
   "outputs": [],
   "source": [
    "# Run kMeans with 20 clusters on our dataset\n",
    "       \n",
    "from sklearn.cluster import KMeans\n",
    "from matplotlib import pyplot as plt\n",
    "# using X and Y\n",
    "\n",
    "fig, axes = plt.subplots(1, 1, figsize=(12, 6))\n",
    "# using 20 cluster centers:\n",
    "kmeans = KMeans(n_clusters=20)\n",
    "kmeans.fit(X)\n",
    "assignments = kmeans.labels_\n",
    "mglearn.discrete_scatter(X[:,0], X[:,1], assignments, ax=axes)\n"
   ]
  },
  {
   "cell_type": "code",
   "execution_count": null,
   "metadata": {},
   "outputs": [],
   "source": [
    "KernelPCA = KernelPCA(n_components=100, kernel='sigmoid')\n",
    "KernelPCA.fit(X_scaled)\n",
    "\n",
    "# transform data onto the all kernelPCA components\n",
    "X_scaled_KernelPCA = KernelPCA.transform(X_scaled)\n",
    "print(\"Original shape: {}\".format(str(X_scaled.shape)))\n",
    "print(\"Reduced shape: {}\".format(str(X_scaled_KernelPCA.shape)))"
   ]
  },
  {
   "cell_type": "code",
   "execution_count": null,
   "metadata": {},
   "outputs": [],
   "source": [
    "fig, axes = plt.subplots(1, 1, figsize=(12, 6))\n",
    "# using 20 cluster centers:\n",
    "kmeans = KMeans(n_clusters=20)\n",
    "kmeans.fit(X_scaled_KernelPCA)\n",
    "assignments = kmeans.labels_\n",
    "mglearn.discrete_scatter(X_scaled_KernelPCA[:,0], X_scaled_KernelPCA[:,1], assignments, ax=axes)\n"
   ]
  },
  {
   "cell_type": "code",
   "execution_count": null,
   "metadata": {},
   "outputs": [],
   "source": []
  },
  {
   "cell_type": "code",
   "execution_count": null,
   "metadata": {},
   "outputs": [],
   "source": []
  },
  {
   "cell_type": "markdown",
   "metadata": {
    "slideshow": {
     "slide_type": "slide"
    }
   },
   "source": [
    "Printing classes and their predictions"
   ]
  },
  {
   "cell_type": "code",
   "execution_count": 3,
   "metadata": {},
   "outputs": [],
   "source": [
    "Y = data['target']\n",
    "\n",
    "# some generated clusters\n",
    "Clusters = Y.copy()\n",
    "Clusters[:3000] = 3"
   ]
  },
  {
   "cell_type": "code",
   "execution_count": 5,
   "metadata": {
    "slideshow": {
     "slide_type": "slide"
    }
   },
   "outputs": [
    {
     "data": {
      "text/plain": [
       "<matplotlib.axes._subplots.AxesSubplot at 0x22fca155188>"
      ]
     },
     "execution_count": 5,
     "metadata": {},
     "output_type": "execute_result"
    },
    {
     "data": {
      "image/png": "[encoded data removed]",
      "text/plain": [
       "<Figure size 432x288 with 2 Axes>"
      ]
     },
     "metadata": {
      "needs_background": "light"
     },
     "output_type": "display_data"
    }
   ],
   "source": [
    "from sklearn.metrics import confusion_matrix\n",
    "import seaborn as sn\n",
    "\n",
    "cm = confusion_matrix(Y, Clusters)\n",
    "sn.heatmap(cm, yticklabels=data['target_names'], \n",
    "           xticklabels=[\"cluster {}\".format(i) for i in range(20)])"
   ]
  },
  {
   "cell_type": "code",
   "execution_count": null,
   "metadata": {},
   "outputs": [],
   "source": []
  }
 ],
 "metadata": {
  "celltoolbar": "Slideshow",
  "hide_input": false,
  "kernelspec": {
   "display_name": "Python 3",
   "language": "python",
   "name": "python3"
  },
  "language_info": {
   "codemirror_mode": {
    "name": "ipython",
    "version": 3
   },
   "file_extension": ".py",
   "mimetype": "text/x-python",
   "name": "python",
   "nbconvert_exporter": "python",
   "pygments_lexer": "ipython3",
   "version": "3.7.6"
  }
 },
 "nbformat": 4,
 "nbformat_minor": 2
}
